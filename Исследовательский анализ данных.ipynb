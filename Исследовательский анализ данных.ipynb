{
 "cells": [
  {
   "cell_type": "markdown",
   "metadata": {
    "id": "-VFbjcb3Awb7"
   },
   "source": [
    "# Исследование объявлений о продаже квартир\n",
    "\n",
    "В распоряжении данные сервиса Яндекс Недвижимость — архив объявлений о продаже квартир в Санкт-Петербурге и соседних населённых пунктах за несколько лет. Вам нужно научиться определять рыночную стоимость объектов недвижимости. Для этого проведите исследовательский анализ данных и установите параметры, влияющие на цену объектов. Это позволит построить автоматизированную систему: она отследит аномалии и мошенническую деятельность.\n",
    "\n",
    "По каждой квартире на продажу доступны два вида данных. Первые вписаны пользователем, вторые — получены автоматически на основе картографических данных. Например, расстояние до центра, аэропорта и других объектов — эти данные автоматически получены из геосервисов. Количество парков и водоёмов также заполняется без участия пользователя."
   ]
  },
  {
   "cell_type": "markdown",
   "metadata": {
    "id": "aeFLH07FAwb9"
   },
   "source": [
    "### Откройте файл с данными и изучите общую информацию"
   ]
  },
  {
   "cell_type": "code",
   "execution_count": 1,
   "metadata": {
    "id": "7MZxY65pAwb9",
    "scrolled": true
   },
   "outputs": [
    {
     "name": "stdout",
     "output_type": "stream",
     "text": [
      "<class 'pandas.core.frame.DataFrame'>\n",
      "RangeIndex: 23699 entries, 0 to 23698\n",
      "Data columns (total 22 columns):\n",
      " #   Column                Non-Null Count  Dtype  \n",
      "---  ------                --------------  -----  \n",
      " 0   total_images          23699 non-null  int64  \n",
      " 1   last_price            23699 non-null  float64\n",
      " 2   total_area            23699 non-null  float64\n",
      " 3   first_day_exposition  23699 non-null  object \n",
      " 4   rooms                 23699 non-null  int64  \n",
      " 5   ceiling_height        14504 non-null  float64\n",
      " 6   floors_total          23613 non-null  float64\n",
      " 7   living_area           21796 non-null  float64\n",
      " 8   floor                 23699 non-null  int64  \n",
      " 9   is_apartment          2775 non-null   object \n",
      " 10  studio                23699 non-null  bool   \n",
      " 11  open_plan             23699 non-null  bool   \n",
      " 12  kitchen_area          21421 non-null  float64\n",
      " 13  balcony               12180 non-null  float64\n",
      " 14  locality_name         23650 non-null  object \n",
      " 15  airports_nearest      18157 non-null  float64\n",
      " 16  cityCenters_nearest   18180 non-null  float64\n",
      " 17  parks_around3000      18181 non-null  float64\n",
      " 18  parks_nearest         8079 non-null   float64\n",
      " 19  ponds_around3000      18181 non-null  float64\n",
      " 20  ponds_nearest         9110 non-null   float64\n",
      " 21  days_exposition       20518 non-null  float64\n",
      "dtypes: bool(2), float64(14), int64(3), object(3)\n",
      "memory usage: 3.7+ MB\n"
     ]
    }
   ],
   "source": [
    "import pandas as pd\n",
    "data = pd.read_csv('/datasets/real_estate_data.csv',  sep='\\t') #откроем и прочитаем датасет\n",
    "data.info() #узнаем информацию о таблице"
   ]
  },
  {
   "cell_type": "markdown",
   "metadata": {},
   "source": [
    "проверим тип данных каждого столбца:\n",
    "- total_images - int\n",
    "- last_price - float\n",
    "- total_area - float\n",
    "- first_day_exposition - object, но должен быть datetime, тк это дата\n",
    "- rooms - int\n",
    "- ceiling_height - float\n",
    "- floors_total - float, но должен быть int, тк не может быть 2,5 этажа\n",
    "- living_area - float\n",
    "- floor - int\n",
    "- is_apartment - object, но должен быть bool, тк указанно в задании\n",
    "- studio - bool\n",
    "- open_plan - bool\n",
    "- kitchen_area - float\n",
    "- balcony - float\n",
    "- locality_name - object\n",
    "- airports_nearest - float\n",
    "- cityCenters_nearest - float\n",
    "- parks_around3000 - float, но должен быть int, тк не может быть 2,5 парка\n",
    "- parks_nearest - float\n",
    "- ponds_around3000 - float, но должен быть int, тк не может быть 2,5 водоёма\n",
    "- ponds_nearest - float\n",
    "- days_exposition - float, но должен быть int, тк необходимо указать целое число дней"
   ]
  },
  {
   "cell_type": "code",
   "execution_count": 2,
   "metadata": {},
   "outputs": [
    {
     "data": {
      "text/html": [
       "<div>\n",
       "<style scoped>\n",
       "    .dataframe tbody tr th:only-of-type {\n",
       "        vertical-align: middle;\n",
       "    }\n",
       "\n",
       "    .dataframe tbody tr th {\n",
       "        vertical-align: top;\n",
       "    }\n",
       "\n",
       "    .dataframe thead th {\n",
       "        text-align: right;\n",
       "    }\n",
       "</style>\n",
       "<table border=\"1\" class=\"dataframe\">\n",
       "  <thead>\n",
       "    <tr style=\"text-align: right;\">\n",
       "      <th></th>\n",
       "      <th>total_images</th>\n",
       "      <th>last_price</th>\n",
       "      <th>total_area</th>\n",
       "      <th>first_day_exposition</th>\n",
       "      <th>rooms</th>\n",
       "      <th>ceiling_height</th>\n",
       "      <th>floors_total</th>\n",
       "      <th>living_area</th>\n",
       "      <th>floor</th>\n",
       "      <th>is_apartment</th>\n",
       "      <th>...</th>\n",
       "      <th>kitchen_area</th>\n",
       "      <th>balcony</th>\n",
       "      <th>locality_name</th>\n",
       "      <th>airports_nearest</th>\n",
       "      <th>cityCenters_nearest</th>\n",
       "      <th>parks_around3000</th>\n",
       "      <th>parks_nearest</th>\n",
       "      <th>ponds_around3000</th>\n",
       "      <th>ponds_nearest</th>\n",
       "      <th>days_exposition</th>\n",
       "    </tr>\n",
       "  </thead>\n",
       "  <tbody>\n",
       "    <tr>\n",
       "      <th>0</th>\n",
       "      <td>20</td>\n",
       "      <td>13000000.0</td>\n",
       "      <td>108.0</td>\n",
       "      <td>2019-03-07T00:00:00</td>\n",
       "      <td>3</td>\n",
       "      <td>2.70</td>\n",
       "      <td>16.0</td>\n",
       "      <td>51.0</td>\n",
       "      <td>8</td>\n",
       "      <td>NaN</td>\n",
       "      <td>...</td>\n",
       "      <td>25.0</td>\n",
       "      <td>NaN</td>\n",
       "      <td>Санкт-Петербург</td>\n",
       "      <td>18863.0</td>\n",
       "      <td>16028.0</td>\n",
       "      <td>1.0</td>\n",
       "      <td>482.0</td>\n",
       "      <td>2.0</td>\n",
       "      <td>755.0</td>\n",
       "      <td>NaN</td>\n",
       "    </tr>\n",
       "    <tr>\n",
       "      <th>1</th>\n",
       "      <td>7</td>\n",
       "      <td>3350000.0</td>\n",
       "      <td>40.4</td>\n",
       "      <td>2018-12-04T00:00:00</td>\n",
       "      <td>1</td>\n",
       "      <td>NaN</td>\n",
       "      <td>11.0</td>\n",
       "      <td>18.6</td>\n",
       "      <td>1</td>\n",
       "      <td>NaN</td>\n",
       "      <td>...</td>\n",
       "      <td>11.0</td>\n",
       "      <td>2.0</td>\n",
       "      <td>посёлок Шушары</td>\n",
       "      <td>12817.0</td>\n",
       "      <td>18603.0</td>\n",
       "      <td>0.0</td>\n",
       "      <td>NaN</td>\n",
       "      <td>0.0</td>\n",
       "      <td>NaN</td>\n",
       "      <td>81.0</td>\n",
       "    </tr>\n",
       "    <tr>\n",
       "      <th>2</th>\n",
       "      <td>10</td>\n",
       "      <td>5196000.0</td>\n",
       "      <td>56.0</td>\n",
       "      <td>2015-08-20T00:00:00</td>\n",
       "      <td>2</td>\n",
       "      <td>NaN</td>\n",
       "      <td>5.0</td>\n",
       "      <td>34.3</td>\n",
       "      <td>4</td>\n",
       "      <td>NaN</td>\n",
       "      <td>...</td>\n",
       "      <td>8.3</td>\n",
       "      <td>0.0</td>\n",
       "      <td>Санкт-Петербург</td>\n",
       "      <td>21741.0</td>\n",
       "      <td>13933.0</td>\n",
       "      <td>1.0</td>\n",
       "      <td>90.0</td>\n",
       "      <td>2.0</td>\n",
       "      <td>574.0</td>\n",
       "      <td>558.0</td>\n",
       "    </tr>\n",
       "    <tr>\n",
       "      <th>3</th>\n",
       "      <td>0</td>\n",
       "      <td>64900000.0</td>\n",
       "      <td>159.0</td>\n",
       "      <td>2015-07-24T00:00:00</td>\n",
       "      <td>3</td>\n",
       "      <td>NaN</td>\n",
       "      <td>14.0</td>\n",
       "      <td>NaN</td>\n",
       "      <td>9</td>\n",
       "      <td>NaN</td>\n",
       "      <td>...</td>\n",
       "      <td>NaN</td>\n",
       "      <td>0.0</td>\n",
       "      <td>Санкт-Петербург</td>\n",
       "      <td>28098.0</td>\n",
       "      <td>6800.0</td>\n",
       "      <td>2.0</td>\n",
       "      <td>84.0</td>\n",
       "      <td>3.0</td>\n",
       "      <td>234.0</td>\n",
       "      <td>424.0</td>\n",
       "    </tr>\n",
       "    <tr>\n",
       "      <th>4</th>\n",
       "      <td>2</td>\n",
       "      <td>10000000.0</td>\n",
       "      <td>100.0</td>\n",
       "      <td>2018-06-19T00:00:00</td>\n",
       "      <td>2</td>\n",
       "      <td>3.03</td>\n",
       "      <td>14.0</td>\n",
       "      <td>32.0</td>\n",
       "      <td>13</td>\n",
       "      <td>NaN</td>\n",
       "      <td>...</td>\n",
       "      <td>41.0</td>\n",
       "      <td>NaN</td>\n",
       "      <td>Санкт-Петербург</td>\n",
       "      <td>31856.0</td>\n",
       "      <td>8098.0</td>\n",
       "      <td>2.0</td>\n",
       "      <td>112.0</td>\n",
       "      <td>1.0</td>\n",
       "      <td>48.0</td>\n",
       "      <td>121.0</td>\n",
       "    </tr>\n",
       "  </tbody>\n",
       "</table>\n",
       "<p>5 rows × 22 columns</p>\n",
       "</div>"
      ],
      "text/plain": [
       "   total_images  last_price  total_area first_day_exposition  rooms  \\\n",
       "0            20  13000000.0       108.0  2019-03-07T00:00:00      3   \n",
       "1             7   3350000.0        40.4  2018-12-04T00:00:00      1   \n",
       "2            10   5196000.0        56.0  2015-08-20T00:00:00      2   \n",
       "3             0  64900000.0       159.0  2015-07-24T00:00:00      3   \n",
       "4             2  10000000.0       100.0  2018-06-19T00:00:00      2   \n",
       "\n",
       "   ceiling_height  floors_total  living_area  floor is_apartment  ...  \\\n",
       "0            2.70          16.0         51.0      8          NaN  ...   \n",
       "1             NaN          11.0         18.6      1          NaN  ...   \n",
       "2             NaN           5.0         34.3      4          NaN  ...   \n",
       "3             NaN          14.0          NaN      9          NaN  ...   \n",
       "4            3.03          14.0         32.0     13          NaN  ...   \n",
       "\n",
       "   kitchen_area  balcony    locality_name  airports_nearest  \\\n",
       "0          25.0      NaN  Санкт-Петербург           18863.0   \n",
       "1          11.0      2.0   посёлок Шушары           12817.0   \n",
       "2           8.3      0.0  Санкт-Петербург           21741.0   \n",
       "3           NaN      0.0  Санкт-Петербург           28098.0   \n",
       "4          41.0      NaN  Санкт-Петербург           31856.0   \n",
       "\n",
       "  cityCenters_nearest  parks_around3000  parks_nearest  ponds_around3000  \\\n",
       "0             16028.0               1.0          482.0               2.0   \n",
       "1             18603.0               0.0            NaN               0.0   \n",
       "2             13933.0               1.0           90.0               2.0   \n",
       "3              6800.0               2.0           84.0               3.0   \n",
       "4              8098.0               2.0          112.0               1.0   \n",
       "\n",
       "   ponds_nearest  days_exposition  \n",
       "0          755.0              NaN  \n",
       "1            NaN             81.0  \n",
       "2          574.0            558.0  \n",
       "3          234.0            424.0  \n",
       "4           48.0            121.0  \n",
       "\n",
       "[5 rows x 22 columns]"
      ]
     },
     "execution_count": 2,
     "metadata": {},
     "output_type": "execute_result"
    }
   ],
   "source": [
    "data.head() #выведем первым 5 строк"
   ]
  },
  {
   "cell_type": "code",
   "execution_count": 3,
   "metadata": {},
   "outputs": [
    {
     "data": {
      "image/png": "[encoded data removed]",
      "text/plain": [
       "<Figure size 2160x720 with 20 Axes>"
      ]
     },
     "metadata": {
      "needs_background": "light"
     },
     "output_type": "display_data"
    }
   ],
   "source": [
    "data.hist(figsize=(30, 10)); #построем гистограмму каждого столбца"
   ]
  },
  {
   "cell_type": "markdown",
   "metadata": {
    "id": "-O5NtivEAwb9"
   },
   "source": [
    "### Выполните предобработку данных"
   ]
  },
  {
   "cell_type": "code",
   "execution_count": 4,
   "metadata": {
    "id": "7v3vAeTuAwb-"
   },
   "outputs": [
    {
     "data": {
      "text/plain": [
       "0"
      ]
     },
     "execution_count": 4,
     "metadata": {},
     "output_type": "execute_result"
    }
   ],
   "source": [
    "data.duplicated().sum() #явных дубликатов нет"
   ]
  },
  {
   "cell_type": "code",
   "execution_count": 5,
   "metadata": {},
   "outputs": [
    {
     "data": {
      "text/plain": [
       "10    1798\n",
       "9     1725\n",
       "20    1694\n",
       "8     1585\n",
       "7     1521\n",
       "6     1482\n",
       "11    1362\n",
       "5     1301\n",
       "12    1225\n",
       "0     1059\n",
       "13    1015\n",
       "4      986\n",
       "14     986\n",
       "15     948\n",
       "1      872\n",
       "3      769\n",
       "16     761\n",
       "17     650\n",
       "18     642\n",
       "2      640\n",
       "19     603\n",
       "23      16\n",
       "21      12\n",
       "24       8\n",
       "22       8\n",
       "26       5\n",
       "28       4\n",
       "32       4\n",
       "29       3\n",
       "50       3\n",
       "27       2\n",
       "35       2\n",
       "30       2\n",
       "31       2\n",
       "39       1\n",
       "25       1\n",
       "42       1\n",
       "37       1\n",
       "Name: total_images, dtype: int64"
      ]
     },
     "metadata": {},
     "output_type": "display_data"
    },
    {
     "data": {
      "text/plain": [
       "2.50     3515\n",
       "2.60     1646\n",
       "2.70     1574\n",
       "3.00     1112\n",
       "2.80      993\n",
       "         ... \n",
       "4.25        1\n",
       "3.39        1\n",
       "3.93        1\n",
       "10.30       1\n",
       "4.65        1\n",
       "Name: ceiling_height, Length: 183, dtype: int64"
      ]
     },
     "metadata": {},
     "output_type": "display_data"
    },
    {
     "data": {
      "text/plain": [
       "2     3368\n",
       "3     3073\n",
       "1     2917\n",
       "4     2804\n",
       "5     2621\n",
       "6     1305\n",
       "7     1218\n",
       "8     1083\n",
       "9     1051\n",
       "10     687\n",
       "12     526\n",
       "11     523\n",
       "13     379\n",
       "15     343\n",
       "14     337\n",
       "16     315\n",
       "17     227\n",
       "18     178\n",
       "19     147\n",
       "21     125\n",
       "22     113\n",
       "20     110\n",
       "23     100\n",
       "24      63\n",
       "25      46\n",
       "26      24\n",
       "27      10\n",
       "28       1\n",
       "29       1\n",
       "32       1\n",
       "30       1\n",
       "33       1\n",
       "31       1\n",
       "Name: floor, dtype: int64"
      ]
     },
     "metadata": {},
     "output_type": "display_data"
    },
    {
     "data": {
      "text/plain": [
       "45.00     419\n",
       "42.00     383\n",
       "60.00     347\n",
       "31.00     346\n",
       "44.00     345\n",
       "         ... \n",
       "44.24       1\n",
       "56.85       1\n",
       "37.92       1\n",
       "115.60      1\n",
       "55.06       1\n",
       "Name: total_area, Length: 2182, dtype: int64"
      ]
     },
     "metadata": {},
     "output_type": "display_data"
    },
    {
     "data": {
      "text/plain": [
       "1     8047\n",
       "2     7940\n",
       "3     5814\n",
       "4     1180\n",
       "5      326\n",
       "0      197\n",
       "6      105\n",
       "7       59\n",
       "8       12\n",
       "9        8\n",
       "10       3\n",
       "11       2\n",
       "14       2\n",
       "19       1\n",
       "16       1\n",
       "12       1\n",
       "15       1\n",
       "Name: rooms, dtype: int64"
      ]
     },
     "metadata": {},
     "output_type": "display_data"
    },
    {
     "data": {
      "text/plain": [
       "37434.0    61\n",
       "21928.0    32\n",
       "39946.0    30\n",
       "44870.0    30\n",
       "18732.0    27\n",
       "           ..\n",
       "53478.0     1\n",
       "20335.0     1\n",
       "33699.0     1\n",
       "26945.0     1\n",
       "20875.0     1\n",
       "Name: airports_nearest, Length: 8275, dtype: int64"
      ]
     },
     "metadata": {},
     "output_type": "display_data"
    },
    {
     "data": {
      "text/plain": [
       "8460.0     61\n",
       "20802.0    32\n",
       "10720.0    30\n",
       "8434.0     27\n",
       "20444.0    27\n",
       "           ..\n",
       "5278.0      1\n",
       "11575.0     1\n",
       "3205.0      1\n",
       "12747.0     1\n",
       "4234.0      1\n",
       "Name: cityCenters_nearest, Length: 7642, dtype: int64"
      ]
     },
     "metadata": {},
     "output_type": "display_data"
    },
    {
     "data": {
      "text/plain": [
       "441.0     67\n",
       "392.0     41\n",
       "173.0     41\n",
       "456.0     40\n",
       "471.0     32\n",
       "          ..\n",
       "2489.0     1\n",
       "786.0      1\n",
       "793.0      1\n",
       "92.0       1\n",
       "929.0      1\n",
       "Name: parks_nearest, Length: 995, dtype: int64"
      ]
     },
     "metadata": {},
     "output_type": "display_data"
    },
    {
     "data": {
      "text/plain": [
       "False    23550\n",
       "True       149\n",
       "Name: studio, dtype: int64"
      ]
     },
     "metadata": {},
     "output_type": "display_data"
    },
    {
     "data": {
      "text/plain": [
       "False    23632\n",
       "True        67\n",
       "Name: open_plan, dtype: int64"
      ]
     },
     "metadata": {},
     "output_type": "display_data"
    },
    {
     "data": {
      "text/plain": [
       "6.00     1300\n",
       "10.00    1262\n",
       "8.00     1110\n",
       "9.00     1101\n",
       "7.00     1062\n",
       "         ... \n",
       "7.12        1\n",
       "13.73       1\n",
       "14.74       1\n",
       "53.10       1\n",
       "16.74       1\n",
       "Name: kitchen_area, Length: 971, dtype: int64"
      ]
     },
     "metadata": {},
     "output_type": "display_data"
    },
    {
     "data": {
      "text/plain": [
       "Санкт-Петербург                               15721\n",
       "посёлок Мурино                                  522\n",
       "посёлок Шушары                                  440\n",
       "Всеволожск                                      398\n",
       "Пушкин                                          369\n",
       "                                              ...  \n",
       "посёлок при железнодорожной станции Вещево        1\n",
       "деревня Терпилицы                                 1\n",
       "поселок Коробицыно                                1\n",
       "поселок городского типа Большая Ижора             1\n",
       "коттеджный поселок Счастье                        1\n",
       "Name: locality_name, Length: 364, dtype: int64"
      ]
     },
     "metadata": {},
     "output_type": "display_data"
    }
   ],
   "source": [
    "#применим метод value_counts() к каждому столбцу, который вернет уникальные значения и найдет пропущенные значения\n",
    "#столбцы ниже не трогаем\n",
    "display(data['total_images'].value_counts())\n",
    "display(data['ceiling_height'].value_counts())\n",
    "display(data['floor'].value_counts())\n",
    "display(data['total_area'].value_counts())\n",
    "display(data['rooms'].value_counts())\n",
    "display(data['airports_nearest'].value_counts())\n",
    "display(data['cityCenters_nearest'].value_counts())\n",
    "display(data['parks_nearest'].value_counts())\n",
    "display(data['studio'].value_counts())\n",
    "display(data['open_plan'].value_counts())\n",
    "display(data['kitchen_area'].value_counts())\n",
    "display(data['locality_name'].value_counts())\n"
   ]
  },
  {
   "cell_type": "code",
   "execution_count": 6,
   "metadata": {},
   "outputs": [],
   "source": [
    "#далее работаем с столбцами в которых нужно внести изменения\n",
    "#изменит тип и переведем в читаемый формат(время в таблице не указано)\n",
    "data['first_day_exposition'] = pd.to_datetime(data['first_day_exposition'], format = '%Y-%m-%d')"
   ]
  },
  {
   "cell_type": "code",
   "execution_count": 7,
   "metadata": {},
   "outputs": [
    {
     "data": {
      "text/plain": [
       "0        0\n",
       "1        0\n",
       "2        0\n",
       "3        0\n",
       "4        0\n",
       "        ..\n",
       "23694    0\n",
       "23695    0\n",
       "23696    0\n",
       "23697    0\n",
       "23698    0\n",
       "Name: floors_total, Length: 23699, dtype: int64"
      ]
     },
     "execution_count": 7,
     "metadata": {},
     "output_type": "execute_result"
    }
   ],
   "source": [
    "data['floors_total'].isna().astype('int')"
   ]
  },
  {
   "cell_type": "markdown",
   "metadata": {},
   "source": [
    "указанные значение в столбце не зависят друг от друга и расположены в таблице в рандомном порядке, есть пустые ячейки.Между данными ничего общего нет, оставим как есть. Изменила тип столбца"
   ]
  },
  {
   "cell_type": "code",
   "execution_count": 8,
   "metadata": {},
   "outputs": [],
   "source": [
    "data['parks_around3000'] = data['parks_around3000'].fillna(0).astype('int')\n",
    "#изменим тип на int, тк не может быть половина парка"
   ]
  },
  {
   "cell_type": "code",
   "execution_count": 9,
   "metadata": {},
   "outputs": [],
   "source": [
    "data['ponds_around3000'] = data['ponds_around3000'].fillna(0).astype('int')\n",
    "#по аналоггии с парками, изменим тип на int, тк не может быть половина водоема"
   ]
  },
  {
   "cell_type": "code",
   "execution_count": 10,
   "metadata": {},
   "outputs": [
    {
     "data": {
      "text/plain": [
       "3181"
      ]
     },
     "execution_count": 10,
     "metadata": {},
     "output_type": "execute_result"
    }
   ],
   "source": [
    "data['days_exposition'].isnull().sum().astype('int')"
   ]
  },
  {
   "cell_type": "markdown",
   "metadata": {},
   "source": [
    "изменим тип на int,тк необходимо указать значение целого дня(числа). Данный столбец является важным, поэтому оставляем его как есть"
   ]
  },
  {
   "cell_type": "code",
   "execution_count": 11,
   "metadata": {},
   "outputs": [],
   "source": [
    "data['last_price'] = data['last_price'].astype('int')\n",
    "#изменим тип на int,тк необходимо указать значение целого числа(часа)"
   ]
  },
  {
   "cell_type": "code",
   "execution_count": 12,
   "metadata": {},
   "outputs": [],
   "source": [
    "data['balcony'] = data['balcony'].fillna(0)  \n",
    "#к пропускам информации о балконах можно отнести человеческий фактор, так как техническая характеристика помещения предпологает постройку данного вида. квартира без балкона не является отклонением от нормы, в случае, если об этом заранее не сообщил клиент"
   ]
  },
  {
   "cell_type": "code",
   "execution_count": 13,
   "metadata": {},
   "outputs": [
    {
     "data": {
      "text/html": [
       "<div>\n",
       "<style scoped>\n",
       "    .dataframe tbody tr th:only-of-type {\n",
       "        vertical-align: middle;\n",
       "    }\n",
       "\n",
       "    .dataframe tbody tr th {\n",
       "        vertical-align: top;\n",
       "    }\n",
       "\n",
       "    .dataframe thead th {\n",
       "        text-align: right;\n",
       "    }\n",
       "</style>\n",
       "<table border=\"1\" class=\"dataframe\">\n",
       "  <thead>\n",
       "    <tr style=\"text-align: right;\">\n",
       "      <th></th>\n",
       "      <th>total_images</th>\n",
       "      <th>last_price</th>\n",
       "      <th>total_area</th>\n",
       "      <th>first_day_exposition</th>\n",
       "      <th>rooms</th>\n",
       "      <th>ceiling_height</th>\n",
       "      <th>floors_total</th>\n",
       "      <th>living_area</th>\n",
       "      <th>floor</th>\n",
       "      <th>is_apartment</th>\n",
       "      <th>...</th>\n",
       "      <th>kitchen_area</th>\n",
       "      <th>balcony</th>\n",
       "      <th>locality_name</th>\n",
       "      <th>airports_nearest</th>\n",
       "      <th>cityCenters_nearest</th>\n",
       "      <th>parks_around3000</th>\n",
       "      <th>parks_nearest</th>\n",
       "      <th>ponds_around3000</th>\n",
       "      <th>ponds_nearest</th>\n",
       "      <th>days_exposition</th>\n",
       "    </tr>\n",
       "  </thead>\n",
       "  <tbody>\n",
       "    <tr>\n",
       "      <th>0</th>\n",
       "      <td>20</td>\n",
       "      <td>13000000</td>\n",
       "      <td>108.0</td>\n",
       "      <td>2019-03-07</td>\n",
       "      <td>3</td>\n",
       "      <td>2.70</td>\n",
       "      <td>16.0</td>\n",
       "      <td>51.0</td>\n",
       "      <td>8</td>\n",
       "      <td>NaN</td>\n",
       "      <td>...</td>\n",
       "      <td>25.0</td>\n",
       "      <td>0.0</td>\n",
       "      <td>Санкт-Петербург</td>\n",
       "      <td>18863.0</td>\n",
       "      <td>16028.0</td>\n",
       "      <td>1</td>\n",
       "      <td>482.0</td>\n",
       "      <td>2</td>\n",
       "      <td>755.0</td>\n",
       "      <td>NaN</td>\n",
       "    </tr>\n",
       "    <tr>\n",
       "      <th>1</th>\n",
       "      <td>7</td>\n",
       "      <td>3350000</td>\n",
       "      <td>40.4</td>\n",
       "      <td>2018-12-04</td>\n",
       "      <td>1</td>\n",
       "      <td>NaN</td>\n",
       "      <td>11.0</td>\n",
       "      <td>18.6</td>\n",
       "      <td>1</td>\n",
       "      <td>NaN</td>\n",
       "      <td>...</td>\n",
       "      <td>11.0</td>\n",
       "      <td>2.0</td>\n",
       "      <td>посёлок Шушары</td>\n",
       "      <td>12817.0</td>\n",
       "      <td>18603.0</td>\n",
       "      <td>0</td>\n",
       "      <td>NaN</td>\n",
       "      <td>0</td>\n",
       "      <td>NaN</td>\n",
       "      <td>81.0</td>\n",
       "    </tr>\n",
       "    <tr>\n",
       "      <th>2</th>\n",
       "      <td>10</td>\n",
       "      <td>5196000</td>\n",
       "      <td>56.0</td>\n",
       "      <td>2015-08-20</td>\n",
       "      <td>2</td>\n",
       "      <td>NaN</td>\n",
       "      <td>5.0</td>\n",
       "      <td>34.3</td>\n",
       "      <td>4</td>\n",
       "      <td>NaN</td>\n",
       "      <td>...</td>\n",
       "      <td>8.3</td>\n",
       "      <td>0.0</td>\n",
       "      <td>Санкт-Петербург</td>\n",
       "      <td>21741.0</td>\n",
       "      <td>13933.0</td>\n",
       "      <td>1</td>\n",
       "      <td>90.0</td>\n",
       "      <td>2</td>\n",
       "      <td>574.0</td>\n",
       "      <td>558.0</td>\n",
       "    </tr>\n",
       "    <tr>\n",
       "      <th>3</th>\n",
       "      <td>0</td>\n",
       "      <td>64900000</td>\n",
       "      <td>159.0</td>\n",
       "      <td>2015-07-24</td>\n",
       "      <td>3</td>\n",
       "      <td>NaN</td>\n",
       "      <td>14.0</td>\n",
       "      <td>NaN</td>\n",
       "      <td>9</td>\n",
       "      <td>NaN</td>\n",
       "      <td>...</td>\n",
       "      <td>NaN</td>\n",
       "      <td>0.0</td>\n",
       "      <td>Санкт-Петербург</td>\n",
       "      <td>28098.0</td>\n",
       "      <td>6800.0</td>\n",
       "      <td>2</td>\n",
       "      <td>84.0</td>\n",
       "      <td>3</td>\n",
       "      <td>234.0</td>\n",
       "      <td>424.0</td>\n",
       "    </tr>\n",
       "    <tr>\n",
       "      <th>4</th>\n",
       "      <td>2</td>\n",
       "      <td>10000000</td>\n",
       "      <td>100.0</td>\n",
       "      <td>2018-06-19</td>\n",
       "      <td>2</td>\n",
       "      <td>3.03</td>\n",
       "      <td>14.0</td>\n",
       "      <td>32.0</td>\n",
       "      <td>13</td>\n",
       "      <td>NaN</td>\n",
       "      <td>...</td>\n",
       "      <td>41.0</td>\n",
       "      <td>0.0</td>\n",
       "      <td>Санкт-Петербург</td>\n",
       "      <td>31856.0</td>\n",
       "      <td>8098.0</td>\n",
       "      <td>2</td>\n",
       "      <td>112.0</td>\n",
       "      <td>1</td>\n",
       "      <td>48.0</td>\n",
       "      <td>121.0</td>\n",
       "    </tr>\n",
       "  </tbody>\n",
       "</table>\n",
       "<p>5 rows × 22 columns</p>\n",
       "</div>"
      ],
      "text/plain": [
       "   total_images  last_price  total_area first_day_exposition  rooms  \\\n",
       "0            20    13000000       108.0           2019-03-07      3   \n",
       "1             7     3350000        40.4           2018-12-04      1   \n",
       "2            10     5196000        56.0           2015-08-20      2   \n",
       "3             0    64900000       159.0           2015-07-24      3   \n",
       "4             2    10000000       100.0           2018-06-19      2   \n",
       "\n",
       "   ceiling_height  floors_total  living_area  floor is_apartment  ...  \\\n",
       "0            2.70          16.0         51.0      8          NaN  ...   \n",
       "1             NaN          11.0         18.6      1          NaN  ...   \n",
       "2             NaN           5.0         34.3      4          NaN  ...   \n",
       "3             NaN          14.0          NaN      9          NaN  ...   \n",
       "4            3.03          14.0         32.0     13          NaN  ...   \n",
       "\n",
       "   kitchen_area  balcony    locality_name  airports_nearest  \\\n",
       "0          25.0      0.0  Санкт-Петербург           18863.0   \n",
       "1          11.0      2.0   посёлок Шушары           12817.0   \n",
       "2           8.3      0.0  Санкт-Петербург           21741.0   \n",
       "3           NaN      0.0  Санкт-Петербург           28098.0   \n",
       "4          41.0      0.0  Санкт-Петербург           31856.0   \n",
       "\n",
       "  cityCenters_nearest  parks_around3000  parks_nearest  ponds_around3000  \\\n",
       "0             16028.0                 1          482.0                 2   \n",
       "1             18603.0                 0            NaN                 0   \n",
       "2             13933.0                 1           90.0                 2   \n",
       "3              6800.0                 2           84.0                 3   \n",
       "4              8098.0                 2          112.0                 1   \n",
       "\n",
       "   ponds_nearest  days_exposition  \n",
       "0          755.0              NaN  \n",
       "1            NaN             81.0  \n",
       "2          574.0            558.0  \n",
       "3          234.0            424.0  \n",
       "4           48.0            121.0  \n",
       "\n",
       "[5 rows x 22 columns]"
      ]
     },
     "execution_count": 13,
     "metadata": {},
     "output_type": "execute_result"
    }
   ],
   "source": [
    "for t in data['ceiling_height'].unique():\n",
    "    data.loc[(data['ceiling_height'] == t) & (data['floors_total'].isna()), 'floors_total'] = \\\n",
    "    data.loc[(data['ceiling_height'] == t), 'floors_total'].median()  \n",
    "data.head() #к пропускам можно отнести человеческий фактор, посчитаем высоту медианным значением"
   ]
  },
  {
   "cell_type": "code",
   "execution_count": 14,
   "metadata": {},
   "outputs": [],
   "source": [
    "data['is_apartment'] = data['is_apartment'].fillna(False)\n",
    "#заменим все пропущенные значения на False. Данный столбец менее заполненый из всей таблицы"
   ]
  },
  {
   "cell_type": "code",
   "execution_count": 15,
   "metadata": {
    "scrolled": true
   },
   "outputs": [
    {
     "data": {
      "text/plain": [
       "count    21796.000000\n",
       "mean        34.457852\n",
       "std         22.030445\n",
       "min          2.000000\n",
       "25%         18.600000\n",
       "50%         30.000000\n",
       "75%         42.300000\n",
       "max        409.700000\n",
       "Name: living_area, dtype: float64"
      ]
     },
     "execution_count": 15,
     "metadata": {},
     "output_type": "execute_result"
    }
   ],
   "source": [
    "data['living_area'].value_counts()\n",
    "data['living_area'].describe()\n",
    "#вызвав метод value_counts() проанализируем столбец, выбрав каждое уникальное значение и проанализировав частоту его встречаемости\n",
    "#вызвав функцию describe() узнаем описательную статистику столбца"
   ]
  },
  {
   "cell_type": "code",
   "execution_count": 16,
   "metadata": {},
   "outputs": [
    {
     "data": {
      "text/plain": [
       "total_images                0\n",
       "last_price                  0\n",
       "total_area                  0\n",
       "first_day_exposition        0\n",
       "rooms                       0\n",
       "ceiling_height           9195\n",
       "floors_total               77\n",
       "living_area              1903\n",
       "floor                       0\n",
       "is_apartment                0\n",
       "studio                      0\n",
       "open_plan                   0\n",
       "kitchen_area             2278\n",
       "balcony                     0\n",
       "locality_name              49\n",
       "airports_nearest         5542\n",
       "cityCenters_nearest      5519\n",
       "parks_around3000            0\n",
       "parks_nearest           15620\n",
       "ponds_around3000            0\n",
       "ponds_nearest           14589\n",
       "days_exposition          3181\n",
       "dtype: int64"
      ]
     },
     "execution_count": 16,
     "metadata": {},
     "output_type": "execute_result"
    }
   ],
   "source": [
    "data.isna().sum()"
   ]
  },
  {
   "cell_type": "markdown",
   "metadata": {},
   "source": [
    "корректно посчитать living_area и kitchen_area не получится , тк у нас имеются квартиры студии, поэтому оставим эти данные так как есть. \n",
    "про ceiling_height написано ранее. \n",
    "airports_nearest, cityCenters_nearest - возможно эти данные не заполнены по причине того, что в ближайщем радиусе нет аэропорта или большая удаленность от центра.\n",
    "ponds_nearest, parks_nearest - причина отсутсвия данных неизвестна, заполнять нуля не будем, пропуски трогать не будем.\n",
    "floors_total отработала ранее, а locality_name отработаю дальше"
   ]
  },
  {
   "cell_type": "markdown",
   "metadata": {
    "id": "QCcvyY6YAwb-"
   },
   "source": [
    "### Добавьте в таблицу новые столбцы"
   ]
  },
  {
   "cell_type": "code",
   "execution_count": 17,
   "metadata": {
    "id": "V2f0D3kLAwb-",
    "scrolled": true
   },
   "outputs": [
    {
     "data": {
      "text/plain": [
       "0    120370.37\n",
       "1     82920.79\n",
       "2     92785.71\n",
       "3    408176.10\n",
       "4    100000.00\n",
       "Name: price_per_square_meter, dtype: float64"
      ]
     },
     "execution_count": 17,
     "metadata": {},
     "output_type": "execute_result"
    }
   ],
   "source": [
    "data['price_per_square_meter'] = (data['last_price'] / data['total_area']).round(2)\n",
    "data['price_per_square_meter'] .head()\n",
    "#посчитаем цену за квадратный метр. для этого на стоимость объекта поделим общую площадь, округлив до 2-х знаков после запятой\n",
    "#далее метры переведем в км, округлим до целых чисел и выведем первые 5 строк на экран"
   ]
  },
  {
   "cell_type": "code",
   "execution_count": 18,
   "metadata": {
    "scrolled": true
   },
   "outputs": [
    {
     "data": {
      "text/plain": [
       "0        False\n",
       "1        False\n",
       "2        False\n",
       "3        False\n",
       "4        False\n",
       "         ...  \n",
       "23694    False\n",
       "23695     True\n",
       "23696     True\n",
       "23697    False\n",
       "23698     True\n",
       "Name: cityCenters_nearest, Length: 23699, dtype: bool"
      ]
     },
     "execution_count": 18,
     "metadata": {},
     "output_type": "execute_result"
    }
   ],
   "source": [
    "data['cityCenters_nearest'].isna()"
   ]
  },
  {
   "cell_type": "code",
   "execution_count": 19,
   "metadata": {},
   "outputs": [
    {
     "data": {
      "text/plain": [
       "0    16.0\n",
       "1    19.0\n",
       "2    14.0\n",
       "3     7.0\n",
       "4     8.0\n",
       "Name: km_centre, dtype: float64"
      ]
     },
     "execution_count": 19,
     "metadata": {},
     "output_type": "execute_result"
    }
   ],
   "source": [
    "data['km_centre'] = (data['cityCenters_nearest'] / 1000).round(0)\n",
    "data['km_centre'].head()"
   ]
  },
  {
   "cell_type": "markdown",
   "metadata": {},
   "source": [
    "скорректировала2\n",
    "добавила столбец km_centre, который отображает отдаленность от центра в км, предварительно заполнив пропуски медианным значение и окргулив данные в целые числа"
   ]
  },
  {
   "cell_type": "code",
   "execution_count": 20,
   "metadata": {},
   "outputs": [],
   "source": [
    "data['publication_day_of_the_week'] = data['first_day_exposition'].dt.weekday\n",
    "#узнаем день недели"
   ]
  },
  {
   "cell_type": "code",
   "execution_count": 21,
   "metadata": {},
   "outputs": [],
   "source": [
    "data['publication_month'] = data['first_day_exposition'].dt.month\n",
    "#определим месяц"
   ]
  },
  {
   "cell_type": "code",
   "execution_count": 22,
   "metadata": {},
   "outputs": [],
   "source": [
    "data['publication_year'] = data['first_day_exposition'].dt.year\n",
    "#год публикации объявления"
   ]
  },
  {
   "cell_type": "code",
   "execution_count": 23,
   "metadata": {},
   "outputs": [
    {
     "data": {
      "text/plain": [
       "0    другой\n",
       "1    первый\n",
       "2    другой\n",
       "3    другой\n",
       "4    другой\n",
       "Name: floor_group, dtype: object"
      ]
     },
     "execution_count": 23,
     "metadata": {},
     "output_type": "execute_result"
    }
   ],
   "source": [
    "#напишем функцию категоризации\n",
    "def floor_group(k):\n",
    "    if k['floor'] == 1:\n",
    "        return 'первый'\n",
    "    elif k['floor'] == k['floors_total']:\n",
    "        return 'последний'\n",
    "    else:\n",
    "        return 'другой'\n",
    "\n",
    "data['floor_group'] = data.apply(floor_group, axis=1)\n",
    "data['floor_group'].head()"
   ]
  },
  {
   "cell_type": "code",
   "execution_count": 24,
   "metadata": {},
   "outputs": [
    {
     "data": {
      "text/plain": [
       "<AxesSubplot:>"
      ]
     },
     "execution_count": 24,
     "metadata": {},
     "output_type": "execute_result"
    },
    {
     "data": {
      "image/png": "[encoded data removed]",
      "text/plain": [
       "<Figure size 504x360 with 1 Axes>"
      ]
     },
     "metadata": {
      "needs_background": "light"
     },
     "output_type": "display_data"
    }
   ],
   "source": [
    "data\n",
    "data['floor_group'].hist(bins = 20, figsize = (7,5))\n"
   ]
  },
  {
   "cell_type": "markdown",
   "metadata": {},
   "source": [
    "исходя из графика можно сказать, что чаще всего выставляют объявления не первого или последнего этажа"
   ]
  },
  {
   "cell_type": "code",
   "execution_count": 25,
   "metadata": {},
   "outputs": [],
   "source": [
    "data['locality_name'] = data['locality_name'].str.lower()\n",
    "#обработаем неявные дубликаты и приведем все буквы к нижнему регистру "
   ]
  },
  {
   "cell_type": "code",
   "execution_count": 26,
   "metadata": {},
   "outputs": [
    {
     "data": {
      "text/plain": [
       "array(['санкт-петербург', 'посёлок шушары', 'городской посёлок янино-1',\n",
       "       'посёлок парголово', 'посёлок мурино', 'ломоносов', 'сертолово',\n",
       "       'петергоф', 'пушкин', 'деревня кудрово', 'коммунар', 'колпино',\n",
       "       'поселок городского типа красный бор', 'гатчина', 'поселок мурино',\n",
       "       'деревня фёдоровское', 'выборг', 'кронштадт', 'кировск',\n",
       "       'деревня новое девяткино', 'посёлок металлострой',\n",
       "       'посёлок городского типа лебяжье',\n",
       "       'посёлок городского типа сиверский', 'поселок молодцово',\n",
       "       'поселок городского типа кузьмоловский',\n",
       "       'садовое товарищество новая ропша', 'павловск',\n",
       "       'деревня пикколово', 'всеволожск', 'волхов', 'кингисепп',\n",
       "       'приозерск', 'сестрорецк', 'деревня куттузи', 'посёлок аннино',\n",
       "       'поселок городского типа ефимовский', 'посёлок плодовое',\n",
       "       'деревня заклинье', 'поселок торковичи', 'поселок первомайское',\n",
       "       'красное село', 'посёлок понтонный', 'сясьстрой', 'деревня старая',\n",
       "       'деревня лесколово', 'посёлок новый свет', 'сланцы',\n",
       "       'село путилово', 'ивангород', 'мурино', 'шлиссельбург',\n",
       "       'никольское', 'зеленогорск', 'сосновый бор', 'поселок новый свет',\n",
       "       'деревня оржицы', 'деревня кальтино', 'кудрово',\n",
       "       'поселок романовка', 'посёлок бугры', 'поселок бугры',\n",
       "       'поселок городского типа рощино', 'кириши', 'луга', 'волосово',\n",
       "       'отрадное', 'село павлово', 'поселок оредеж', 'село копорье',\n",
       "       'посёлок городского типа красный бор', 'посёлок молодёжное',\n",
       "       'тихвин', 'посёлок победа', 'деревня нурма',\n",
       "       'поселок городского типа синявино', 'тосно',\n",
       "       'посёлок городского типа кузьмоловский', 'посёлок стрельна',\n",
       "       'бокситогорск', 'посёлок александровская', 'деревня лопухинка',\n",
       "       'пикалёво', 'поселок терволово',\n",
       "       'поселок городского типа советский', 'подпорожье',\n",
       "       'посёлок петровское', 'посёлок городского типа токсово',\n",
       "       'поселок сельцо', 'посёлок городского типа вырица',\n",
       "       'деревня кипень', 'деревня келози', 'деревня вартемяги',\n",
       "       'посёлок тельмана', 'поселок севастьяново',\n",
       "       'городской поселок большая ижора', nan,\n",
       "       'городской посёлок павлово', 'деревня агалатово',\n",
       "       'посёлок новогорелово', 'городской посёлок лесогорский',\n",
       "       'деревня лаголово', 'поселок цвелодубово',\n",
       "       'поселок городского типа рахья', 'поселок городского типа вырица',\n",
       "       'деревня белогорка', 'поселок заводской',\n",
       "       'городской посёлок новоселье', 'деревня большие колпаны',\n",
       "       'деревня горбунки', 'деревня батово', 'деревня заневка',\n",
       "       'деревня иссад', 'приморск', 'городской посёлок фёдоровское',\n",
       "       'деревня мистолово', 'новая ладога', 'поселок зимитицы',\n",
       "       'поселок барышево', 'деревня разметелево',\n",
       "       'поселок городского типа имени свердлова', 'деревня пеники',\n",
       "       'поселок рябово', 'деревня пудомяги', 'поселок станции корнево',\n",
       "       'деревня низино', 'деревня бегуницы', 'посёлок поляны',\n",
       "       'городской посёлок мга', 'поселок елизаветино',\n",
       "       'посёлок городского типа кузнечное', 'деревня колтуши',\n",
       "       'поселок запорожское', 'посёлок городского типа рощино',\n",
       "       'деревня гостилицы', 'деревня малое карлино',\n",
       "       'посёлок мичуринское', 'посёлок городского типа имени морозова',\n",
       "       'посёлок песочный', 'посёлок сосново', 'деревня аро',\n",
       "       'поселок ильичёво', 'посёлок городского типа тайцы',\n",
       "       'деревня малое верево', 'деревня извара', 'поселок станции вещево',\n",
       "       'село паша', 'деревня калитино',\n",
       "       'посёлок городского типа ульяновка', 'деревня чудской бор',\n",
       "       'поселок городского типа дубровка', 'деревня мины',\n",
       "       'поселок войсковицы', 'посёлок городского типа имени свердлова',\n",
       "       'деревня коркино', 'посёлок ропша',\n",
       "       'поселок городского типа приладожский', 'посёлок щеглово',\n",
       "       'посёлок гаврилово', 'лодейное поле', 'деревня рабитицы',\n",
       "       'поселок городского типа никольский', 'деревня кузьмолово',\n",
       "       'деревня малые колпаны', 'поселок тельмана',\n",
       "       'посёлок петро-славянка', 'городской посёлок назия',\n",
       "       'посёлок репино', 'посёлок ильичёво', 'поселок углово',\n",
       "       'поселок старая малукса', 'садовое товарищество рахья',\n",
       "       'поселок аннино', 'поселок победа', 'деревня меньково',\n",
       "       'деревня старые бегуницы', 'посёлок сапёрный', 'поселок семрино',\n",
       "       'поселок гаврилово', 'поселок глажево', 'поселок кобринское',\n",
       "       'деревня гарболово', 'деревня юкки',\n",
       "       'поселок станции приветнинское', 'деревня мануйлово',\n",
       "       'деревня пчева', 'поселок поляны', 'поселок цвылёво',\n",
       "       'поселок мельниково', 'посёлок пудость', 'посёлок усть-луга',\n",
       "       'светогорск', 'любань', 'поселок селезнёво',\n",
       "       'поселок городского типа рябово', 'каменногорск', 'деревня кривко',\n",
       "       'поселок глебычево', 'деревня парицы', 'поселок жилпосёлок',\n",
       "       'посёлок городского типа мга', 'городской поселок янино-1',\n",
       "       'посёлок войскорово', 'село никольское', 'посёлок терволово',\n",
       "       'поселок стеклянный', 'посёлок городского типа важины',\n",
       "       'посёлок мыза-ивановка', 'село русско-высоцкое',\n",
       "       'поселок городского типа лебяжье',\n",
       "       'поселок городского типа форносово', 'село старая ладога',\n",
       "       'поселок житково', 'городской посёлок виллози', 'деревня лампово',\n",
       "       'деревня шпаньково', 'деревня лаврики', 'посёлок сумино',\n",
       "       'посёлок возрождение', 'деревня старосиверская',\n",
       "       'посёлок кикерино', 'поселок возрождение',\n",
       "       'деревня старое хинколово', 'посёлок пригородный',\n",
       "       'посёлок торфяное', 'городской посёлок будогощь',\n",
       "       'поселок суходолье', 'поселок красная долина', 'деревня хапо-ое',\n",
       "       'поселок городского типа дружная горка', 'поселок лисий нос',\n",
       "       'деревня яльгелево', 'посёлок стеклянный', 'село рождествено',\n",
       "       'деревня старополье', 'посёлок левашово', 'деревня сяськелево',\n",
       "       'деревня камышовка',\n",
       "       'садоводческое некоммерческое товарищество лесная поляна',\n",
       "       'деревня хязельки', 'поселок жилгородок',\n",
       "       'посёлок городского типа павлово', 'деревня ялгино',\n",
       "       'поселок новый учхоз', 'городской посёлок рощино',\n",
       "       'поселок гончарово', 'поселок почап', 'посёлок сапёрное',\n",
       "       'посёлок платформа 69-й километр', 'поселок каложицы',\n",
       "       'деревня фалилеево', 'деревня пельгора',\n",
       "       'поселок городского типа лесогорский', 'деревня торошковичи',\n",
       "       'посёлок белоостров', 'посёлок алексеевка', 'поселок серебрянский',\n",
       "       'поселок лукаши', 'поселок петровское', 'деревня щеглово',\n",
       "       'поселок мичуринское', 'деревня тарасово', 'поселок кингисеппский',\n",
       "       'посёлок при железнодорожной станции вещево', 'поселок ушаки',\n",
       "       'деревня котлы', 'деревня сижно', 'деревня торосово',\n",
       "       'посёлок форт красная горка', 'поселок городского типа токсово',\n",
       "       'деревня новолисино', 'посёлок станции громово', 'деревня глинка',\n",
       "       'посёлок мельниково', 'поселок городского типа назия',\n",
       "       'деревня старая пустошь', 'поселок коммунары', 'поселок починок',\n",
       "       'посёлок городского типа вознесенье', 'деревня разбегаево',\n",
       "       'посёлок городского типа рябово', 'поселок гладкое',\n",
       "       'посёлок при железнодорожной станции приветнинское',\n",
       "       'поселок тёсово-4', 'посёлок жилгородок', 'деревня бор',\n",
       "       'посёлок коробицыно', 'деревня большая вруда', 'деревня курковицы',\n",
       "       'посёлок лисий нос', 'городской посёлок советский',\n",
       "       'посёлок кобралово', 'деревня суоранда', 'поселок кобралово',\n",
       "       'поселок городского типа кондратьево',\n",
       "       'коттеджный поселок счастье', 'поселок любань', 'деревня реброво',\n",
       "       'деревня зимитицы', 'деревня тойворово', 'поселок семиозерье',\n",
       "       'поселок лесное', 'поселок совхозный', 'поселок усть-луга',\n",
       "       'посёлок ленинское', 'посёлок суйда',\n",
       "       'посёлок городского типа форносово', 'деревня нижние осельки',\n",
       "       'посёлок станции свирь', 'поселок перово', 'высоцк',\n",
       "       'поселок гарболово', 'село шум', 'поселок котельский',\n",
       "       'поселок станции лужайка', 'деревня большая пустомержа',\n",
       "       'поселок красносельское', 'деревня вахнова кара', 'деревня пижма',\n",
       "       'коттеджный поселок кивеннапа север', 'поселок коробицыно',\n",
       "       'поселок ромашки', 'посёлок перово', 'деревня каськово',\n",
       "       'деревня куровицы', 'посёлок плоское', 'поселок сумино',\n",
       "       'поселок городского типа большая ижора', 'поселок кирпичное',\n",
       "       'деревня ям-тесово', 'деревня раздолье', 'деревня терпилицы',\n",
       "       'посёлок шугозеро', 'деревня ваганово', 'поселок пушное',\n",
       "       'садовое товарищество садко', 'посёлок усть-ижора',\n",
       "       'деревня выскатка', 'городской посёлок свирьстрой',\n",
       "       'поселок громово', 'деревня кисельня', 'посёлок старая малукса',\n",
       "       'деревня трубников бор', 'поселок калитино',\n",
       "       'посёлок высокоключевой', 'садовое товарищество приладожский',\n",
       "       'посёлок пансионат зелёный бор', 'деревня ненимяки',\n",
       "       'поселок пансионат зелёный бор', 'деревня снегирёвка',\n",
       "       'деревня рапполово', 'деревня пустынка', 'поселок рабитицы',\n",
       "       'деревня большой сабск', 'деревня русско', 'деревня лупполово',\n",
       "       'деревня большое рейзино', 'деревня малая романовка',\n",
       "       'поселок дружноселье', 'поселок пчевжа', 'поселок володарское',\n",
       "       'деревня нижняя', 'коттеджный посёлок лесное', 'деревня тихковицы',\n",
       "       'деревня борисова грива', 'посёлок дзержинского'], dtype=object)"
      ]
     },
     "execution_count": 26,
     "metadata": {},
     "output_type": "execute_result"
    }
   ],
   "source": [
    "data = data.drop_duplicates() \n",
    "#удалим строки дубликаты\n",
    "data['locality_name'].unique()"
   ]
  },
  {
   "cell_type": "code",
   "execution_count": 27,
   "metadata": {},
   "outputs": [
    {
     "data": {
      "text/plain": [
       "0        False\n",
       "1        False\n",
       "2         True\n",
       "3         True\n",
       "4         True\n",
       "         ...  \n",
       "23694     True\n",
       "23695     True\n",
       "23696     True\n",
       "23697     True\n",
       "23698     True\n",
       "Name: locality_name, Length: 23699, dtype: bool"
      ]
     },
     "execution_count": 27,
     "metadata": {},
     "output_type": "execute_result"
    }
   ],
   "source": [
    "data['locality_name'].duplicated()"
   ]
  },
  {
   "cell_type": "code",
   "execution_count": 28,
   "metadata": {},
   "outputs": [],
   "source": [
    "data['locality_name'] = (\n",
    "    data['locality_name']\n",
    "    .str.replace('ё', 'е')\n",
    "    .str.replace('й', 'и')\n",
    "    .replace(['поселок городского типа', 'городской посёлок', 'городское поселок', 'поселок'], 'пгт', regex=True)\n",
    ")"
   ]
  },
  {
   "cell_type": "code",
   "execution_count": 29,
   "metadata": {},
   "outputs": [
    {
     "data": {
      "text/plain": [
       "array(['санкт-петербург', 'пгт шушары', 'городскои пгт янино-1',\n",
       "       'пгт парголово', 'пгт мурино', 'ломоносов', 'сертолово',\n",
       "       'петергоф', 'пушкин', 'деревня кудрово', 'коммунар', 'колпино',\n",
       "       'пгт красныи бор', 'гатчина', 'деревня федоровское', 'выборг',\n",
       "       'кронштадт', 'кировск', 'деревня новое девяткино',\n",
       "       'пгт металлострои', 'пгт лебяжье', 'пгт сиверскии',\n",
       "       'пгт молодцово', 'пгт кузьмоловскии',\n",
       "       'садовое товарищество новая ропша', 'павловск',\n",
       "       'деревня пикколово', 'всеволожск', 'волхов', 'кингисепп',\n",
       "       'приозерск', 'сестрорецк', 'деревня куттузи', 'пгт аннино',\n",
       "       'пгт ефимовскии', 'пгт плодовое', 'деревня заклинье',\n",
       "       'пгт торковичи', 'пгт первомаиское', 'красное село',\n",
       "       'пгт понтонныи', 'сясьстрои', 'деревня старая',\n",
       "       'деревня лесколово', 'пгт новыи свет', 'сланцы', 'село путилово',\n",
       "       'ивангород', 'мурино', 'шлиссельбург', 'никольское', 'зеленогорск',\n",
       "       'сосновыи бор', 'деревня оржицы', 'деревня кальтино', 'кудрово',\n",
       "       'пгт романовка', 'пгт бугры', 'пгт рощино', 'кириши', 'луга',\n",
       "       'волосово', 'отрадное', 'село павлово', 'пгт оредеж',\n",
       "       'село копорье', 'пгт молодежное', 'тихвин', 'пгт победа',\n",
       "       'деревня нурма', 'пгт синявино', 'тосно', 'пгт стрельна',\n",
       "       'бокситогорск', 'пгт александровская', 'деревня лопухинка',\n",
       "       'пикалево', 'пгт терволово', 'пгт советскии', 'подпорожье',\n",
       "       'пгт петровское', 'пгт токсово', 'пгт сельцо', 'пгт вырица',\n",
       "       'деревня кипень', 'деревня келози', 'деревня вартемяги',\n",
       "       'пгт тельмана', 'пгт севастьяново', 'городскои пгт большая ижора',\n",
       "       nan, 'городскои пгт павлово', 'деревня агалатово',\n",
       "       'пгт новогорелово', 'городскои пгт лесогорскии',\n",
       "       'деревня лаголово', 'пгт цвелодубово', 'пгт рахья',\n",
       "       'деревня белогорка', 'пгт заводскои', 'городскои пгт новоселье',\n",
       "       'деревня большие колпаны', 'деревня горбунки', 'деревня батово',\n",
       "       'деревня заневка', 'деревня иссад', 'приморск',\n",
       "       'городскои пгт федоровское', 'деревня мистолово', 'новая ладога',\n",
       "       'пгт зимитицы', 'пгт барышево', 'деревня разметелево',\n",
       "       'пгт имени свердлова', 'деревня пеники', 'пгт рябово',\n",
       "       'деревня пудомяги', 'пгт станции корнево', 'деревня низино',\n",
       "       'деревня бегуницы', 'пгт поляны', 'городскои пгт мга',\n",
       "       'пгт елизаветино', 'пгт кузнечное', 'деревня колтуши',\n",
       "       'пгт запорожское', 'деревня гостилицы', 'деревня малое карлино',\n",
       "       'пгт мичуринское', 'пгт имени морозова', 'пгт песочныи',\n",
       "       'пгт сосново', 'деревня аро', 'пгт ильичево', 'пгт таицы',\n",
       "       'деревня малое верево', 'деревня извара', 'пгт станции вещево',\n",
       "       'село паша', 'деревня калитино', 'пгт ульяновка',\n",
       "       'деревня чудскои бор', 'пгт дубровка', 'деревня мины',\n",
       "       'пгт воисковицы', 'деревня коркино', 'пгт ропша',\n",
       "       'пгт приладожскии', 'пгт щеглово', 'пгт гаврилово',\n",
       "       'лодеиное поле', 'деревня рабитицы', 'пгт никольскии',\n",
       "       'деревня кузьмолово', 'деревня малые колпаны',\n",
       "       'пгт петро-славянка', 'городскои пгт назия', 'пгт репино',\n",
       "       'пгт углово', 'пгт старая малукса', 'садовое товарищество рахья',\n",
       "       'деревня меньково', 'деревня старые бегуницы', 'пгт саперныи',\n",
       "       'пгт семрино', 'пгт глажево', 'пгт кобринское',\n",
       "       'деревня гарболово', 'деревня юкки', 'пгт станции приветнинское',\n",
       "       'деревня мануилово', 'деревня пчева', 'пгт цвылево',\n",
       "       'пгт мельниково', 'пгт пудость', 'пгт усть-луга', 'светогорск',\n",
       "       'любань', 'пгт селезнево', 'каменногорск', 'деревня кривко',\n",
       "       'пгт глебычево', 'деревня парицы', 'пгт жилпгт', 'пгт мга',\n",
       "       'пгт воискорово', 'село никольское', 'пгт стеклянныи',\n",
       "       'пгт важины', 'пгт мыза-ивановка', 'село русско-высоцкое',\n",
       "       'пгт форносово', 'село старая ладога', 'пгт житково',\n",
       "       'городскои пгт виллози', 'деревня лампово', 'деревня шпаньково',\n",
       "       'деревня лаврики', 'пгт сумино', 'пгт возрождение',\n",
       "       'деревня старосиверская', 'пгт кикерино',\n",
       "       'деревня старое хинколово', 'пгт пригородныи', 'пгт торфяное',\n",
       "       'городскои пгт будогощь', 'пгт суходолье', 'пгт красная долина',\n",
       "       'деревня хапо-ое', 'пгт дружная горка', 'пгт лисии нос',\n",
       "       'деревня яльгелево', 'село рождествено', 'деревня старополье',\n",
       "       'пгт левашово', 'деревня сяськелево', 'деревня камышовка',\n",
       "       'садоводческое некоммерческое товарищество лесная поляна',\n",
       "       'деревня хязельки', 'пгт жилгородок', 'пгт павлово',\n",
       "       'деревня ялгино', 'пгт новыи учхоз', 'городскои пгт рощино',\n",
       "       'пгт гончарово', 'пгт почап', 'пгт саперное',\n",
       "       'пгт платформа 69-и километр', 'пгт каложицы', 'деревня фалилеево',\n",
       "       'деревня пельгора', 'пгт лесогорскии', 'деревня торошковичи',\n",
       "       'пгт белоостров', 'пгт алексеевка', 'пгт серебрянскии',\n",
       "       'пгт лукаши', 'деревня щеглово', 'деревня тарасово',\n",
       "       'пгт кингисеппскии', 'пгт при железнодорожнои станции вещево',\n",
       "       'пгт ушаки', 'деревня котлы', 'деревня сижно', 'деревня торосово',\n",
       "       'пгт форт красная горка', 'деревня новолисино',\n",
       "       'пгт станции громово', 'деревня глинка', 'пгт назия',\n",
       "       'деревня старая пустошь', 'пгт коммунары', 'пгт починок',\n",
       "       'пгт вознесенье', 'деревня разбегаево', 'пгт гладкое',\n",
       "       'пгт при железнодорожнои станции приветнинское', 'пгт тесово-4',\n",
       "       'деревня бор', 'пгт коробицыно', 'деревня большая вруда',\n",
       "       'деревня курковицы', 'городскои пгт советскии', 'пгт кобралово',\n",
       "       'деревня суоранда', 'пгт кондратьево', 'коттеджныи пгт счастье',\n",
       "       'пгт любань', 'деревня реброво', 'деревня зимитицы',\n",
       "       'деревня тоиворово', 'пгт семиозерье', 'пгт лесное',\n",
       "       'пгт совхозныи', 'пгт ленинское', 'пгт суида',\n",
       "       'деревня нижние осельки', 'пгт станции свирь', 'пгт перово',\n",
       "       'высоцк', 'пгт гарболово', 'село шум', 'пгт котельскии',\n",
       "       'пгт станции лужаика', 'деревня большая пустомержа',\n",
       "       'пгт красносельское', 'деревня вахнова кара', 'деревня пижма',\n",
       "       'коттеджныи пгт кивеннапа север', 'пгт ромашки',\n",
       "       'деревня каськово', 'деревня куровицы', 'пгт плоское',\n",
       "       'пгт большая ижора', 'пгт кирпичное', 'деревня ям-тесово',\n",
       "       'деревня раздолье', 'деревня терпилицы', 'пгт шугозеро',\n",
       "       'деревня ваганово', 'пгт пушное', 'садовое товарищество садко',\n",
       "       'пгт усть-ижора', 'деревня выскатка', 'городскои пгт свирьстрои',\n",
       "       'пгт громово', 'деревня кисельня', 'деревня трубников бор',\n",
       "       'пгт калитино', 'пгт высокоключевои',\n",
       "       'садовое товарищество приладожскии', 'пгт пансионат зеленыи бор',\n",
       "       'деревня ненимяки', 'деревня снегиревка', 'деревня рапполово',\n",
       "       'деревня пустынка', 'пгт рабитицы', 'деревня большои сабск',\n",
       "       'деревня русско', 'деревня лупполово', 'деревня большое реизино',\n",
       "       'деревня малая романовка', 'пгт дружноселье', 'пгт пчевжа',\n",
       "       'пгт володарское', 'деревня нижняя', 'коттеджныи пгт лесное',\n",
       "       'деревня тихковицы', 'деревня борисова грива', 'пгт дзержинского'],\n",
       "      dtype=object)"
      ]
     },
     "execution_count": 29,
     "metadata": {},
     "output_type": "execute_result"
    }
   ],
   "source": [
    "data['locality_name'].unique()"
   ]
  },
  {
   "cell_type": "code",
   "execution_count": 30,
   "metadata": {},
   "outputs": [
    {
     "data": {
      "text/plain": [
       "0"
      ]
     },
     "execution_count": 30,
     "metadata": {},
     "output_type": "execute_result"
    }
   ],
   "source": [
    "data.duplicated().sum()"
   ]
  },
  {
   "cell_type": "markdown",
   "metadata": {
    "id": "h7VpzkIDAwb-"
   },
   "source": [
    "### Напишите общий вывод"
   ]
  },
  {
   "cell_type": "markdown",
   "metadata": {
    "id": "3H4lnp_KAwb-"
   },
   "source": []
  },
  {
   "cell_type": "code",
   "execution_count": 31,
   "metadata": {},
   "outputs": [
    {
     "data": {
      "text/html": [
       "<div>\n",
       "<style scoped>\n",
       "    .dataframe tbody tr th:only-of-type {\n",
       "        vertical-align: middle;\n",
       "    }\n",
       "\n",
       "    .dataframe tbody tr th {\n",
       "        vertical-align: top;\n",
       "    }\n",
       "\n",
       "    .dataframe thead th {\n",
       "        text-align: right;\n",
       "    }\n",
       "</style>\n",
       "<table border=\"1\" class=\"dataframe\">\n",
       "  <thead>\n",
       "    <tr style=\"text-align: right;\">\n",
       "      <th></th>\n",
       "      <th>total_area</th>\n",
       "      <th>living_area</th>\n",
       "      <th>kitchen_area</th>\n",
       "      <th>last_price</th>\n",
       "      <th>rooms</th>\n",
       "      <th>ceiling_height</th>\n",
       "      <th>floors_total</th>\n",
       "      <th>floor</th>\n",
       "      <th>cityCenters_nearest</th>\n",
       "      <th>parks_nearest</th>\n",
       "    </tr>\n",
       "  </thead>\n",
       "  <tbody>\n",
       "    <tr>\n",
       "      <th>count</th>\n",
       "      <td>23699.000000</td>\n",
       "      <td>21796.000000</td>\n",
       "      <td>21421.000000</td>\n",
       "      <td>2.369900e+04</td>\n",
       "      <td>23699.000000</td>\n",
       "      <td>14504.000000</td>\n",
       "      <td>23622.000000</td>\n",
       "      <td>23699.000000</td>\n",
       "      <td>18180.000000</td>\n",
       "      <td>8079.000000</td>\n",
       "    </tr>\n",
       "    <tr>\n",
       "      <th>mean</th>\n",
       "      <td>60.348651</td>\n",
       "      <td>34.457852</td>\n",
       "      <td>10.569807</td>\n",
       "      <td>6.541549e+06</td>\n",
       "      <td>2.070636</td>\n",
       "      <td>2.771499</td>\n",
       "      <td>10.674879</td>\n",
       "      <td>5.892358</td>\n",
       "      <td>14191.277833</td>\n",
       "      <td>490.804555</td>\n",
       "    </tr>\n",
       "    <tr>\n",
       "      <th>std</th>\n",
       "      <td>35.654083</td>\n",
       "      <td>22.030445</td>\n",
       "      <td>5.905438</td>\n",
       "      <td>1.088701e+07</td>\n",
       "      <td>1.078405</td>\n",
       "      <td>1.261056</td>\n",
       "      <td>6.596491</td>\n",
       "      <td>4.885249</td>\n",
       "      <td>8608.386210</td>\n",
       "      <td>342.317995</td>\n",
       "    </tr>\n",
       "    <tr>\n",
       "      <th>min</th>\n",
       "      <td>12.000000</td>\n",
       "      <td>2.000000</td>\n",
       "      <td>1.300000</td>\n",
       "      <td>1.219000e+04</td>\n",
       "      <td>0.000000</td>\n",
       "      <td>1.000000</td>\n",
       "      <td>1.000000</td>\n",
       "      <td>1.000000</td>\n",
       "      <td>181.000000</td>\n",
       "      <td>1.000000</td>\n",
       "    </tr>\n",
       "    <tr>\n",
       "      <th>25%</th>\n",
       "      <td>40.000000</td>\n",
       "      <td>18.600000</td>\n",
       "      <td>7.000000</td>\n",
       "      <td>3.400000e+06</td>\n",
       "      <td>1.000000</td>\n",
       "      <td>2.520000</td>\n",
       "      <td>5.000000</td>\n",
       "      <td>2.000000</td>\n",
       "      <td>9238.000000</td>\n",
       "      <td>288.000000</td>\n",
       "    </tr>\n",
       "    <tr>\n",
       "      <th>50%</th>\n",
       "      <td>52.000000</td>\n",
       "      <td>30.000000</td>\n",
       "      <td>9.100000</td>\n",
       "      <td>4.650000e+06</td>\n",
       "      <td>2.000000</td>\n",
       "      <td>2.650000</td>\n",
       "      <td>9.000000</td>\n",
       "      <td>4.000000</td>\n",
       "      <td>13098.500000</td>\n",
       "      <td>455.000000</td>\n",
       "    </tr>\n",
       "    <tr>\n",
       "      <th>75%</th>\n",
       "      <td>69.900000</td>\n",
       "      <td>42.300000</td>\n",
       "      <td>12.000000</td>\n",
       "      <td>6.800000e+06</td>\n",
       "      <td>3.000000</td>\n",
       "      <td>2.800000</td>\n",
       "      <td>16.000000</td>\n",
       "      <td>8.000000</td>\n",
       "      <td>16293.000000</td>\n",
       "      <td>612.000000</td>\n",
       "    </tr>\n",
       "    <tr>\n",
       "      <th>max</th>\n",
       "      <td>900.000000</td>\n",
       "      <td>409.700000</td>\n",
       "      <td>112.000000</td>\n",
       "      <td>7.630000e+08</td>\n",
       "      <td>19.000000</td>\n",
       "      <td>100.000000</td>\n",
       "      <td>60.000000</td>\n",
       "      <td>33.000000</td>\n",
       "      <td>65968.000000</td>\n",
       "      <td>3190.000000</td>\n",
       "    </tr>\n",
       "  </tbody>\n",
       "</table>\n",
       "</div>"
      ],
      "text/plain": [
       "         total_area   living_area  kitchen_area    last_price         rooms  \\\n",
       "count  23699.000000  21796.000000  21421.000000  2.369900e+04  23699.000000   \n",
       "mean      60.348651     34.457852     10.569807  6.541549e+06      2.070636   \n",
       "std       35.654083     22.030445      5.905438  1.088701e+07      1.078405   \n",
       "min       12.000000      2.000000      1.300000  1.219000e+04      0.000000   \n",
       "25%       40.000000     18.600000      7.000000  3.400000e+06      1.000000   \n",
       "50%       52.000000     30.000000      9.100000  4.650000e+06      2.000000   \n",
       "75%       69.900000     42.300000     12.000000  6.800000e+06      3.000000   \n",
       "max      900.000000    409.700000    112.000000  7.630000e+08     19.000000   \n",
       "\n",
       "       ceiling_height  floors_total         floor  cityCenters_nearest  \\\n",
       "count    14504.000000  23622.000000  23699.000000         18180.000000   \n",
       "mean         2.771499     10.674879      5.892358         14191.277833   \n",
       "std          1.261056      6.596491      4.885249          8608.386210   \n",
       "min          1.000000      1.000000      1.000000           181.000000   \n",
       "25%          2.520000      5.000000      2.000000          9238.000000   \n",
       "50%          2.650000      9.000000      4.000000         13098.500000   \n",
       "75%          2.800000     16.000000      8.000000         16293.000000   \n",
       "max        100.000000     60.000000     33.000000         65968.000000   \n",
       "\n",
       "       parks_nearest  \n",
       "count    8079.000000  \n",
       "mean      490.804555  \n",
       "std       342.317995  \n",
       "min         1.000000  \n",
       "25%       288.000000  \n",
       "50%       455.000000  \n",
       "75%       612.000000  \n",
       "max      3190.000000  "
      ]
     },
     "execution_count": 31,
     "metadata": {},
     "output_type": "execute_result"
    }
   ],
   "source": [
    "data[['total_area', 'living_area', 'kitchen_area', 'last_price', 'rooms', 'ceiling_height', 'floors_total' , 'floor' , 'cityCenters_nearest' , 'parks_nearest']].describe()"
   ]
  },
  {
   "cell_type": "code",
   "execution_count": 32,
   "metadata": {},
   "outputs": [
    {
     "data": {
      "text/plain": [
       "count    23699.000000\n",
       "mean        60.348651\n",
       "std         35.654083\n",
       "min         12.000000\n",
       "25%         40.000000\n",
       "50%         52.000000\n",
       "75%         69.900000\n",
       "max        900.000000\n",
       "Name: total_area, dtype: float64"
      ]
     },
     "execution_count": 32,
     "metadata": {},
     "output_type": "execute_result"
    },
    {
     "data": {
      "image/png": "[encoded data removed]",
      "text/plain": [
       "<Figure size 504x360 with 1 Axes>"
      ]
     },
     "metadata": {
      "needs_background": "light"
     },
     "output_type": "display_data"
    }
   ],
   "source": [
    "#изучим общую площадь\n",
    "data\n",
    "data.plot(y = 'total_area', kind = 'hist', bins = 100, grid=True, figsize = (7,5), range = (0,200))\n",
    "data['total_area'].describe()\n",
    "#распределение данных нормальное, есть выбросы но они не сильно влияют на данные, \n",
    "#по гистограмме кроме распределения нечего больше указать, с помошью describe получили общее представление\n"
   ]
  },
  {
   "cell_type": "markdown",
   "metadata": {},
   "source": [
    "из графика можно сказать, что объекты до 70м2 выставляют чаще"
   ]
  },
  {
   "cell_type": "code",
   "execution_count": 33,
   "metadata": {},
   "outputs": [
    {
     "data": {
      "text/plain": [
       "count    21796.000000\n",
       "mean        34.457852\n",
       "std         22.030445\n",
       "min          2.000000\n",
       "25%         18.600000\n",
       "50%         30.000000\n",
       "75%         42.300000\n",
       "max        409.700000\n",
       "Name: living_area, dtype: float64"
      ]
     },
     "execution_count": 33,
     "metadata": {},
     "output_type": "execute_result"
    },
    {
     "data": {
      "image/png": "[encoded data removed]",
      "text/plain": [
       "<Figure size 504x360 with 1 Axes>"
      ]
     },
     "metadata": {
      "needs_background": "light"
     },
     "output_type": "display_data"
    }
   ],
   "source": [
    "#изучим жилую площадь\n",
    "data\n",
    "data.plot(y = 'living_area', kind = 'hist', bins = 100, grid=True, figsize = (7,5), range = (0,60))\n",
    "data['living_area'].describe()\n",
    "#распределение данных нормальное, есть выбросы но они не сильно влияют на данны"
   ]
  },
  {
   "cell_type": "markdown",
   "metadata": {},
   "source": [
    "чаще всего выставляют на продажу помещения в жилой площадью до 40м2"
   ]
  },
  {
   "cell_type": "code",
   "execution_count": 34,
   "metadata": {},
   "outputs": [
    {
     "data": {
      "text/plain": [
       "count    21421.000000\n",
       "mean        10.569807\n",
       "std          5.905438\n",
       "min          1.300000\n",
       "25%          7.000000\n",
       "50%          9.100000\n",
       "75%         12.000000\n",
       "max        112.000000\n",
       "Name: kitchen_area, dtype: float64"
      ]
     },
     "execution_count": 34,
     "metadata": {},
     "output_type": "execute_result"
    },
    {
     "data": {
      "image/png": "[encoded data removed]",
      "text/plain": [
       "<Figure size 504x360 with 1 Axes>"
      ]
     },
     "metadata": {
      "needs_background": "light"
     },
     "output_type": "display_data"
    }
   ],
   "source": [
    "#изучим площадь кухни\n",
    "data\n",
    "data.plot(y = 'kitchen_area', kind = 'hist', bins = 30, grid=True, figsize = (7,5), range = (0,40))\n",
    "data['kitchen_area'].describe()\n",
    "#распределение данных нормальное, есть выбросы но они не сильно влияют на данны"
   ]
  },
  {
   "cell_type": "markdown",
   "metadata": {},
   "source": [
    "в объявлениях чаще всего кухни с метражом до 20м2"
   ]
  },
  {
   "cell_type": "code",
   "execution_count": 35,
   "metadata": {},
   "outputs": [
    {
     "data": {
      "text/plain": [
       "count    2.369900e+04\n",
       "mean     6.541549e+06\n",
       "std      1.088701e+07\n",
       "min      1.219000e+04\n",
       "25%      3.400000e+06\n",
       "50%      4.650000e+06\n",
       "75%      6.800000e+06\n",
       "max      7.630000e+08\n",
       "Name: last_price, dtype: float64"
      ]
     },
     "execution_count": 35,
     "metadata": {},
     "output_type": "execute_result"
    },
    {
     "data": {
      "image/png": "[encoded data removed]",
      "text/plain": [
       "<Figure size 504x360 with 1 Axes>"
      ]
     },
     "metadata": {
      "needs_background": "light"
     },
     "output_type": "display_data"
    }
   ],
   "source": [
    "#изучим цену объекта\n",
    "#data['last_price'] = data['last_price']/1000000\n",
    "data.plot(y = 'last_price', kind = 'hist', bins = 100, grid=True, range = (0,15000000), figsize = (7,5))\n",
    "data['last_price'].describe()\n",
    "#с данными все впорядке, но значения выводятся в экспоненциальной записи чисел"
   ]
  },
  {
   "cell_type": "code",
   "execution_count": 36,
   "metadata": {},
   "outputs": [],
   "source": [
    "#data['last_price'].max().plot(kind = 'hist', bins = 100, grid=True, range = (0,15000000), figsize = (7,5))"
   ]
  },
  {
   "cell_type": "code",
   "execution_count": 37,
   "metadata": {},
   "outputs": [
    {
     "data": {
      "text/plain": [
       "count    23699.000000\n",
       "mean         2.070636\n",
       "std          1.078405\n",
       "min          0.000000\n",
       "25%          1.000000\n",
       "50%          2.000000\n",
       "75%          3.000000\n",
       "max         19.000000\n",
       "Name: rooms, dtype: float64"
      ]
     },
     "execution_count": 37,
     "metadata": {},
     "output_type": "execute_result"
    },
    {
     "data": {
      "image/png": "[encoded data removed]",
      "text/plain": [
       "<Figure size 504x360 with 1 Axes>"
      ]
     },
     "metadata": {
      "needs_background": "light"
     },
     "output_type": "display_data"
    }
   ],
   "source": [
    "#изучим количество комнат\n",
    "data\n",
    "data.plot(y = 'rooms', kind = 'hist', bins = 30, range = (1,20), grid=True, figsize = (7,5))\n",
    "data['rooms'].describe()\n",
    "#с данными все впорядке"
   ]
  },
  {
   "cell_type": "markdown",
   "metadata": {},
   "source": [
    "Из данных можно сказать, что нв продаже в основном квартиры до 4-х комнат, иные объекты выставлены реже "
   ]
  },
  {
   "cell_type": "code",
   "execution_count": 38,
   "metadata": {},
   "outputs": [
    {
     "data": {
      "text/plain": [
       "count    8079.000000\n",
       "mean      490.804555\n",
       "std       342.317995\n",
       "min         1.000000\n",
       "25%       288.000000\n",
       "50%       455.000000\n",
       "75%       612.000000\n",
       "max      3190.000000\n",
       "Name: parks_nearest, dtype: float64"
      ]
     },
     "execution_count": 38,
     "metadata": {},
     "output_type": "execute_result"
    },
    {
     "data": {
      "image/png": "[encoded data removed]",
      "text/plain": [
       "<Figure size 504x360 with 1 Axes>"
      ]
     },
     "metadata": {
      "needs_background": "light"
     },
     "output_type": "display_data"
    }
   ],
   "source": [
    "#изучение расстояние до ближайщего парка\n",
    "data\n",
    "data.plot(y = 'parks_nearest', kind = 'hist',bins = 50, range = (1,2000),  grid=True, figsize = (7,5))\n",
    "data['parks_nearest'].describe()"
   ]
  },
  {
   "cell_type": "markdown",
   "metadata": {},
   "source": [
    "исходя из графика можно сказать, что расспределение данных нормальное, имеются выбросы, но они не сильно влияют на данные"
   ]
  },
  {
   "cell_type": "code",
   "execution_count": 39,
   "metadata": {},
   "outputs": [
    {
     "data": {
      "text/plain": [
       "count    14504.000000\n",
       "mean         2.771499\n",
       "std          1.261056\n",
       "min          1.000000\n",
       "25%          2.520000\n",
       "50%          2.650000\n",
       "75%          2.800000\n",
       "max        100.000000\n",
       "Name: ceiling_height, dtype: float64"
      ]
     },
     "execution_count": 39,
     "metadata": {},
     "output_type": "execute_result"
    },
    {
     "data": {
      "image/png": "[encoded data removed]",
      "text/plain": [
       "<Figure size 504x360 with 1 Axes>"
      ]
     },
     "metadata": {
      "needs_background": "light"
     },
     "output_type": "display_data"
    }
   ],
   "source": [
    "#изучим высоту потолков\n",
    "data\n",
    "data.plot(y = 'ceiling_height', kind = 'hist', bins = 30, range = (2,4), grid=True, figsize = (7,5))\n",
    "data['ceiling_height'].describe()\n",
    "#с данными все впорядке\n",
    "#распределение данных нормальное, есть выбросы но они не сильно влияют на данные"
   ]
  },
  {
   "cell_type": "markdown",
   "metadata": {},
   "source": [
    "график отображает, что чаще всего в объявлениях встречаются потолки 2,5 метра"
   ]
  },
  {
   "cell_type": "code",
   "execution_count": 40,
   "metadata": {},
   "outputs": [
    {
     "data": {
      "text/plain": [
       "count    23622.000000\n",
       "mean        10.674879\n",
       "std          6.596491\n",
       "min          1.000000\n",
       "25%          5.000000\n",
       "50%          9.000000\n",
       "75%         16.000000\n",
       "max         60.000000\n",
       "Name: floors_total, dtype: float64"
      ]
     },
     "execution_count": 40,
     "metadata": {},
     "output_type": "execute_result"
    },
    {
     "data": {
      "image/png": "[encoded data removed]",
      "text/plain": [
       "<Figure size 504x360 with 1 Axes>"
      ]
     },
     "metadata": {
      "needs_background": "light"
     },
     "output_type": "display_data"
    }
   ],
   "source": [
    "#изучим общее количество этажей в доме\n",
    "data\n",
    "data.plot(y = 'floors_total', kind = 'hist', bins = 20, range = (0,25), grid=True, figsize = (7,5))\n",
    "data['floors_total'].describe()\n",
    "#с данными все впорядке\n",
    "#распределение данных нормальное, есть выбросы но они не сильно влияют на данные"
   ]
  },
  {
   "cell_type": "markdown",
   "metadata": {},
   "source": [
    "из графика можно сказать, что в городе предобладает постройка невысоких зданий до 10 этажей"
   ]
  },
  {
   "cell_type": "code",
   "execution_count": 41,
   "metadata": {},
   "outputs": [
    {
     "data": {
      "text/plain": [
       "count    18180.000000\n",
       "mean     14191.277833\n",
       "std       8608.386210\n",
       "min        181.000000\n",
       "25%       9238.000000\n",
       "50%      13098.500000\n",
       "75%      16293.000000\n",
       "max      65968.000000\n",
       "Name: cityCenters_nearest, dtype: float64"
      ]
     },
     "execution_count": 41,
     "metadata": {},
     "output_type": "execute_result"
    },
    {
     "data": {
      "image/png": "[encoded data removed]",
      "text/plain": [
       "<Figure size 504x360 with 1 Axes>"
      ]
     },
     "metadata": {
      "needs_background": "light"
     },
     "output_type": "display_data"
    }
   ],
   "source": [
    "#изучим расстояние до центра города в метрах;\n",
    "data\n",
    "data.plot(y = 'cityCenters_nearest', kind = 'hist', bins = 50, grid=True, figsize = (7,5))\n",
    "data['cityCenters_nearest'].describe()"
   ]
  },
  {
   "cell_type": "markdown",
   "metadata": {},
   "source": [
    "распределение данных нормальное, есть выбросы но они не сильно влияют на данные"
   ]
  },
  {
   "cell_type": "code",
   "execution_count": 42,
   "metadata": {},
   "outputs": [],
   "source": [
    "#cityCenters_nearest"
   ]
  },
  {
   "cell_type": "code",
   "execution_count": 43,
   "metadata": {},
   "outputs": [
    {
     "data": {
      "text/plain": [
       "180.88863436982163"
      ]
     },
     "execution_count": 43,
     "metadata": {},
     "output_type": "execute_result"
    }
   ],
   "source": [
    "data['days_exposition'].mean()\n",
    "#посчитаем среднее"
   ]
  },
  {
   "cell_type": "markdown",
   "metadata": {},
   "source": [
    "из данных мы видим, что средний показатель не превышает норму, что означает, что даже небольшое кол-во выбрасов не сильно влияет на данные"
   ]
  },
  {
   "cell_type": "code",
   "execution_count": 44,
   "metadata": {},
   "outputs": [
    {
     "data": {
      "text/plain": [
       "95.0"
      ]
     },
     "execution_count": 44,
     "metadata": {},
     "output_type": "execute_result"
    }
   ],
   "source": [
    "data['days_exposition'].median()\n",
    "#посчитаем медиану"
   ]
  },
  {
   "cell_type": "code",
   "execution_count": 45,
   "metadata": {},
   "outputs": [
    {
     "data": {
      "text/plain": [
       "<function matplotlib.pyplot.ylabel(ylabel, fontdict=None, labelpad=None, *, loc=None, **kwargs)>"
      ]
     },
     "execution_count": 45,
     "metadata": {},
     "output_type": "execute_result"
    },
    {
     "data": {
      "image/png": "[encoded data removed]",
      "text/plain": [
       "<Figure size 1080x504 with 1 Axes>"
      ]
     },
     "metadata": {
      "needs_background": "light"
     },
     "output_type": "display_data"
    }
   ],
   "source": [
    "import matplotlib.pyplot as plt\n",
    "data['days_exposition'].hist(bins=200, figsize=(15,7))\n",
    "plt.title('title1')\n",
    "plt.xlabel\n",
    "plt.ylabel"
   ]
  },
  {
   "cell_type": "markdown",
   "metadata": {},
   "source": [
    "средняя показывает, что кв-ра в среднем за 156 дней, а медиана отображает 74 дня. Из графике мы видим, что большая часть квартир продается в его начале, то есть где то в течении 100 дней. Есть квартиры, которые продаются намного дольше, то таких очень мало"
   ]
  },
  {
   "cell_type": "code",
   "execution_count": 46,
   "metadata": {},
   "outputs": [
    {
     "data": {
      "text/plain": [
       "count    20518.000000\n",
       "mean       180.888634\n",
       "std        219.727988\n",
       "min          1.000000\n",
       "25%         45.000000\n",
       "50%         95.000000\n",
       "75%        232.000000\n",
       "max       1580.000000\n",
       "Name: days_exposition, dtype: float64"
      ]
     },
     "execution_count": 46,
     "metadata": {},
     "output_type": "execute_result"
    },
    {
     "data": {
      "image/png": "[encoded data removed]",
      "text/plain": [
       "<Figure size 720x216 with 1 Axes>"
      ]
     },
     "metadata": {
      "needs_background": "light"
     },
     "output_type": "display_data"
    }
   ],
   "source": [
    "data.query('25<days_exposition<100')['days_exposition'].hist(bins=100, figsize=(10,3))\n",
    "data['days_exposition'].describe()"
   ]
  },
  {
   "cell_type": "markdown",
   "metadata": {},
   "source": [
    "создадим срез от 30 до 100 дней и выявим самые быстрые и долгие периоды продажи. из гистограммы можем сказать, что пик продаж происходит на 45, а долгим периодом продажи  считается 232 дня"
   ]
  },
  {
   "cell_type": "code",
   "execution_count": 47,
   "metadata": {},
   "outputs": [
    {
     "data": {
      "text/plain": [
       "0.6536750579657242"
      ]
     },
     "execution_count": 47,
     "metadata": {},
     "output_type": "execute_result"
    },
    {
     "data": {
      "image/png": "[encoded data removed]",
      "text/plain": [
       "<Figure size 432x288 with 1 Axes>"
      ]
     },
     "metadata": {
      "needs_background": "light"
     },
     "output_type": "display_data"
    }
   ],
   "source": [
    "#зависимость цены от общей площади\n",
    "pivot_table_total_area = data.pivot_table(index = 'total_area', values = 'last_price', aggfunc = ['mean', 'count', 'median'])\n",
    "pivot_table_total_area.columns = ['mean', 'count', 'median']\n",
    "pivot_table_total_area.plot(y = 'median', style = 'o')\n",
    "pivot_table_total_area.sort_values('median', ascending = False)\n",
    "data['total_area'].corr(data['last_price'])"
   ]
  },
  {
   "cell_type": "code",
   "execution_count": 48,
   "metadata": {},
   "outputs": [
    {
     "data": {
      "text/plain": [
       "0.5198690130216392"
      ]
     },
     "execution_count": 48,
     "metadata": {},
     "output_type": "execute_result"
    },
    {
     "data": {
      "image/png": "[encoded data removed]",
      "text/plain": [
       "<Figure size 432x288 with 1 Axes>"
      ]
     },
     "metadata": {
      "needs_background": "light"
     },
     "output_type": "display_data"
    }
   ],
   "source": [
    "#зависимость цены от площади кухни\n",
    "pivot_table_total_area = data.pivot_table(index = 'kitchen_area', values = 'last_price', aggfunc = ['mean', 'count', 'median'])\n",
    "pivot_table_total_area.columns = ['mean', 'count', 'median']\n",
    "pivot_table_total_area.plot(y = 'median', style = 'o')\n",
    "pivot_table_total_area.sort_values('median', ascending = False)\n",
    "data['kitchen_area'].corr(data['last_price'])"
   ]
  },
  {
   "cell_type": "markdown",
   "metadata": {},
   "source": [
    "исходя из полученных данных можно сказать, что не всегда эти два фактора зависимы друг от друга, что подтверждает корреляция"
   ]
  },
  {
   "cell_type": "markdown",
   "metadata": {},
   "source": [
    "да, корреляция есть, но она небольшая"
   ]
  },
  {
   "cell_type": "code",
   "execution_count": 58,
   "metadata": {},
   "outputs": [
    {
     "data": {
      "text/plain": [
       "0.5664915336952651"
      ]
     },
     "execution_count": 58,
     "metadata": {},
     "output_type": "execute_result"
    },
    {
     "data": {
      "image/png": "[encoded data removed]",
      "text/plain": [
       "<Figure size 432x288 with 1 Axes>"
      ]
     },
     "metadata": {
      "needs_background": "light"
     },
     "output_type": "display_data"
    }
   ],
   "source": [
    "#зависимость цены от жилой площади\n",
    "pivot_table_total_area = data.pivot_table(index = 'living_area', values = 'last_price', aggfunc = ['mean', 'count', 'median'])\n",
    "pivot_table_total_area.columns = ['mean', 'count', 'median']\n",
    "pivot_table_total_area.plot(y = 'median', style = 'o')\n",
    "pivot_table_total_area.sort_values('median', ascending = False)\n",
    "data['living_area'].corr(data['last_price'])"
   ]
  },
  {
   "cell_type": "markdown",
   "metadata": {},
   "source": [
    "жилая площадь чуть больше влияет на стоимость объекта, в отличии от площади кухни. Но также не является основополагающей стоимости объекта"
   ]
  },
  {
   "cell_type": "markdown",
   "metadata": {},
   "source": [
    "посчитаем корреляцию по Пирсону\n",
    "Коэффициент корреляции 0,65 говорит о том, что связь положительная, но сильная, поскольку не равна 1. Получается цена зависит от площади, но не всегда"
   ]
  },
  {
   "cell_type": "code",
   "execution_count": 59,
   "metadata": {},
   "outputs": [
    {
     "data": {
      "text/plain": [
       "0.3633428499648948"
      ]
     },
     "execution_count": 59,
     "metadata": {},
     "output_type": "execute_result"
    },
    {
     "data": {
      "image/png": "[encoded data removed]",
      "text/plain": [
       "<Figure size 504x360 with 1 Axes>"
      ]
     },
     "metadata": {
      "needs_background": "light"
     },
     "output_type": "display_data"
    }
   ],
   "source": [
    "#зависимость цены от количества комнат\n",
    "pivot_table_rooms = data.pivot_table(index = 'rooms', values = 'last_price', aggfunc = ['mean', 'count', 'median']).plot(grid=True, style='o-', figsize=(7, 5))\n",
    "data['rooms'].corr(data['last_price'])"
   ]
  },
  {
   "cell_type": "markdown",
   "metadata": {},
   "source": [
    "исходя из графика можно сказать, что самыми выгодными к покупке являются 4-х комнатные квартиры. Корреляция имеется, но связь слабая, несмотря на то, что она положительная"
   ]
  },
  {
   "cell_type": "code",
   "execution_count": 60,
   "metadata": {},
   "outputs": [
    {
     "data": {
      "text/plain": [
       "0.5198690130216392"
      ]
     },
     "execution_count": 60,
     "metadata": {},
     "output_type": "execute_result"
    },
    {
     "data": {
      "image/png": "[encoded data removed]",
      "text/plain": [
       "<Figure size 432x288 with 1 Axes>"
      ]
     },
     "metadata": {
      "needs_background": "light"
     },
     "output_type": "display_data"
    }
   ],
   "source": [
    "#зависимость цены от площади кухни\n",
    "pivot_table_rooms = data.pivot_table(index = 'kitchen_area', values = 'price_per_square_meter', aggfunc = ['mean', 'count', 'median'])\n",
    "pivot_table_rooms.columns = ['mean', 'count', 'median']\n",
    "pivot_table_rooms.query('count > 50').plot(y = 'median')\n",
    "pivot_table_rooms.query('count > 50').sort_values('median', ascending = False)\n",
    "data['kitchen_area'].corr(data['last_price'])"
   ]
  },
  {
   "cell_type": "markdown",
   "metadata": {},
   "source": [
    "исходя из графика можно сказать, что чем меньше площадь кухни, тем меньше цена. Корреляция положительная и показывает, что в половине случае цена зависит от метража кухни"
   ]
  },
  {
   "cell_type": "code",
   "execution_count": 61,
   "metadata": {},
   "outputs": [
    {
     "data": {
      "text/plain": [
       "0.5664915336952651"
      ]
     },
     "execution_count": 61,
     "metadata": {},
     "output_type": "execute_result"
    },
    {
     "data": {
      "image/png": "[encoded data removed]",
      "text/plain": [
       "<Figure size 432x288 with 1 Axes>"
      ]
     },
     "metadata": {
      "needs_background": "light"
     },
     "output_type": "display_data"
    }
   ],
   "source": [
    "#зависимость цены от жилой площади\n",
    "pivot_table_rooms = data.pivot_table(index = 'living_area', values = 'price_per_square_meter', aggfunc = ['mean', 'count', 'median'])\n",
    "pivot_table_rooms.columns = ['mean', 'count', 'median']\n",
    "pivot_table_rooms.query('count > 50').plot(y = 'median')\n",
    "pivot_table_rooms.query('count > 50').sort_values('median', ascending = False)\n",
    "data['living_area'].corr(data['last_price'])"
   ]
  },
  {
   "cell_type": "markdown",
   "metadata": {},
   "source": [
    "из графика можно сказать, что выгодней всег приобретать квартиры примерно 30 и 45 м. Корреляция положительная, но не сильная"
   ]
  },
  {
   "cell_type": "code",
   "execution_count": 62,
   "metadata": {},
   "outputs": [
    {
     "data": {
      "text/plain": [
       "0.0015501452176215405"
      ]
     },
     "execution_count": 62,
     "metadata": {},
     "output_type": "execute_result"
    },
    {
     "data": {
      "image/png": "[encoded data removed]",
      "text/plain": [
       "<Figure size 432x288 with 1 Axes>"
      ]
     },
     "metadata": {
      "needs_background": "light"
     },
     "output_type": "display_data"
    }
   ],
   "source": [
    "#зависимость цены от даты размещения (день)\n",
    "data['weekday_exposition'] = data['first_day_exposition'].dt.weekday\n",
    "pivot_table_weekday_exposition = data.pivot_table(index = 'weekday_exposition', values = 'price_per_square_meter', aggfunc = ['mean', 'count', 'median'])\n",
    "pivot_table_weekday_exposition.columns = ['mean', 'count', 'median']\n",
    "pivot_table_weekday_exposition.plot(y = 'median')\n",
    "pivot_table_weekday_exposition.sort_values('median', ascending = False)\n",
    "\n",
    "data['weekday_exposition'].corr(data['last_price'])"
   ]
  },
  {
   "cell_type": "markdown",
   "metadata": {},
   "source": [
    "из гарфика можно сказать, что наивысший пик стоимость объекта приходится на вторник. Корреляция очень слабая"
   ]
  },
  {
   "cell_type": "code",
   "execution_count": 54,
   "metadata": {},
   "outputs": [
    {
     "data": {
      "text/plain": [
       "0.0027791287507397166"
      ]
     },
     "execution_count": 54,
     "metadata": {},
     "output_type": "execute_result"
    },
    {
     "data": {
      "image/png": "[encoded data removed]",
      "text/plain": [
       "<Figure size 432x288 with 1 Axes>"
      ]
     },
     "metadata": {
      "needs_background": "light"
     },
     "output_type": "display_data"
    }
   ],
   "source": [
    "#зависимость цены от даты размещения (месяц)\n",
    "data['month_exposition'] = data['first_day_exposition'].dt.month\n",
    "pivot_table_month_exposition = data.pivot_table(index = 'month_exposition', values = 'price_per_square_meter', aggfunc = ['mean', 'count', 'median'])\n",
    "pivot_table_month_exposition.columns = ['mean', 'count', 'median']\n",
    "pivot_table_month_exposition.plot(y = 'median')\n",
    "pivot_table_month_exposition.sort_values('median', ascending = False)\n",
    "data['month_exposition'].corr(data['last_price'])"
   ]
  },
  {
   "cell_type": "markdown",
   "metadata": {},
   "source": [
    "по результатам таблицы можно сказать, что наибольшая стоимость объектов на рынке в апреле и августе, а наименьшая в мае и июне. Корреляция показывает минимальную связь"
   ]
  },
  {
   "cell_type": "code",
   "execution_count": 55,
   "metadata": {},
   "outputs": [
    {
     "data": {
      "text/plain": [
       "-0.043089036199508615"
      ]
     },
     "execution_count": 55,
     "metadata": {},
     "output_type": "execute_result"
    },
    {
     "data": {
      "image/png": "[encoded data removed]",
      "text/plain": [
       "<Figure size 432x288 with 1 Axes>"
      ]
     },
     "metadata": {
      "needs_background": "light"
     },
     "output_type": "display_data"
    }
   ],
   "source": [
    "#зависимость цены от даты размещения (год)\n",
    "data['year_exposition'] = data['first_day_exposition'].dt.year\n",
    "pivot_table_year_exposition = data.pivot_table(index = 'year_exposition', values = 'price_per_square_meter', aggfunc = ['mean', 'count', 'median'])\n",
    "pivot_table_year_exposition.columns = ['mean', 'count', 'median']\n",
    "pivot_table_year_exposition.plot(y = 'median')\n",
    "pivot_table_year_exposition.sort_values('median', ascending = False)\n",
    "data['year_exposition'].corr(data['last_price'])"
   ]
  },
  {
   "cell_type": "markdown",
   "metadata": {},
   "source": [
    "из графика следует, что цена объектов с 2014 по 2016 падала, а дальше цена на рынке недвижости стала расти. Корреляция отрицательная, связи нет."
   ]
  },
  {
   "cell_type": "markdown",
   "metadata": {},
   "source": [
    "Везде добавила информацию по корреляции"
   ]
  },
  {
   "cell_type": "code",
   "execution_count": 56,
   "metadata": {},
   "outputs": [
    {
     "data": {
      "text/html": [
       "<div>\n",
       "<style scoped>\n",
       "    .dataframe tbody tr th:only-of-type {\n",
       "        vertical-align: middle;\n",
       "    }\n",
       "\n",
       "    .dataframe tbody tr th {\n",
       "        vertical-align: top;\n",
       "    }\n",
       "\n",
       "    .dataframe thead th {\n",
       "        text-align: right;\n",
       "    }\n",
       "</style>\n",
       "<table border=\"1\" class=\"dataframe\">\n",
       "  <thead>\n",
       "    <tr style=\"text-align: right;\">\n",
       "      <th></th>\n",
       "      <th>count</th>\n",
       "      <th>mean</th>\n",
       "    </tr>\n",
       "    <tr>\n",
       "      <th>locality_name</th>\n",
       "      <th></th>\n",
       "      <th></th>\n",
       "    </tr>\n",
       "  </thead>\n",
       "  <tbody>\n",
       "    <tr>\n",
       "      <th>санкт-петербург</th>\n",
       "      <td>15721</td>\n",
       "      <td>114849.008793</td>\n",
       "    </tr>\n",
       "    <tr>\n",
       "      <th>пгт мурино</th>\n",
       "      <td>556</td>\n",
       "      <td>85681.762572</td>\n",
       "    </tr>\n",
       "    <tr>\n",
       "      <th>пгт шушары</th>\n",
       "      <td>440</td>\n",
       "      <td>78677.364318</td>\n",
       "    </tr>\n",
       "    <tr>\n",
       "      <th>всеволожск</th>\n",
       "      <td>398</td>\n",
       "      <td>68654.473970</td>\n",
       "    </tr>\n",
       "    <tr>\n",
       "      <th>пушкин</th>\n",
       "      <td>369</td>\n",
       "      <td>103125.819377</td>\n",
       "    </tr>\n",
       "    <tr>\n",
       "      <th>колпино</th>\n",
       "      <td>338</td>\n",
       "      <td>75424.579112</td>\n",
       "    </tr>\n",
       "    <tr>\n",
       "      <th>пгт парголово</th>\n",
       "      <td>327</td>\n",
       "      <td>90175.913089</td>\n",
       "    </tr>\n",
       "    <tr>\n",
       "      <th>гатчина</th>\n",
       "      <td>307</td>\n",
       "      <td>68746.146515</td>\n",
       "    </tr>\n",
       "    <tr>\n",
       "      <th>деревня кудрово</th>\n",
       "      <td>299</td>\n",
       "      <td>92473.547559</td>\n",
       "    </tr>\n",
       "    <tr>\n",
       "      <th>выборг</th>\n",
       "      <td>237</td>\n",
       "      <td>58141.909325</td>\n",
       "    </tr>\n",
       "  </tbody>\n",
       "</table>\n",
       "</div>"
      ],
      "text/plain": [
       "                 count           mean\n",
       "locality_name                        \n",
       "санкт-петербург  15721  114849.008793\n",
       "пгт мурино         556   85681.762572\n",
       "пгт шушары         440   78677.364318\n",
       "всеволожск         398   68654.473970\n",
       "пушкин             369  103125.819377\n",
       "колпино            338   75424.579112\n",
       "пгт парголово      327   90175.913089\n",
       "гатчина            307   68746.146515\n",
       "деревня кудрово    299   92473.547559\n",
       "выборг             237   58141.909325"
      ]
     },
     "execution_count": 56,
     "metadata": {},
     "output_type": "execute_result"
    }
   ],
   "source": [
    "#Посчитаем среднюю цену одного квадратного метра в 10 населённых пунктах с наибольшим числом объявлений\n",
    "locality_pivot_table = data.pivot_table(index = 'locality_name', values = 'price_per_square_meter', aggfunc=['count', 'mean'])\n",
    "locality_pivot_table.columns = ['count', 'mean']\n",
    "locality_pivot_table = locality_pivot_table.sort_values('count', ascending = False).head(10)\n",
    "locality_pivot_table"
   ]
  },
  {
   "cell_type": "markdown",
   "metadata": {},
   "source": [
    "из данных видно, что самая высокая стоимость жилья в санкт-петербурге, а самая низкая в городе выборг"
   ]
  },
  {
   "cell_type": "code",
   "execution_count": 57,
   "metadata": {},
   "outputs": [
    {
     "data": {
      "text/plain": [
       "<AxesSubplot:xlabel='km_centre'>"
      ]
     },
     "execution_count": 57,
     "metadata": {},
     "output_type": "execute_result"
    },
    {
     "data": {
      "image/png": "[encoded data removed]",
      "text/plain": [
       "<Figure size 432x288 with 1 Axes>"
      ]
     },
     "metadata": {
      "needs_background": "light"
     },
     "output_type": "display_data"
    }
   ],
   "source": [
    "locality_spb = data[data['locality_name'] == \"санкт-петербург\"].groupby('km_centre')['last_price'].median()\n",
    "locality_spb.plot()"
   ]
  },
  {
   "cell_type": "markdown",
   "metadata": {},
   "source": [
    "из графика можно сказать, что квартиры расположенные в радиусе 5 км стоят дороже, чем остальные. Также имеется увеличение шкалы в промежутке от 25 до 30 км., скорее всего это говорит о стоимости недвижимости в центре близлежащих городов(Пушкин, Павловск, Кронштадт и тд.)"
   ]
  },
  {
   "cell_type": "markdown",
   "metadata": {},
   "source": [
    "исходя из данных можно сказать, что чем ближе квартира к центру, тем она дороже "
   ]
  },
  {
   "cell_type": "markdown",
   "metadata": {
    "id": "A90mc0BgAwb-"
   },
   "source": [
    "**Чек-лист готовности проекта**\n",
    "\n",
    "Поставьте 'x' в выполненных пунктах. Далее нажмите Shift+Enter."
   ]
  },
  {
   "cell_type": "markdown",
   "metadata": {
    "id": "ME3sTWm6Awb-"
   },
   "source": [
    "- [x]  Файл с данными открыт.\n",
    "- [x]  Файл с данными изучен: выведены первые строки, использован метод `info()`, построены гистограммы.\n",
    "- [x]  Найдены пропущенные значения.\n",
    "- [x]  Пропущенные значения заполнены там, где это возможно.\n",
    "- [x]  Объяснено, какие пропущенные значения обнаружены.\n",
    "- [x]  В каждом столбце установлен корректный тип данных.\n",
    "- [x]  Объяснено, в каких столбцах изменён тип данных и почему.\n",
    "- [x]  Устранены неявные дубликаты в названиях населённых пунктов.\n",
    "- [x]  Обработаны редкие и выбивающиеся значения (аномалии).\n",
    "- [x]  В таблицу добавлены новые параметры:\n",
    "       – цена одного квадратного метра;\n",
    "       – день публикации объявления (0 - понедельник, 1 - вторник и т. д.);\n",
    "       – месяц публикации объявления;\n",
    "       – год публикации объявления;\n",
    "       – тип этажа квартиры (значения — «первый», «последний», «другой»);\n",
    "       – расстояние до центра города в километрах.\n",
    "- [x]  Изучены и описаны параметры:\n",
    "        - общая площадь;\n",
    "        - жилая площадь;\n",
    "        - площадь кухни;\n",
    "        - цена объекта;\n",
    "        - количество комнат;\n",
    "        - высота потолков;\n",
    "        - тип этажа квартиры («первый», «последний», «другой»);\n",
    "        - общее количество этажей в доме;\n",
    "        - расстояние до центра города в метрах;\n",
    "        - расстояние до ближайшего парка.\n",
    "- [x]  Выполнено задание «Изучите, как быстро продавались квартиры (столбец `days_exposition`)»:\n",
    "    - построена гистограмма;\n",
    "    - рассчитаны среднее и медиана;\n",
    "    - описано, сколько обычно занимает продажа и указано, какие продажи можно считать быстрыми, а какие — необычно долгими.\n",
    "- [x]  Выполнено задание «Определите факторы, которые больше всего влияют на общую (полную) стоимость объекта». Построены графики, которые показывают зависимость цены от параметров:\n",
    "        - общая площадь;\n",
    "        - жилая площадь;\n",
    "        - площадь кухни;\n",
    "        - количество комнат;\n",
    "        - тип этажа, на котором расположена квартира (первый, последний, другой);\n",
    "        - дата размещения (день недели, месяц, год).\n",
    "- [x]  Выполнено задание «Посчитайте среднюю цену одного квадратного метра в 10 населённых пунктах с наибольшим числом объявлений»:\n",
    "    - выделены населённые пункты с самой высокой и низкой стоимостью квадратного метра.\n",
    "- [x]  Выполнено задание «Выделите квартиры в Санкт-Петербурге с помощью столбца `locality_name` и вычислите их среднюю стоимость на разном удалении от центра»:\n",
    "    -  учтён каждый километр расстояния, известны средние цены квартир в одном километре от центра, в двух и так далее;\n",
    "    -  описано, как стоимость объекта зависит от расстояния до центра города;\n",
    "    -  построен график изменения средней цены для каждого километра от центра Петербурга.\n",
    "- [x]  На каждом этапе сделаны промежуточные выводы.\n",
    "- [x]  В конце проекта сделан общий вывод."
   ]
  },
  {
   "cell_type": "markdown",
   "metadata": {},
   "source": [
    "В данной работе я обработала полученный архив данных, а именно нашла пропущенные значения там, где это необходимо, заменили типы данных на необходимые. Посчитала и добавила в таблицу цену квадратного метра жилья, вывела из даты день недели, месяц и год размещения объявления, добавила категорию по этажам квартир. Изучили следующие параметры: площадь(общаяБ жилая и кухни), цена, число комнат, высота потолков. Также, было выявлено, что на стоимость квадратного метра квартиры больше всего влияют количество комнат, этаж квартиры, близость к центру. Не сильно на стоимость квадратного метра влияют день, месяц, год размещения и общая площадь. Также в ходе анализа, было выявлено, что в 2016-2017 годах стоимость квартир в среднем по рынку была ниже, а дальше пошло повышение цен."
   ]
  }
 ],
 "metadata": {
  "ExecuteTimeLog": [
   {
    "duration": 85,
    "start_time": "2024-02-06T15:45:41.987Z"
   },
   {
    "duration": 71,
    "start_time": "2024-02-06T15:46:22.188Z"
   },
   {
    "duration": 581,
    "start_time": "2024-02-06T15:46:46.644Z"
   },
   {
    "duration": 513,
    "start_time": "2024-02-06T16:46:16.434Z"
   },
   {
    "duration": 100,
    "start_time": "2024-02-06T17:10:18.878Z"
   },
   {
    "duration": 205,
    "start_time": "2024-02-06T17:10:36.650Z"
   },
   {
    "duration": 103,
    "start_time": "2024-02-06T17:16:17.962Z"
   },
   {
    "duration": 106,
    "start_time": "2024-02-06T17:16:37.304Z"
   },
   {
    "duration": 106,
    "start_time": "2024-02-06T17:43:38.500Z"
   },
   {
    "duration": 100,
    "start_time": "2024-02-06T17:44:40.891Z"
   },
   {
    "duration": 106,
    "start_time": "2024-02-06T17:50:40.560Z"
   },
   {
    "duration": 752,
    "start_time": "2024-02-06T17:53:04.553Z"
   },
   {
    "duration": 107,
    "start_time": "2024-02-06T17:59:14.020Z"
   },
   {
    "duration": 104,
    "start_time": "2024-02-06T18:00:06.564Z"
   },
   {
    "duration": 576,
    "start_time": "2024-02-07T12:24:51.012Z"
   },
   {
    "duration": 80,
    "start_time": "2024-02-07T12:37:44.766Z"
   },
   {
    "duration": 136,
    "start_time": "2024-02-07T12:42:55.134Z"
   },
   {
    "duration": 2025,
    "start_time": "2024-02-07T12:45:41.267Z"
   },
   {
    "duration": 1515,
    "start_time": "2024-02-07T12:48:03.195Z"
   },
   {
    "duration": 1410,
    "start_time": "2024-02-07T12:50:11.841Z"
   },
   {
    "duration": 24,
    "start_time": "2024-02-07T12:52:20.231Z"
   },
   {
    "duration": 4,
    "start_time": "2024-02-07T12:54:48.212Z"
   },
   {
    "duration": 3,
    "start_time": "2024-02-07T12:54:52.332Z"
   },
   {
    "duration": 35,
    "start_time": "2024-02-07T12:58:41.757Z"
   },
   {
    "duration": 17,
    "start_time": "2024-02-07T13:02:35.224Z"
   },
   {
    "duration": 4,
    "start_time": "2024-02-07T13:11:22.881Z"
   },
   {
    "duration": 483,
    "start_time": "2024-02-07T14:11:21.395Z"
   },
   {
    "duration": 1614,
    "start_time": "2024-02-07T14:11:21.879Z"
   },
   {
    "duration": 23,
    "start_time": "2024-02-07T14:11:23.494Z"
   },
   {
    "duration": 4,
    "start_time": "2024-02-07T14:11:23.519Z"
   },
   {
    "duration": 24,
    "start_time": "2024-02-07T14:11:23.524Z"
   },
   {
    "duration": 85,
    "start_time": "2024-02-07T14:11:23.549Z"
   },
   {
    "duration": 487,
    "start_time": "2024-02-07T14:12:41.792Z"
   },
   {
    "duration": 1567,
    "start_time": "2024-02-07T14:12:42.280Z"
   },
   {
    "duration": 30,
    "start_time": "2024-02-07T14:12:43.848Z"
   },
   {
    "duration": 9,
    "start_time": "2024-02-07T14:12:43.879Z"
   },
   {
    "duration": 30,
    "start_time": "2024-02-07T14:12:43.889Z"
   },
   {
    "duration": 88,
    "start_time": "2024-02-07T14:12:43.921Z"
   },
   {
    "duration": 15,
    "start_time": "2024-02-07T14:16:28.740Z"
   },
   {
    "duration": 544,
    "start_time": "2024-02-07T15:45:59.665Z"
   },
   {
    "duration": 1660,
    "start_time": "2024-02-07T15:46:00.211Z"
   },
   {
    "duration": 9,
    "start_time": "2024-02-07T15:46:01.872Z"
   },
   {
    "duration": 20,
    "start_time": "2024-02-07T15:46:01.882Z"
   },
   {
    "duration": 42,
    "start_time": "2024-02-07T15:46:01.904Z"
   },
   {
    "duration": 66,
    "start_time": "2024-02-07T15:46:01.948Z"
   },
   {
    "duration": 9,
    "start_time": "2024-02-07T15:47:03.412Z"
   },
   {
    "duration": 16,
    "start_time": "2024-02-07T16:01:30.683Z"
   },
   {
    "duration": 822,
    "start_time": "2024-02-07T16:15:22.878Z"
   },
   {
    "duration": 8,
    "start_time": "2024-02-07T16:16:34.482Z"
   },
   {
    "duration": 12,
    "start_time": "2024-02-07T16:16:37.603Z"
   },
   {
    "duration": 10,
    "start_time": "2024-02-07T16:16:39.811Z"
   },
   {
    "duration": 553,
    "start_time": "2024-02-07T16:16:47.282Z"
   },
   {
    "duration": 1778,
    "start_time": "2024-02-07T16:16:47.837Z"
   },
   {
    "duration": 11,
    "start_time": "2024-02-07T16:16:49.617Z"
   },
   {
    "duration": 33,
    "start_time": "2024-02-07T16:16:49.630Z"
   },
   {
    "duration": 17,
    "start_time": "2024-02-07T16:16:49.665Z"
   },
   {
    "duration": 14,
    "start_time": "2024-02-07T16:16:49.685Z"
   },
   {
    "duration": 73,
    "start_time": "2024-02-07T16:16:49.701Z"
   },
   {
    "duration": 31,
    "start_time": "2024-02-07T16:17:28.804Z"
   },
   {
    "duration": 586,
    "start_time": "2024-02-07T16:18:15.985Z"
   },
   {
    "duration": 1801,
    "start_time": "2024-02-07T16:18:16.575Z"
   },
   {
    "duration": 10,
    "start_time": "2024-02-07T16:18:18.377Z"
   },
   {
    "duration": 27,
    "start_time": "2024-02-07T16:18:18.388Z"
   },
   {
    "duration": 14,
    "start_time": "2024-02-07T16:18:18.416Z"
   },
   {
    "duration": 55,
    "start_time": "2024-02-07T16:18:18.432Z"
   },
   {
    "duration": 80,
    "start_time": "2024-02-07T16:31:54.704Z"
   },
   {
    "duration": 28,
    "start_time": "2024-02-07T16:32:05.974Z"
   },
   {
    "duration": 20,
    "start_time": "2024-02-07T16:32:12.612Z"
   },
   {
    "duration": 26,
    "start_time": "2024-02-07T16:36:23.894Z"
   },
   {
    "duration": 20,
    "start_time": "2024-02-07T16:37:49.236Z"
   },
   {
    "duration": 21,
    "start_time": "2024-02-07T16:37:58.069Z"
   },
   {
    "duration": 19,
    "start_time": "2024-02-07T16:39:45.993Z"
   },
   {
    "duration": 48,
    "start_time": "2024-02-07T16:59:37.610Z"
   },
   {
    "duration": 50,
    "start_time": "2024-02-08T07:25:21.654Z"
   },
   {
    "duration": 776,
    "start_time": "2024-02-08T07:25:33.679Z"
   },
   {
    "duration": 2235,
    "start_time": "2024-02-08T07:25:34.457Z"
   },
   {
    "duration": 26,
    "start_time": "2024-02-08T07:25:36.693Z"
   },
   {
    "duration": 67,
    "start_time": "2024-02-08T07:25:36.721Z"
   },
   {
    "duration": 10,
    "start_time": "2024-02-08T07:25:36.790Z"
   },
   {
    "duration": 2,
    "start_time": "2024-02-08T07:25:36.801Z"
   },
   {
    "duration": 15,
    "start_time": "2024-02-08T07:25:36.805Z"
   },
   {
    "duration": 57,
    "start_time": "2024-02-08T07:25:36.822Z"
   },
   {
    "duration": 2008,
    "start_time": "2024-02-08T07:25:36.880Z"
   },
   {
    "duration": 555,
    "start_time": "2024-02-08T07:25:59.980Z"
   },
   {
    "duration": 2213,
    "start_time": "2024-02-08T07:26:00.537Z"
   },
   {
    "duration": 33,
    "start_time": "2024-02-08T07:26:02.751Z"
   },
   {
    "duration": 59,
    "start_time": "2024-02-08T07:26:02.785Z"
   },
   {
    "duration": 10,
    "start_time": "2024-02-08T07:26:02.858Z"
   },
   {
    "duration": 10,
    "start_time": "2024-02-08T07:26:02.870Z"
   },
   {
    "duration": 57,
    "start_time": "2024-02-08T07:26:02.882Z"
   },
   {
    "duration": 71,
    "start_time": "2024-02-08T07:26:02.941Z"
   },
   {
    "duration": 1503,
    "start_time": "2024-02-08T07:26:03.014Z"
   },
   {
    "duration": 2457,
    "start_time": "2024-02-08T07:26:23.647Z"
   },
   {
    "duration": 11,
    "start_time": "2024-02-08T08:26:09.391Z"
   },
   {
    "duration": 557,
    "start_time": "2024-02-08T08:26:32.020Z"
   },
   {
    "duration": 2476,
    "start_time": "2024-02-08T08:26:32.580Z"
   },
   {
    "duration": 28,
    "start_time": "2024-02-08T08:26:35.057Z"
   },
   {
    "duration": 10,
    "start_time": "2024-02-08T08:26:35.087Z"
   },
   {
    "duration": 5,
    "start_time": "2024-02-08T08:26:35.100Z"
   },
   {
    "duration": 21,
    "start_time": "2024-02-08T08:26:35.107Z"
   },
   {
    "duration": 7,
    "start_time": "2024-02-08T08:26:35.131Z"
   },
   {
    "duration": 21,
    "start_time": "2024-02-08T08:26:35.159Z"
   },
   {
    "duration": 38,
    "start_time": "2024-02-08T08:26:35.185Z"
   },
   {
    "duration": 1206,
    "start_time": "2024-02-08T08:26:35.225Z"
   },
   {
    "duration": 617,
    "start_time": "2024-02-08T08:31:01.951Z"
   },
   {
    "duration": 2497,
    "start_time": "2024-02-08T08:31:02.571Z"
   },
   {
    "duration": 27,
    "start_time": "2024-02-08T08:31:05.070Z"
   },
   {
    "duration": 10,
    "start_time": "2024-02-08T08:31:05.099Z"
   },
   {
    "duration": 3,
    "start_time": "2024-02-08T08:31:05.112Z"
   },
   {
    "duration": 10,
    "start_time": "2024-02-08T08:31:05.117Z"
   },
   {
    "duration": 38,
    "start_time": "2024-02-08T08:31:05.129Z"
   },
   {
    "duration": 48,
    "start_time": "2024-02-08T08:31:05.170Z"
   },
   {
    "duration": 1208,
    "start_time": "2024-02-08T08:31:05.220Z"
   },
   {
    "duration": 287,
    "start_time": "2024-02-08T09:14:45.435Z"
   },
   {
    "duration": 556,
    "start_time": "2024-02-08T09:14:52.412Z"
   },
   {
    "duration": 2479,
    "start_time": "2024-02-08T09:14:52.970Z"
   },
   {
    "duration": 27,
    "start_time": "2024-02-08T09:14:55.451Z"
   },
   {
    "duration": 10,
    "start_time": "2024-02-08T09:14:55.480Z"
   },
   {
    "duration": 24,
    "start_time": "2024-02-08T09:14:55.491Z"
   },
   {
    "duration": 276,
    "start_time": "2024-02-08T09:14:55.516Z"
   },
   {
    "duration": 2,
    "start_time": "2024-02-08T09:14:55.794Z"
   },
   {
    "duration": 30,
    "start_time": "2024-02-08T09:14:55.798Z"
   },
   {
    "duration": 54,
    "start_time": "2024-02-08T09:14:55.830Z"
   },
   {
    "duration": 31,
    "start_time": "2024-02-08T09:14:55.886Z"
   },
   {
    "duration": 1533,
    "start_time": "2024-02-08T09:14:55.919Z"
   },
   {
    "duration": 336,
    "start_time": "2024-02-08T09:15:20.229Z"
   },
   {
    "duration": 263,
    "start_time": "2024-02-08T09:16:35.343Z"
   },
   {
    "duration": 581,
    "start_time": "2024-02-08T09:16:44.571Z"
   },
   {
    "duration": 2510,
    "start_time": "2024-02-08T09:16:45.154Z"
   },
   {
    "duration": 28,
    "start_time": "2024-02-08T09:16:47.665Z"
   },
   {
    "duration": 10,
    "start_time": "2024-02-08T09:16:47.696Z"
   },
   {
    "duration": 19,
    "start_time": "2024-02-08T09:16:47.708Z"
   },
   {
    "duration": 290,
    "start_time": "2024-02-08T09:16:47.729Z"
   },
   {
    "duration": 3,
    "start_time": "2024-02-08T09:16:48.020Z"
   },
   {
    "duration": 21,
    "start_time": "2024-02-08T09:16:48.025Z"
   },
   {
    "duration": 37,
    "start_time": "2024-02-08T09:16:48.048Z"
   },
   {
    "duration": 36,
    "start_time": "2024-02-08T09:16:48.089Z"
   },
   {
    "duration": 1265,
    "start_time": "2024-02-08T09:16:48.127Z"
   },
   {
    "duration": 554,
    "start_time": "2024-02-08T09:20:05.392Z"
   },
   {
    "duration": 2463,
    "start_time": "2024-02-08T09:20:05.949Z"
   },
   {
    "duration": 28,
    "start_time": "2024-02-08T09:20:08.413Z"
   },
   {
    "duration": 10,
    "start_time": "2024-02-08T09:20:08.443Z"
   },
   {
    "duration": 5,
    "start_time": "2024-02-08T09:20:08.455Z"
   },
   {
    "duration": 312,
    "start_time": "2024-02-08T09:20:08.462Z"
   },
   {
    "duration": 2,
    "start_time": "2024-02-08T09:20:08.777Z"
   },
   {
    "duration": 19,
    "start_time": "2024-02-08T09:20:08.781Z"
   },
   {
    "duration": 6,
    "start_time": "2024-02-08T09:20:08.801Z"
   },
   {
    "duration": 57,
    "start_time": "2024-02-08T09:20:08.809Z"
   },
   {
    "duration": 32,
    "start_time": "2024-02-08T09:20:08.867Z"
   },
   {
    "duration": 1682,
    "start_time": "2024-02-08T09:20:08.901Z"
   },
   {
    "duration": 856,
    "start_time": "2024-02-08T09:20:57.052Z"
   },
   {
    "duration": 596,
    "start_time": "2024-02-08T09:21:02.999Z"
   },
   {
    "duration": 2555,
    "start_time": "2024-02-08T09:21:03.597Z"
   },
   {
    "duration": 35,
    "start_time": "2024-02-08T09:21:06.153Z"
   },
   {
    "duration": 15,
    "start_time": "2024-02-08T09:21:06.190Z"
   },
   {
    "duration": 19,
    "start_time": "2024-02-08T09:21:06.208Z"
   },
   {
    "duration": 306,
    "start_time": "2024-02-08T09:21:06.229Z"
   },
   {
    "duration": 3,
    "start_time": "2024-02-08T09:21:06.537Z"
   },
   {
    "duration": 6,
    "start_time": "2024-02-08T09:21:06.541Z"
   },
   {
    "duration": 10,
    "start_time": "2024-02-08T09:21:06.548Z"
   },
   {
    "duration": 38,
    "start_time": "2024-02-08T09:21:06.560Z"
   },
   {
    "duration": 40,
    "start_time": "2024-02-08T09:21:06.599Z"
   },
   {
    "duration": 1460,
    "start_time": "2024-02-08T09:21:06.641Z"
   },
   {
    "duration": 529,
    "start_time": "2024-02-08T12:48:22.278Z"
   },
   {
    "duration": 33,
    "start_time": "2024-02-08T12:48:22.809Z"
   },
   {
    "duration": 2557,
    "start_time": "2024-02-08T12:48:22.843Z"
   },
   {
    "duration": 27,
    "start_time": "2024-02-08T12:48:25.402Z"
   },
   {
    "duration": 10,
    "start_time": "2024-02-08T12:48:25.431Z"
   },
   {
    "duration": 5,
    "start_time": "2024-02-08T12:48:25.443Z"
   },
   {
    "duration": 296,
    "start_time": "2024-02-08T12:48:25.449Z"
   },
   {
    "duration": 13,
    "start_time": "2024-02-08T12:48:25.746Z"
   },
   {
    "duration": 5,
    "start_time": "2024-02-08T12:48:25.760Z"
   },
   {
    "duration": 3,
    "start_time": "2024-02-08T12:48:25.767Z"
   },
   {
    "duration": 20,
    "start_time": "2024-02-08T12:48:25.771Z"
   },
   {
    "duration": 35,
    "start_time": "2024-02-08T12:48:25.792Z"
   },
   {
    "duration": 1404,
    "start_time": "2024-02-08T12:48:25.828Z"
   },
   {
    "duration": 22,
    "start_time": "2024-02-08T14:13:49.628Z"
   },
   {
    "duration": 564,
    "start_time": "2024-02-08T14:13:56.236Z"
   },
   {
    "duration": 34,
    "start_time": "2024-02-08T14:13:56.802Z"
   },
   {
    "duration": 2502,
    "start_time": "2024-02-08T14:13:56.838Z"
   },
   {
    "duration": 28,
    "start_time": "2024-02-08T14:13:59.342Z"
   },
   {
    "duration": 21,
    "start_time": "2024-02-08T14:13:59.372Z"
   },
   {
    "duration": 10,
    "start_time": "2024-02-08T14:13:59.395Z"
   },
   {
    "duration": 12,
    "start_time": "2024-02-08T14:13:59.407Z"
   },
   {
    "duration": 308,
    "start_time": "2024-02-08T14:13:59.421Z"
   },
   {
    "duration": 2,
    "start_time": "2024-02-08T14:13:59.731Z"
   },
   {
    "duration": 12,
    "start_time": "2024-02-08T14:13:59.735Z"
   },
   {
    "duration": 9,
    "start_time": "2024-02-08T14:13:59.749Z"
   },
   {
    "duration": 16,
    "start_time": "2024-02-08T14:13:59.760Z"
   },
   {
    "duration": 32,
    "start_time": "2024-02-08T14:13:59.777Z"
   },
   {
    "duration": 1533,
    "start_time": "2024-02-08T14:13:59.810Z"
   },
   {
    "duration": 583,
    "start_time": "2024-02-08T14:20:59.431Z"
   },
   {
    "duration": 36,
    "start_time": "2024-02-08T14:21:00.016Z"
   },
   {
    "duration": 2525,
    "start_time": "2024-02-08T14:21:00.059Z"
   },
   {
    "duration": 28,
    "start_time": "2024-02-08T14:21:02.586Z"
   },
   {
    "duration": 21,
    "start_time": "2024-02-08T14:21:02.617Z"
   },
   {
    "duration": 24,
    "start_time": "2024-02-08T14:21:02.640Z"
   },
   {
    "duration": 27,
    "start_time": "2024-02-08T14:21:02.666Z"
   },
   {
    "duration": 332,
    "start_time": "2024-02-08T14:21:02.695Z"
   },
   {
    "duration": 2,
    "start_time": "2024-02-08T14:21:03.029Z"
   },
   {
    "duration": 57,
    "start_time": "2024-02-08T14:21:03.033Z"
   },
   {
    "duration": 22,
    "start_time": "2024-02-08T14:21:03.092Z"
   },
   {
    "duration": 42,
    "start_time": "2024-02-08T14:21:03.116Z"
   },
   {
    "duration": 32,
    "start_time": "2024-02-08T14:21:03.160Z"
   },
   {
    "duration": 1300,
    "start_time": "2024-02-08T14:21:03.195Z"
   },
   {
    "duration": 568,
    "start_time": "2024-02-08T14:23:21.556Z"
   },
   {
    "duration": 41,
    "start_time": "2024-02-08T14:23:22.126Z"
   },
   {
    "duration": 2502,
    "start_time": "2024-02-08T14:23:22.170Z"
   },
   {
    "duration": 29,
    "start_time": "2024-02-08T14:23:24.674Z"
   },
   {
    "duration": 91,
    "start_time": "2024-02-08T14:23:24.705Z"
   },
   {
    "duration": 0,
    "start_time": "2024-02-08T14:23:24.798Z"
   },
   {
    "duration": 0,
    "start_time": "2024-02-08T14:23:24.799Z"
   },
   {
    "duration": 0,
    "start_time": "2024-02-08T14:23:24.800Z"
   },
   {
    "duration": 0,
    "start_time": "2024-02-08T14:23:24.801Z"
   },
   {
    "duration": 0,
    "start_time": "2024-02-08T14:23:24.803Z"
   },
   {
    "duration": 0,
    "start_time": "2024-02-08T14:23:24.804Z"
   },
   {
    "duration": 0,
    "start_time": "2024-02-08T14:23:24.805Z"
   },
   {
    "duration": 0,
    "start_time": "2024-02-08T14:23:24.807Z"
   },
   {
    "duration": 0,
    "start_time": "2024-02-08T14:23:24.808Z"
   },
   {
    "duration": 0,
    "start_time": "2024-02-08T14:23:24.810Z"
   },
   {
    "duration": 593,
    "start_time": "2024-02-08T14:23:55.643Z"
   },
   {
    "duration": 43,
    "start_time": "2024-02-08T14:23:56.238Z"
   },
   {
    "duration": 2430,
    "start_time": "2024-02-08T14:23:56.282Z"
   },
   {
    "duration": 27,
    "start_time": "2024-02-08T14:23:58.714Z"
   },
   {
    "duration": 76,
    "start_time": "2024-02-08T14:23:58.743Z"
   },
   {
    "duration": 0,
    "start_time": "2024-02-08T14:23:58.821Z"
   },
   {
    "duration": 0,
    "start_time": "2024-02-08T14:23:58.822Z"
   },
   {
    "duration": 0,
    "start_time": "2024-02-08T14:23:58.824Z"
   },
   {
    "duration": 0,
    "start_time": "2024-02-08T14:23:58.825Z"
   },
   {
    "duration": 0,
    "start_time": "2024-02-08T14:23:58.826Z"
   },
   {
    "duration": 0,
    "start_time": "2024-02-08T14:23:58.827Z"
   },
   {
    "duration": 0,
    "start_time": "2024-02-08T14:23:58.828Z"
   },
   {
    "duration": 0,
    "start_time": "2024-02-08T14:23:58.829Z"
   },
   {
    "duration": 0,
    "start_time": "2024-02-08T14:23:58.831Z"
   },
   {
    "duration": 0,
    "start_time": "2024-02-08T14:23:58.832Z"
   },
   {
    "duration": 541,
    "start_time": "2024-02-08T14:24:33.286Z"
   },
   {
    "duration": 39,
    "start_time": "2024-02-08T14:24:33.829Z"
   },
   {
    "duration": 2438,
    "start_time": "2024-02-08T14:24:33.870Z"
   },
   {
    "duration": 27,
    "start_time": "2024-02-08T14:24:36.310Z"
   },
   {
    "duration": 4,
    "start_time": "2024-02-08T14:24:36.339Z"
   },
   {
    "duration": 28,
    "start_time": "2024-02-08T14:24:36.344Z"
   },
   {
    "duration": 10,
    "start_time": "2024-02-08T14:24:36.373Z"
   },
   {
    "duration": 4,
    "start_time": "2024-02-08T14:24:36.384Z"
   },
   {
    "duration": 300,
    "start_time": "2024-02-08T14:24:36.389Z"
   },
   {
    "duration": 3,
    "start_time": "2024-02-08T14:24:36.691Z"
   },
   {
    "duration": 5,
    "start_time": "2024-02-08T14:24:36.695Z"
   },
   {
    "duration": 5,
    "start_time": "2024-02-08T14:24:36.701Z"
   },
   {
    "duration": 20,
    "start_time": "2024-02-08T14:24:36.707Z"
   },
   {
    "duration": 52,
    "start_time": "2024-02-08T14:24:36.728Z"
   },
   {
    "duration": 1320,
    "start_time": "2024-02-08T14:24:36.781Z"
   },
   {
    "duration": 18,
    "start_time": "2024-02-08T14:34:06.357Z"
   },
   {
    "duration": 507,
    "start_time": "2024-02-08T14:34:11.215Z"
   },
   {
    "duration": 47,
    "start_time": "2024-02-08T14:34:11.725Z"
   },
   {
    "duration": 2437,
    "start_time": "2024-02-08T14:34:11.774Z"
   },
   {
    "duration": 28,
    "start_time": "2024-02-08T14:34:14.213Z"
   },
   {
    "duration": 22,
    "start_time": "2024-02-08T14:34:14.242Z"
   },
   {
    "duration": 8,
    "start_time": "2024-02-08T14:34:14.266Z"
   },
   {
    "duration": 92,
    "start_time": "2024-02-08T14:34:14.276Z"
   },
   {
    "duration": 0,
    "start_time": "2024-02-08T14:34:14.370Z"
   },
   {
    "duration": 0,
    "start_time": "2024-02-08T14:34:14.371Z"
   },
   {
    "duration": 0,
    "start_time": "2024-02-08T14:34:14.373Z"
   },
   {
    "duration": 0,
    "start_time": "2024-02-08T14:34:14.374Z"
   },
   {
    "duration": 0,
    "start_time": "2024-02-08T14:34:14.375Z"
   },
   {
    "duration": 0,
    "start_time": "2024-02-08T14:34:14.376Z"
   },
   {
    "duration": 0,
    "start_time": "2024-02-08T14:34:14.377Z"
   },
   {
    "duration": 0,
    "start_time": "2024-02-08T14:34:14.378Z"
   },
   {
    "duration": 0,
    "start_time": "2024-02-08T14:34:14.379Z"
   },
   {
    "duration": 525,
    "start_time": "2024-02-08T14:35:11.098Z"
   },
   {
    "duration": 42,
    "start_time": "2024-02-08T14:35:11.625Z"
   },
   {
    "duration": 2555,
    "start_time": "2024-02-08T14:35:11.669Z"
   },
   {
    "duration": 28,
    "start_time": "2024-02-08T14:35:14.225Z"
   },
   {
    "duration": 18,
    "start_time": "2024-02-08T14:35:14.255Z"
   },
   {
    "duration": 8,
    "start_time": "2024-02-08T14:35:14.275Z"
   },
   {
    "duration": 96,
    "start_time": "2024-02-08T14:35:14.285Z"
   },
   {
    "duration": 0,
    "start_time": "2024-02-08T14:35:14.383Z"
   },
   {
    "duration": 0,
    "start_time": "2024-02-08T14:35:14.384Z"
   },
   {
    "duration": 0,
    "start_time": "2024-02-08T14:35:14.385Z"
   },
   {
    "duration": 0,
    "start_time": "2024-02-08T14:35:14.386Z"
   },
   {
    "duration": 0,
    "start_time": "2024-02-08T14:35:14.387Z"
   },
   {
    "duration": 0,
    "start_time": "2024-02-08T14:35:14.388Z"
   },
   {
    "duration": 0,
    "start_time": "2024-02-08T14:35:14.389Z"
   },
   {
    "duration": 0,
    "start_time": "2024-02-08T14:35:14.390Z"
   },
   {
    "duration": 0,
    "start_time": "2024-02-08T14:35:14.391Z"
   },
   {
    "duration": 13,
    "start_time": "2024-02-08T14:44:34.284Z"
   },
   {
    "duration": 516,
    "start_time": "2024-02-08T14:44:40.013Z"
   },
   {
    "duration": 37,
    "start_time": "2024-02-08T14:44:40.531Z"
   },
   {
    "duration": 2523,
    "start_time": "2024-02-08T14:44:40.569Z"
   },
   {
    "duration": 28,
    "start_time": "2024-02-08T14:44:43.093Z"
   },
   {
    "duration": 18,
    "start_time": "2024-02-08T14:44:43.124Z"
   },
   {
    "duration": 9,
    "start_time": "2024-02-08T14:44:43.144Z"
   },
   {
    "duration": 82,
    "start_time": "2024-02-08T14:44:43.155Z"
   },
   {
    "duration": 0,
    "start_time": "2024-02-08T14:44:43.240Z"
   },
   {
    "duration": 0,
    "start_time": "2024-02-08T14:44:43.242Z"
   },
   {
    "duration": 0,
    "start_time": "2024-02-08T14:44:43.243Z"
   },
   {
    "duration": 0,
    "start_time": "2024-02-08T14:44:43.244Z"
   },
   {
    "duration": 0,
    "start_time": "2024-02-08T14:44:43.246Z"
   },
   {
    "duration": 0,
    "start_time": "2024-02-08T14:44:43.259Z"
   },
   {
    "duration": 0,
    "start_time": "2024-02-08T14:44:43.261Z"
   },
   {
    "duration": 0,
    "start_time": "2024-02-08T14:44:43.262Z"
   },
   {
    "duration": 0,
    "start_time": "2024-02-08T14:44:43.264Z"
   },
   {
    "duration": 0,
    "start_time": "2024-02-08T14:44:43.265Z"
   },
   {
    "duration": 0,
    "start_time": "2024-02-08T14:44:43.266Z"
   },
   {
    "duration": 0,
    "start_time": "2024-02-08T14:44:43.268Z"
   },
   {
    "duration": 0,
    "start_time": "2024-02-08T14:44:43.270Z"
   },
   {
    "duration": 13,
    "start_time": "2024-02-08T14:44:49.248Z"
   },
   {
    "duration": 14,
    "start_time": "2024-02-08T14:44:51.169Z"
   },
   {
    "duration": 532,
    "start_time": "2024-02-08T14:50:43.308Z"
   },
   {
    "duration": 40,
    "start_time": "2024-02-08T14:50:43.843Z"
   },
   {
    "duration": 2568,
    "start_time": "2024-02-08T14:50:43.884Z"
   },
   {
    "duration": 31,
    "start_time": "2024-02-08T14:50:46.455Z"
   },
   {
    "duration": 20,
    "start_time": "2024-02-08T14:50:46.488Z"
   },
   {
    "duration": 9,
    "start_time": "2024-02-08T14:50:46.510Z"
   },
   {
    "duration": 115,
    "start_time": "2024-02-08T14:50:46.521Z"
   },
   {
    "duration": 0,
    "start_time": "2024-02-08T14:50:46.638Z"
   },
   {
    "duration": 0,
    "start_time": "2024-02-08T14:50:46.640Z"
   },
   {
    "duration": 0,
    "start_time": "2024-02-08T14:50:46.641Z"
   },
   {
    "duration": 0,
    "start_time": "2024-02-08T14:50:46.643Z"
   },
   {
    "duration": 0,
    "start_time": "2024-02-08T14:50:46.644Z"
   },
   {
    "duration": 0,
    "start_time": "2024-02-08T14:50:46.645Z"
   },
   {
    "duration": 574,
    "start_time": "2024-02-08T14:51:05.250Z"
   },
   {
    "duration": 33,
    "start_time": "2024-02-08T14:51:05.826Z"
   },
   {
    "duration": 2547,
    "start_time": "2024-02-08T14:51:05.861Z"
   },
   {
    "duration": 30,
    "start_time": "2024-02-08T14:51:08.410Z"
   },
   {
    "duration": 22,
    "start_time": "2024-02-08T14:51:08.442Z"
   },
   {
    "duration": 9,
    "start_time": "2024-02-08T14:51:08.466Z"
   },
   {
    "duration": 97,
    "start_time": "2024-02-08T14:51:08.477Z"
   },
   {
    "duration": 0,
    "start_time": "2024-02-08T14:51:08.576Z"
   },
   {
    "duration": 0,
    "start_time": "2024-02-08T14:51:08.577Z"
   },
   {
    "duration": 0,
    "start_time": "2024-02-08T14:51:08.578Z"
   },
   {
    "duration": 1,
    "start_time": "2024-02-08T14:51:08.579Z"
   },
   {
    "duration": 0,
    "start_time": "2024-02-08T14:51:08.581Z"
   },
   {
    "duration": 0,
    "start_time": "2024-02-08T14:51:08.582Z"
   },
   {
    "duration": 11,
    "start_time": "2024-02-08T14:51:22.405Z"
   },
   {
    "duration": 541,
    "start_time": "2024-02-08T14:54:36.968Z"
   },
   {
    "duration": 35,
    "start_time": "2024-02-08T14:54:37.511Z"
   },
   {
    "duration": 2481,
    "start_time": "2024-02-08T14:54:37.547Z"
   },
   {
    "duration": 31,
    "start_time": "2024-02-08T14:54:40.030Z"
   },
   {
    "duration": 25,
    "start_time": "2024-02-08T14:54:40.063Z"
   },
   {
    "duration": 12,
    "start_time": "2024-02-08T14:54:40.090Z"
   },
   {
    "duration": 93,
    "start_time": "2024-02-08T14:54:40.103Z"
   },
   {
    "duration": 0,
    "start_time": "2024-02-08T14:54:40.198Z"
   },
   {
    "duration": 0,
    "start_time": "2024-02-08T14:54:40.200Z"
   },
   {
    "duration": 1,
    "start_time": "2024-02-08T14:54:40.201Z"
   },
   {
    "duration": 0,
    "start_time": "2024-02-08T14:54:40.203Z"
   },
   {
    "duration": 0,
    "start_time": "2024-02-08T14:54:40.204Z"
   },
   {
    "duration": 0,
    "start_time": "2024-02-08T14:54:40.206Z"
   },
   {
    "duration": 0,
    "start_time": "2024-02-08T14:54:40.208Z"
   },
   {
    "duration": 6,
    "start_time": "2024-02-08T14:54:41.056Z"
   },
   {
    "duration": 579,
    "start_time": "2024-02-08T15:48:27.598Z"
   },
   {
    "duration": 36,
    "start_time": "2024-02-08T15:48:28.180Z"
   },
   {
    "duration": 2651,
    "start_time": "2024-02-08T15:48:28.217Z"
   },
   {
    "duration": 28,
    "start_time": "2024-02-08T15:48:30.870Z"
   },
   {
    "duration": 18,
    "start_time": "2024-02-08T15:48:30.900Z"
   },
   {
    "duration": 34,
    "start_time": "2024-02-08T15:48:30.920Z"
   },
   {
    "duration": 126,
    "start_time": "2024-02-08T15:48:30.956Z"
   },
   {
    "duration": 0,
    "start_time": "2024-02-08T15:48:31.084Z"
   },
   {
    "duration": 0,
    "start_time": "2024-02-08T15:48:31.085Z"
   },
   {
    "duration": 0,
    "start_time": "2024-02-08T15:48:31.086Z"
   },
   {
    "duration": 0,
    "start_time": "2024-02-08T15:48:31.087Z"
   },
   {
    "duration": 0,
    "start_time": "2024-02-08T15:48:31.088Z"
   },
   {
    "duration": 0,
    "start_time": "2024-02-08T15:48:31.089Z"
   },
   {
    "duration": 0,
    "start_time": "2024-02-08T15:48:31.090Z"
   },
   {
    "duration": 41,
    "start_time": "2024-02-08T15:53:28.405Z"
   },
   {
    "duration": 14,
    "start_time": "2024-02-08T16:06:51.916Z"
   },
   {
    "duration": 14,
    "start_time": "2024-02-08T16:06:59.484Z"
   },
   {
    "duration": 679,
    "start_time": "2024-02-08T16:07:04.525Z"
   },
   {
    "duration": 61,
    "start_time": "2024-02-08T16:07:05.207Z"
   },
   {
    "duration": 2595,
    "start_time": "2024-02-08T16:07:05.270Z"
   },
   {
    "duration": 30,
    "start_time": "2024-02-08T16:07:07.868Z"
   },
   {
    "duration": 72,
    "start_time": "2024-02-08T16:07:07.900Z"
   },
   {
    "duration": 9,
    "start_time": "2024-02-08T16:07:07.975Z"
   },
   {
    "duration": 111,
    "start_time": "2024-02-08T16:07:07.985Z"
   },
   {
    "duration": 0,
    "start_time": "2024-02-08T16:07:08.098Z"
   },
   {
    "duration": 0,
    "start_time": "2024-02-08T16:07:08.100Z"
   },
   {
    "duration": 0,
    "start_time": "2024-02-08T16:07:08.101Z"
   },
   {
    "duration": 0,
    "start_time": "2024-02-08T16:07:08.103Z"
   },
   {
    "duration": 0,
    "start_time": "2024-02-08T16:07:08.104Z"
   },
   {
    "duration": 0,
    "start_time": "2024-02-08T16:07:08.106Z"
   },
   {
    "duration": 0,
    "start_time": "2024-02-08T16:07:08.107Z"
   },
   {
    "duration": 16,
    "start_time": "2024-02-08T17:27:32.047Z"
   },
   {
    "duration": 583,
    "start_time": "2024-02-08T17:27:41.952Z"
   },
   {
    "duration": 44,
    "start_time": "2024-02-08T17:27:42.537Z"
   },
   {
    "duration": 2526,
    "start_time": "2024-02-08T17:27:42.582Z"
   },
   {
    "duration": 28,
    "start_time": "2024-02-08T17:27:45.110Z"
   },
   {
    "duration": 57,
    "start_time": "2024-02-08T17:27:45.140Z"
   },
   {
    "duration": 10,
    "start_time": "2024-02-08T17:27:45.198Z"
   },
   {
    "duration": 109,
    "start_time": "2024-02-08T17:27:45.209Z"
   },
   {
    "duration": 0,
    "start_time": "2024-02-08T17:27:45.320Z"
   },
   {
    "duration": 0,
    "start_time": "2024-02-08T17:27:45.321Z"
   },
   {
    "duration": 0,
    "start_time": "2024-02-08T17:27:45.322Z"
   },
   {
    "duration": 0,
    "start_time": "2024-02-08T17:27:45.323Z"
   },
   {
    "duration": 0,
    "start_time": "2024-02-08T17:27:45.324Z"
   },
   {
    "duration": 0,
    "start_time": "2024-02-08T17:27:45.326Z"
   },
   {
    "duration": 0,
    "start_time": "2024-02-08T17:27:45.327Z"
   },
   {
    "duration": 559,
    "start_time": "2024-02-08T17:28:48.097Z"
   },
   {
    "duration": 35,
    "start_time": "2024-02-08T17:28:48.658Z"
   },
   {
    "duration": 2537,
    "start_time": "2024-02-08T17:28:48.695Z"
   },
   {
    "duration": 28,
    "start_time": "2024-02-08T17:28:51.234Z"
   },
   {
    "duration": 37,
    "start_time": "2024-02-08T17:28:51.263Z"
   },
   {
    "duration": 13,
    "start_time": "2024-02-08T17:28:51.302Z"
   },
   {
    "duration": 5,
    "start_time": "2024-02-08T17:28:51.317Z"
   },
   {
    "duration": 162,
    "start_time": "2024-02-08T17:28:51.324Z"
   },
   {
    "duration": 0,
    "start_time": "2024-02-08T17:28:51.488Z"
   },
   {
    "duration": 0,
    "start_time": "2024-02-08T17:28:51.490Z"
   },
   {
    "duration": 0,
    "start_time": "2024-02-08T17:28:51.491Z"
   },
   {
    "duration": 0,
    "start_time": "2024-02-08T17:28:51.492Z"
   },
   {
    "duration": 0,
    "start_time": "2024-02-08T17:28:51.493Z"
   },
   {
    "duration": 0,
    "start_time": "2024-02-08T17:28:51.495Z"
   },
   {
    "duration": 537,
    "start_time": "2024-02-08T17:31:19.991Z"
   },
   {
    "duration": 50,
    "start_time": "2024-02-08T17:31:20.530Z"
   },
   {
    "duration": 2546,
    "start_time": "2024-02-08T17:31:20.582Z"
   },
   {
    "duration": 38,
    "start_time": "2024-02-08T17:31:23.130Z"
   },
   {
    "duration": 42,
    "start_time": "2024-02-08T17:31:23.170Z"
   },
   {
    "duration": 10,
    "start_time": "2024-02-08T17:31:23.214Z"
   },
   {
    "duration": 35,
    "start_time": "2024-02-08T17:31:23.226Z"
   },
   {
    "duration": 6,
    "start_time": "2024-02-08T17:31:23.262Z"
   },
   {
    "duration": 1253,
    "start_time": "2024-02-08T17:31:23.269Z"
   },
   {
    "duration": 0,
    "start_time": "2024-02-08T17:31:24.524Z"
   },
   {
    "duration": 0,
    "start_time": "2024-02-08T17:31:24.526Z"
   },
   {
    "duration": 0,
    "start_time": "2024-02-08T17:31:24.527Z"
   },
   {
    "duration": 0,
    "start_time": "2024-02-08T17:31:24.528Z"
   },
   {
    "duration": 0,
    "start_time": "2024-02-08T17:31:24.529Z"
   },
   {
    "duration": 589,
    "start_time": "2024-02-08T17:31:46.864Z"
   },
   {
    "duration": 35,
    "start_time": "2024-02-08T17:31:47.455Z"
   },
   {
    "duration": 2504,
    "start_time": "2024-02-08T17:31:47.492Z"
   },
   {
    "duration": 28,
    "start_time": "2024-02-08T17:31:49.998Z"
   },
   {
    "duration": 52,
    "start_time": "2024-02-08T17:31:50.029Z"
   },
   {
    "duration": 9,
    "start_time": "2024-02-08T17:31:50.082Z"
   },
   {
    "duration": 37,
    "start_time": "2024-02-08T17:31:50.092Z"
   },
   {
    "duration": 51,
    "start_time": "2024-02-08T17:31:50.131Z"
   },
   {
    "duration": 1261,
    "start_time": "2024-02-08T17:31:50.184Z"
   },
   {
    "duration": 0,
    "start_time": "2024-02-08T17:31:51.447Z"
   },
   {
    "duration": 0,
    "start_time": "2024-02-08T17:31:51.449Z"
   },
   {
    "duration": 0,
    "start_time": "2024-02-08T17:31:51.450Z"
   },
   {
    "duration": 0,
    "start_time": "2024-02-08T17:31:51.452Z"
   },
   {
    "duration": 0,
    "start_time": "2024-02-08T17:31:51.453Z"
   },
   {
    "duration": 554,
    "start_time": "2024-02-08T17:32:03.170Z"
   },
   {
    "duration": 45,
    "start_time": "2024-02-08T17:32:03.726Z"
   },
   {
    "duration": 2544,
    "start_time": "2024-02-08T17:32:03.772Z"
   },
   {
    "duration": 29,
    "start_time": "2024-02-08T17:32:06.318Z"
   },
   {
    "duration": 40,
    "start_time": "2024-02-08T17:32:06.349Z"
   },
   {
    "duration": 9,
    "start_time": "2024-02-08T17:32:06.391Z"
   },
   {
    "duration": 13,
    "start_time": "2024-02-08T17:32:06.402Z"
   },
   {
    "duration": 16,
    "start_time": "2024-02-08T17:32:06.417Z"
   },
   {
    "duration": 1274,
    "start_time": "2024-02-08T17:32:06.435Z"
   },
   {
    "duration": 0,
    "start_time": "2024-02-08T17:32:07.711Z"
   },
   {
    "duration": 0,
    "start_time": "2024-02-08T17:32:07.712Z"
   },
   {
    "duration": 0,
    "start_time": "2024-02-08T17:32:07.713Z"
   },
   {
    "duration": 0,
    "start_time": "2024-02-08T17:32:07.715Z"
   },
   {
    "duration": 0,
    "start_time": "2024-02-08T17:32:07.716Z"
   },
   {
    "duration": 0,
    "start_time": "2024-02-08T17:32:07.717Z"
   },
   {
    "duration": 553,
    "start_time": "2024-02-08T17:32:56.370Z"
   },
   {
    "duration": 58,
    "start_time": "2024-02-08T17:32:56.926Z"
   },
   {
    "duration": 2464,
    "start_time": "2024-02-08T17:32:56.988Z"
   },
   {
    "duration": 28,
    "start_time": "2024-02-08T17:32:59.454Z"
   },
   {
    "duration": 41,
    "start_time": "2024-02-08T17:32:59.484Z"
   },
   {
    "duration": 37,
    "start_time": "2024-02-08T17:32:59.527Z"
   },
   {
    "duration": 7,
    "start_time": "2024-02-08T17:32:59.567Z"
   },
   {
    "duration": 6,
    "start_time": "2024-02-08T17:32:59.576Z"
   },
   {
    "duration": 5,
    "start_time": "2024-02-08T17:32:59.584Z"
   },
   {
    "duration": 107,
    "start_time": "2024-02-08T17:32:59.592Z"
   },
   {
    "duration": 0,
    "start_time": "2024-02-08T17:32:59.701Z"
   },
   {
    "duration": 0,
    "start_time": "2024-02-08T17:32:59.702Z"
   },
   {
    "duration": 0,
    "start_time": "2024-02-08T17:32:59.704Z"
   },
   {
    "duration": 0,
    "start_time": "2024-02-08T17:32:59.705Z"
   },
   {
    "duration": 0,
    "start_time": "2024-02-08T17:32:59.707Z"
   },
   {
    "duration": 546,
    "start_time": "2024-02-08T17:35:22.124Z"
   },
   {
    "duration": 36,
    "start_time": "2024-02-08T17:35:22.673Z"
   },
   {
    "duration": 2553,
    "start_time": "2024-02-08T17:35:22.711Z"
   },
   {
    "duration": 42,
    "start_time": "2024-02-08T17:35:25.266Z"
   },
   {
    "duration": 78,
    "start_time": "2024-02-08T17:35:25.311Z"
   },
   {
    "duration": 14,
    "start_time": "2024-02-08T17:35:25.392Z"
   },
   {
    "duration": 10,
    "start_time": "2024-02-08T17:35:25.408Z"
   },
   {
    "duration": 18,
    "start_time": "2024-02-08T17:35:25.420Z"
   },
   {
    "duration": 21,
    "start_time": "2024-02-08T17:35:25.440Z"
   },
   {
    "duration": 10,
    "start_time": "2024-02-08T17:35:25.464Z"
   },
   {
    "duration": 12,
    "start_time": "2024-02-08T17:35:25.475Z"
   },
   {
    "duration": 14,
    "start_time": "2024-02-08T17:35:25.489Z"
   },
   {
    "duration": 298,
    "start_time": "2024-02-08T17:35:25.504Z"
   },
   {
    "duration": 6,
    "start_time": "2024-02-08T17:35:25.804Z"
   },
   {
    "duration": 90,
    "start_time": "2024-02-08T17:35:25.812Z"
   },
   {
    "duration": 10,
    "start_time": "2024-02-08T17:50:47.094Z"
   },
   {
    "duration": 565,
    "start_time": "2024-02-08T17:50:52.724Z"
   },
   {
    "duration": 35,
    "start_time": "2024-02-08T17:50:53.292Z"
   },
   {
    "duration": 2579,
    "start_time": "2024-02-08T17:50:53.329Z"
   },
   {
    "duration": 28,
    "start_time": "2024-02-08T17:50:55.909Z"
   },
   {
    "duration": 38,
    "start_time": "2024-02-08T17:50:55.939Z"
   },
   {
    "duration": 9,
    "start_time": "2024-02-08T17:50:55.979Z"
   },
   {
    "duration": 16,
    "start_time": "2024-02-08T17:50:55.990Z"
   },
   {
    "duration": 24,
    "start_time": "2024-02-08T17:50:56.008Z"
   },
   {
    "duration": 23,
    "start_time": "2024-02-08T17:50:56.034Z"
   },
   {
    "duration": 12,
    "start_time": "2024-02-08T17:50:56.061Z"
   },
   {
    "duration": 28,
    "start_time": "2024-02-08T17:50:56.075Z"
   },
   {
    "duration": 5,
    "start_time": "2024-02-08T17:50:56.105Z"
   },
   {
    "duration": 306,
    "start_time": "2024-02-08T17:50:56.112Z"
   },
   {
    "duration": 5,
    "start_time": "2024-02-08T17:50:56.421Z"
   },
   {
    "duration": 83,
    "start_time": "2024-02-08T17:50:56.428Z"
   },
   {
    "duration": 40,
    "start_time": "2024-02-08T18:10:22.683Z"
   },
   {
    "duration": 516,
    "start_time": "2024-02-08T18:10:27.897Z"
   },
   {
    "duration": 33,
    "start_time": "2024-02-08T18:10:28.415Z"
   },
   {
    "duration": 2449,
    "start_time": "2024-02-08T18:10:28.459Z"
   },
   {
    "duration": 26,
    "start_time": "2024-02-08T18:10:30.910Z"
   },
   {
    "duration": 44,
    "start_time": "2024-02-08T18:10:30.938Z"
   },
   {
    "duration": 9,
    "start_time": "2024-02-08T18:10:30.983Z"
   },
   {
    "duration": 34,
    "start_time": "2024-02-08T18:10:30.994Z"
   },
   {
    "duration": 29,
    "start_time": "2024-02-08T18:10:31.029Z"
   },
   {
    "duration": 26,
    "start_time": "2024-02-08T18:10:31.060Z"
   },
   {
    "duration": 15,
    "start_time": "2024-02-08T18:10:31.088Z"
   },
   {
    "duration": 17,
    "start_time": "2024-02-08T18:10:31.104Z"
   },
   {
    "duration": 35,
    "start_time": "2024-02-08T18:10:31.123Z"
   },
   {
    "duration": 44,
    "start_time": "2024-02-08T18:10:31.160Z"
   },
   {
    "duration": 302,
    "start_time": "2024-02-08T18:10:31.206Z"
   },
   {
    "duration": 6,
    "start_time": "2024-02-08T18:10:31.510Z"
   },
   {
    "duration": 29,
    "start_time": "2024-02-08T18:10:31.517Z"
   },
   {
    "duration": 94,
    "start_time": "2024-02-08T18:10:31.548Z"
   },
   {
    "duration": 573,
    "start_time": "2024-02-11T09:33:37.999Z"
   },
   {
    "duration": 29,
    "start_time": "2024-02-11T09:33:38.575Z"
   },
   {
    "duration": 2360,
    "start_time": "2024-02-11T09:33:38.606Z"
   },
   {
    "duration": 25,
    "start_time": "2024-02-11T09:33:40.968Z"
   },
   {
    "duration": 47,
    "start_time": "2024-02-11T09:33:40.995Z"
   },
   {
    "duration": 7,
    "start_time": "2024-02-11T09:33:41.043Z"
   },
   {
    "duration": 33,
    "start_time": "2024-02-11T09:33:41.051Z"
   },
   {
    "duration": 16,
    "start_time": "2024-02-11T09:33:41.086Z"
   },
   {
    "duration": 18,
    "start_time": "2024-02-11T09:33:41.106Z"
   },
   {
    "duration": 37,
    "start_time": "2024-02-11T09:33:41.126Z"
   },
   {
    "duration": 11,
    "start_time": "2024-02-11T09:33:41.165Z"
   },
   {
    "duration": 22,
    "start_time": "2024-02-11T09:33:41.177Z"
   },
   {
    "duration": 20,
    "start_time": "2024-02-11T09:33:41.201Z"
   },
   {
    "duration": 281,
    "start_time": "2024-02-11T09:33:41.223Z"
   },
   {
    "duration": 6,
    "start_time": "2024-02-11T09:33:41.506Z"
   },
   {
    "duration": 30,
    "start_time": "2024-02-11T09:33:41.514Z"
   },
   {
    "duration": 75,
    "start_time": "2024-02-11T09:33:41.545Z"
   },
   {
    "duration": 536,
    "start_time": "2024-02-11T09:34:50.863Z"
   },
   {
    "duration": 34,
    "start_time": "2024-02-11T09:34:51.401Z"
   },
   {
    "duration": 2213,
    "start_time": "2024-02-11T09:34:51.437Z"
   },
   {
    "duration": 25,
    "start_time": "2024-02-11T09:34:53.652Z"
   },
   {
    "duration": 50,
    "start_time": "2024-02-11T09:34:53.678Z"
   },
   {
    "duration": 8,
    "start_time": "2024-02-11T09:34:53.729Z"
   },
   {
    "duration": 17,
    "start_time": "2024-02-11T09:34:53.739Z"
   },
   {
    "duration": 39,
    "start_time": "2024-02-11T09:34:53.758Z"
   },
   {
    "duration": 21,
    "start_time": "2024-02-11T09:34:53.799Z"
   },
   {
    "duration": 7,
    "start_time": "2024-02-11T09:34:53.823Z"
   },
   {
    "duration": 8,
    "start_time": "2024-02-11T09:34:53.831Z"
   },
   {
    "duration": 16,
    "start_time": "2024-02-11T09:34:53.840Z"
   },
   {
    "duration": 10,
    "start_time": "2024-02-11T09:34:53.858Z"
   },
   {
    "duration": 271,
    "start_time": "2024-02-11T09:34:53.870Z"
   },
   {
    "duration": 5,
    "start_time": "2024-02-11T09:34:54.142Z"
   },
   {
    "duration": 13,
    "start_time": "2024-02-11T09:34:54.149Z"
   },
   {
    "duration": 83,
    "start_time": "2024-02-11T09:34:54.163Z"
   },
   {
    "duration": 84,
    "start_time": "2024-02-11T09:35:10.855Z"
   },
   {
    "duration": 8,
    "start_time": "2024-02-11T09:35:31.020Z"
   },
   {
    "duration": 11,
    "start_time": "2024-02-11T09:58:20.563Z"
   },
   {
    "duration": 6,
    "start_time": "2024-02-11T10:31:24.540Z"
   },
   {
    "duration": 513,
    "start_time": "2024-02-11T11:10:34.600Z"
   },
   {
    "duration": 30,
    "start_time": "2024-02-11T11:10:35.115Z"
   },
   {
    "duration": 2158,
    "start_time": "2024-02-11T11:10:35.148Z"
   },
   {
    "duration": 26,
    "start_time": "2024-02-11T11:10:37.308Z"
   },
   {
    "duration": 63,
    "start_time": "2024-02-11T11:10:37.336Z"
   },
   {
    "duration": 9,
    "start_time": "2024-02-11T11:10:37.400Z"
   },
   {
    "duration": 23,
    "start_time": "2024-02-11T11:10:37.411Z"
   },
   {
    "duration": 29,
    "start_time": "2024-02-11T11:10:37.436Z"
   },
   {
    "duration": 31,
    "start_time": "2024-02-11T11:10:37.467Z"
   },
   {
    "duration": 11,
    "start_time": "2024-02-11T11:10:37.499Z"
   },
   {
    "duration": 20,
    "start_time": "2024-02-11T11:10:37.511Z"
   },
   {
    "duration": 41,
    "start_time": "2024-02-11T11:10:37.532Z"
   },
   {
    "duration": 19,
    "start_time": "2024-02-11T11:10:37.574Z"
   },
   {
    "duration": 286,
    "start_time": "2024-02-11T11:10:37.594Z"
   },
   {
    "duration": 5,
    "start_time": "2024-02-11T11:10:37.881Z"
   },
   {
    "duration": 49,
    "start_time": "2024-02-11T11:10:37.888Z"
   },
   {
    "duration": 18,
    "start_time": "2024-02-11T11:10:37.938Z"
   },
   {
    "duration": 28,
    "start_time": "2024-02-11T11:10:37.958Z"
   },
   {
    "duration": 18,
    "start_time": "2024-02-11T11:10:37.987Z"
   },
   {
    "duration": 50,
    "start_time": "2024-02-11T11:10:38.006Z"
   },
   {
    "duration": 71,
    "start_time": "2024-02-11T11:10:38.058Z"
   },
   {
    "duration": 0,
    "start_time": "2024-02-11T11:10:38.132Z"
   },
   {
    "duration": 501,
    "start_time": "2024-02-11T11:11:43.806Z"
   },
   {
    "duration": 29,
    "start_time": "2024-02-11T11:11:44.309Z"
   },
   {
    "duration": 2167,
    "start_time": "2024-02-11T11:11:44.339Z"
   },
   {
    "duration": 25,
    "start_time": "2024-02-11T11:11:46.507Z"
   },
   {
    "duration": 38,
    "start_time": "2024-02-11T11:11:46.534Z"
   },
   {
    "duration": 34,
    "start_time": "2024-02-11T11:11:46.573Z"
   },
   {
    "duration": 6,
    "start_time": "2024-02-11T11:11:46.608Z"
   },
   {
    "duration": 12,
    "start_time": "2024-02-11T11:11:46.615Z"
   },
   {
    "duration": 25,
    "start_time": "2024-02-11T11:11:46.628Z"
   },
   {
    "duration": 13,
    "start_time": "2024-02-11T11:11:46.655Z"
   },
   {
    "duration": 10,
    "start_time": "2024-02-11T11:11:46.669Z"
   },
   {
    "duration": 12,
    "start_time": "2024-02-11T11:11:46.681Z"
   },
   {
    "duration": 6,
    "start_time": "2024-02-11T11:11:46.699Z"
   },
   {
    "duration": 263,
    "start_time": "2024-02-11T11:11:46.706Z"
   },
   {
    "duration": 5,
    "start_time": "2024-02-11T11:11:46.971Z"
   },
   {
    "duration": 27,
    "start_time": "2024-02-11T11:11:46.977Z"
   },
   {
    "duration": 8,
    "start_time": "2024-02-11T11:11:47.013Z"
   },
   {
    "duration": 17,
    "start_time": "2024-02-11T11:11:47.023Z"
   },
   {
    "duration": 20,
    "start_time": "2024-02-11T11:11:47.041Z"
   },
   {
    "duration": 22,
    "start_time": "2024-02-11T11:11:47.062Z"
   },
   {
    "duration": 4,
    "start_time": "2024-02-11T11:11:47.086Z"
   },
   {
    "duration": 73,
    "start_time": "2024-02-11T11:11:47.092Z"
   },
   {
    "duration": 504,
    "start_time": "2024-02-11T11:12:14.520Z"
   },
   {
    "duration": 32,
    "start_time": "2024-02-11T11:12:15.026Z"
   },
   {
    "duration": 2248,
    "start_time": "2024-02-11T11:12:15.060Z"
   },
   {
    "duration": 25,
    "start_time": "2024-02-11T11:12:17.310Z"
   },
   {
    "duration": 40,
    "start_time": "2024-02-11T11:12:17.337Z"
   },
   {
    "duration": 12,
    "start_time": "2024-02-11T11:12:17.397Z"
   },
   {
    "duration": 12,
    "start_time": "2024-02-11T11:12:17.410Z"
   },
   {
    "duration": 5,
    "start_time": "2024-02-11T11:12:17.423Z"
   },
   {
    "duration": 24,
    "start_time": "2024-02-11T11:12:17.429Z"
   },
   {
    "duration": 8,
    "start_time": "2024-02-11T11:12:17.455Z"
   },
   {
    "duration": 15,
    "start_time": "2024-02-11T11:12:17.464Z"
   },
   {
    "duration": 24,
    "start_time": "2024-02-11T11:12:17.481Z"
   },
   {
    "duration": 20,
    "start_time": "2024-02-11T11:12:17.507Z"
   },
   {
    "duration": 273,
    "start_time": "2024-02-11T11:12:17.530Z"
   },
   {
    "duration": 6,
    "start_time": "2024-02-11T11:12:17.806Z"
   },
   {
    "duration": 10,
    "start_time": "2024-02-11T11:12:17.813Z"
   },
   {
    "duration": 4,
    "start_time": "2024-02-11T11:12:17.824Z"
   },
   {
    "duration": 22,
    "start_time": "2024-02-11T11:12:17.829Z"
   },
   {
    "duration": 5,
    "start_time": "2024-02-11T11:12:17.853Z"
   },
   {
    "duration": 6,
    "start_time": "2024-02-11T11:12:17.860Z"
   },
   {
    "duration": 15,
    "start_time": "2024-02-11T11:12:17.867Z"
   },
   {
    "duration": 22,
    "start_time": "2024-02-11T11:12:17.883Z"
   },
   {
    "duration": 71,
    "start_time": "2024-02-11T11:12:17.907Z"
   },
   {
    "duration": 9,
    "start_time": "2024-02-11T11:13:34.504Z"
   },
   {
    "duration": 14,
    "start_time": "2024-02-11T11:19:50.086Z"
   },
   {
    "duration": 521,
    "start_time": "2024-02-11T11:19:57.471Z"
   },
   {
    "duration": 30,
    "start_time": "2024-02-11T11:19:57.994Z"
   },
   {
    "duration": 2045,
    "start_time": "2024-02-11T11:19:58.025Z"
   },
   {
    "duration": 26,
    "start_time": "2024-02-11T11:20:00.072Z"
   },
   {
    "duration": 40,
    "start_time": "2024-02-11T11:20:00.100Z"
   },
   {
    "duration": 41,
    "start_time": "2024-02-11T11:20:00.142Z"
   },
   {
    "duration": 56,
    "start_time": "2024-02-11T11:20:00.185Z"
   },
   {
    "duration": 71,
    "start_time": "2024-02-11T11:20:00.243Z"
   },
   {
    "duration": 112,
    "start_time": "2024-02-11T11:20:00.316Z"
   },
   {
    "duration": 66,
    "start_time": "2024-02-11T11:20:00.430Z"
   },
   {
    "duration": 81,
    "start_time": "2024-02-11T11:20:00.498Z"
   },
   {
    "duration": 35,
    "start_time": "2024-02-11T11:20:00.580Z"
   },
   {
    "duration": 264,
    "start_time": "2024-02-11T11:20:00.617Z"
   },
   {
    "duration": 11,
    "start_time": "2024-02-11T11:20:00.883Z"
   },
   {
    "duration": 100,
    "start_time": "2024-02-11T11:20:00.895Z"
   },
   {
    "duration": 62,
    "start_time": "2024-02-11T11:20:00.997Z"
   },
   {
    "duration": 24,
    "start_time": "2024-02-11T11:20:01.060Z"
   },
   {
    "duration": 29,
    "start_time": "2024-02-11T11:20:01.086Z"
   },
   {
    "duration": 15,
    "start_time": "2024-02-11T11:20:01.117Z"
   },
   {
    "duration": 30,
    "start_time": "2024-02-11T11:20:01.134Z"
   },
   {
    "duration": 26,
    "start_time": "2024-02-11T11:20:01.165Z"
   },
   {
    "duration": 43,
    "start_time": "2024-02-11T11:20:01.192Z"
   },
   {
    "duration": 74,
    "start_time": "2024-02-11T11:20:01.237Z"
   },
   {
    "duration": 45,
    "start_time": "2024-02-11T11:38:28.634Z"
   },
   {
    "duration": 5,
    "start_time": "2024-02-11T11:44:02.661Z"
   },
   {
    "duration": 10,
    "start_time": "2024-02-11T13:04:09.803Z"
   },
   {
    "duration": 502,
    "start_time": "2024-02-11T13:07:16.895Z"
   },
   {
    "duration": 31,
    "start_time": "2024-02-11T13:07:17.399Z"
   },
   {
    "duration": 2091,
    "start_time": "2024-02-11T13:07:17.431Z"
   },
   {
    "duration": 24,
    "start_time": "2024-02-11T13:07:19.524Z"
   },
   {
    "duration": 38,
    "start_time": "2024-02-11T13:07:19.550Z"
   },
   {
    "duration": 9,
    "start_time": "2024-02-11T13:07:19.589Z"
   },
   {
    "duration": 7,
    "start_time": "2024-02-11T13:07:19.600Z"
   },
   {
    "duration": 6,
    "start_time": "2024-02-11T13:07:19.609Z"
   },
   {
    "duration": 6,
    "start_time": "2024-02-11T13:07:19.617Z"
   },
   {
    "duration": 14,
    "start_time": "2024-02-11T13:07:19.625Z"
   },
   {
    "duration": 4,
    "start_time": "2024-02-11T13:07:19.640Z"
   },
   {
    "duration": 4,
    "start_time": "2024-02-11T13:07:19.646Z"
   },
   {
    "duration": 266,
    "start_time": "2024-02-11T13:07:19.652Z"
   },
   {
    "duration": 5,
    "start_time": "2024-02-11T13:07:19.919Z"
   },
   {
    "duration": 14,
    "start_time": "2024-02-11T13:07:19.925Z"
   },
   {
    "duration": 9,
    "start_time": "2024-02-11T13:07:19.940Z"
   },
   {
    "duration": 3,
    "start_time": "2024-02-11T13:07:19.950Z"
   },
   {
    "duration": 14,
    "start_time": "2024-02-11T13:07:19.954Z"
   },
   {
    "duration": 6,
    "start_time": "2024-02-11T13:07:19.970Z"
   },
   {
    "duration": 17,
    "start_time": "2024-02-11T13:07:19.978Z"
   },
   {
    "duration": 5,
    "start_time": "2024-02-11T13:07:19.997Z"
   },
   {
    "duration": 19,
    "start_time": "2024-02-11T13:07:20.003Z"
   },
   {
    "duration": 77,
    "start_time": "2024-02-11T13:07:20.023Z"
   },
   {
    "duration": 7,
    "start_time": "2024-02-11T13:07:20.101Z"
   },
   {
    "duration": 72,
    "start_time": "2024-02-11T13:07:20.110Z"
   },
   {
    "duration": 0,
    "start_time": "2024-02-11T13:07:20.184Z"
   },
   {
    "duration": 0,
    "start_time": "2024-02-11T13:07:20.185Z"
   },
   {
    "duration": 56,
    "start_time": "2024-02-11T13:07:39.992Z"
   },
   {
    "duration": 472,
    "start_time": "2024-02-11T13:07:45.921Z"
   },
   {
    "duration": 30,
    "start_time": "2024-02-11T13:07:46.395Z"
   },
   {
    "duration": 2036,
    "start_time": "2024-02-11T13:07:46.426Z"
   },
   {
    "duration": 23,
    "start_time": "2024-02-11T13:07:48.464Z"
   },
   {
    "duration": 36,
    "start_time": "2024-02-11T13:07:48.488Z"
   },
   {
    "duration": 7,
    "start_time": "2024-02-11T13:07:48.525Z"
   },
   {
    "duration": 15,
    "start_time": "2024-02-11T13:07:48.533Z"
   },
   {
    "duration": 10,
    "start_time": "2024-02-11T13:07:48.549Z"
   },
   {
    "duration": 3,
    "start_time": "2024-02-11T13:07:48.560Z"
   },
   {
    "duration": 15,
    "start_time": "2024-02-11T13:07:48.565Z"
   },
   {
    "duration": 28,
    "start_time": "2024-02-11T13:07:48.581Z"
   },
   {
    "duration": 6,
    "start_time": "2024-02-11T13:07:48.611Z"
   },
   {
    "duration": 254,
    "start_time": "2024-02-11T13:07:48.619Z"
   },
   {
    "duration": 5,
    "start_time": "2024-02-11T13:07:48.874Z"
   },
   {
    "duration": 22,
    "start_time": "2024-02-11T13:07:48.880Z"
   },
   {
    "duration": 7,
    "start_time": "2024-02-11T13:07:48.903Z"
   },
   {
    "duration": 28,
    "start_time": "2024-02-11T13:07:48.911Z"
   },
   {
    "duration": 13,
    "start_time": "2024-02-11T13:07:48.940Z"
   },
   {
    "duration": 46,
    "start_time": "2024-02-11T13:07:48.954Z"
   },
   {
    "duration": 6,
    "start_time": "2024-02-11T13:07:49.001Z"
   },
   {
    "duration": 15,
    "start_time": "2024-02-11T13:07:49.008Z"
   },
   {
    "duration": 21,
    "start_time": "2024-02-11T13:07:49.024Z"
   },
   {
    "duration": 59,
    "start_time": "2024-02-11T13:07:49.046Z"
   },
   {
    "duration": 6,
    "start_time": "2024-02-11T13:07:49.106Z"
   },
   {
    "duration": 60,
    "start_time": "2024-02-11T13:07:49.113Z"
   },
   {
    "duration": 6,
    "start_time": "2024-02-11T13:07:49.175Z"
   },
   {
    "duration": 79,
    "start_time": "2024-02-11T13:07:49.194Z"
   },
   {
    "duration": 75,
    "start_time": "2024-02-11T13:09:23.995Z"
   },
   {
    "duration": 503,
    "start_time": "2024-02-11T13:09:29.999Z"
   },
   {
    "duration": 30,
    "start_time": "2024-02-11T13:09:30.504Z"
   },
   {
    "duration": 2035,
    "start_time": "2024-02-11T13:09:30.535Z"
   },
   {
    "duration": 23,
    "start_time": "2024-02-11T13:09:32.572Z"
   },
   {
    "duration": 41,
    "start_time": "2024-02-11T13:09:32.597Z"
   },
   {
    "duration": 7,
    "start_time": "2024-02-11T13:09:32.640Z"
   },
   {
    "duration": 15,
    "start_time": "2024-02-11T13:09:32.648Z"
   },
   {
    "duration": 9,
    "start_time": "2024-02-11T13:09:32.665Z"
   },
   {
    "duration": 17,
    "start_time": "2024-02-11T13:09:32.676Z"
   },
   {
    "duration": 11,
    "start_time": "2024-02-11T13:09:32.696Z"
   },
   {
    "duration": 14,
    "start_time": "2024-02-11T13:09:32.709Z"
   },
   {
    "duration": 4,
    "start_time": "2024-02-11T13:09:32.725Z"
   },
   {
    "duration": 257,
    "start_time": "2024-02-11T13:09:32.730Z"
   },
   {
    "duration": 7,
    "start_time": "2024-02-11T13:09:32.988Z"
   },
   {
    "duration": 29,
    "start_time": "2024-02-11T13:09:32.996Z"
   },
   {
    "duration": 12,
    "start_time": "2024-02-11T13:09:33.026Z"
   },
   {
    "duration": 33,
    "start_time": "2024-02-11T13:09:33.039Z"
   },
   {
    "duration": 37,
    "start_time": "2024-02-11T13:09:33.073Z"
   },
   {
    "duration": 17,
    "start_time": "2024-02-11T13:09:33.111Z"
   },
   {
    "duration": 46,
    "start_time": "2024-02-11T13:09:33.129Z"
   },
   {
    "duration": 21,
    "start_time": "2024-02-11T13:09:33.177Z"
   },
   {
    "duration": 28,
    "start_time": "2024-02-11T13:09:33.200Z"
   },
   {
    "duration": 58,
    "start_time": "2024-02-11T13:09:33.229Z"
   },
   {
    "duration": 6,
    "start_time": "2024-02-11T13:09:33.288Z"
   },
   {
    "duration": 91,
    "start_time": "2024-02-11T13:09:33.295Z"
   },
   {
    "duration": 7,
    "start_time": "2024-02-11T13:09:33.387Z"
   },
   {
    "duration": 71,
    "start_time": "2024-02-11T13:09:33.395Z"
   },
   {
    "duration": 24,
    "start_time": "2024-02-11T13:13:16.819Z"
   },
   {
    "duration": 51,
    "start_time": "2024-02-13T17:00:25.535Z"
   },
   {
    "duration": 6,
    "start_time": "2024-02-13T17:03:55.933Z"
   },
   {
    "duration": 8,
    "start_time": "2024-02-13T18:52:16.592Z"
   },
   {
    "duration": 705,
    "start_time": "2024-02-13T18:52:46.010Z"
   },
   {
    "duration": 34,
    "start_time": "2024-02-13T18:52:46.716Z"
   },
   {
    "duration": 2656,
    "start_time": "2024-02-13T18:52:46.752Z"
   },
   {
    "duration": 28,
    "start_time": "2024-02-13T18:52:49.410Z"
   },
   {
    "duration": 45,
    "start_time": "2024-02-13T18:52:49.440Z"
   },
   {
    "duration": 8,
    "start_time": "2024-02-13T18:52:49.487Z"
   },
   {
    "duration": 12,
    "start_time": "2024-02-13T18:52:49.496Z"
   },
   {
    "duration": 23,
    "start_time": "2024-02-13T18:52:49.510Z"
   },
   {
    "duration": 17,
    "start_time": "2024-02-13T18:52:49.535Z"
   },
   {
    "duration": 7,
    "start_time": "2024-02-13T18:52:49.555Z"
   },
   {
    "duration": 14,
    "start_time": "2024-02-13T18:52:49.563Z"
   },
   {
    "duration": 9,
    "start_time": "2024-02-13T18:52:49.578Z"
   },
   {
    "duration": 291,
    "start_time": "2024-02-13T18:52:49.589Z"
   },
   {
    "duration": 5,
    "start_time": "2024-02-13T18:52:49.882Z"
   },
   {
    "duration": 18,
    "start_time": "2024-02-13T18:52:49.889Z"
   },
   {
    "duration": 13,
    "start_time": "2024-02-13T18:52:49.908Z"
   },
   {
    "duration": 5,
    "start_time": "2024-02-13T18:52:49.923Z"
   },
   {
    "duration": 28,
    "start_time": "2024-02-13T18:52:49.930Z"
   },
   {
    "duration": 8,
    "start_time": "2024-02-13T18:52:49.960Z"
   },
   {
    "duration": 16,
    "start_time": "2024-02-13T18:52:49.969Z"
   },
   {
    "duration": 4,
    "start_time": "2024-02-13T18:52:49.986Z"
   },
   {
    "duration": 19,
    "start_time": "2024-02-13T18:52:49.991Z"
   },
   {
    "duration": 61,
    "start_time": "2024-02-13T18:52:50.011Z"
   },
   {
    "duration": 8,
    "start_time": "2024-02-13T18:52:50.074Z"
   },
   {
    "duration": 99,
    "start_time": "2024-02-13T18:52:50.084Z"
   },
   {
    "duration": 8,
    "start_time": "2024-02-13T18:52:50.185Z"
   },
   {
    "duration": 27,
    "start_time": "2024-02-13T18:52:50.195Z"
   },
   {
    "duration": 74,
    "start_time": "2024-02-13T18:52:50.226Z"
   },
   {
    "duration": 83,
    "start_time": "2024-02-13T18:52:50.302Z"
   },
   {
    "duration": 576,
    "start_time": "2024-02-13T19:22:36.423Z"
   },
   {
    "duration": 35,
    "start_time": "2024-02-13T19:22:37.001Z"
   },
   {
    "duration": 2410,
    "start_time": "2024-02-13T19:22:37.038Z"
   },
   {
    "duration": 28,
    "start_time": "2024-02-13T19:22:39.450Z"
   },
   {
    "duration": 80,
    "start_time": "2024-02-13T19:22:39.480Z"
   },
   {
    "duration": 8,
    "start_time": "2024-02-13T19:22:39.561Z"
   },
   {
    "duration": 5,
    "start_time": "2024-02-13T19:22:39.571Z"
   },
   {
    "duration": 4,
    "start_time": "2024-02-13T19:22:39.578Z"
   },
   {
    "duration": 4,
    "start_time": "2024-02-13T19:22:39.584Z"
   },
   {
    "duration": 7,
    "start_time": "2024-02-13T19:22:39.591Z"
   },
   {
    "duration": 7,
    "start_time": "2024-02-13T19:22:39.600Z"
   },
   {
    "duration": 15,
    "start_time": "2024-02-13T19:22:39.609Z"
   },
   {
    "duration": 316,
    "start_time": "2024-02-13T19:22:39.625Z"
   },
   {
    "duration": 6,
    "start_time": "2024-02-13T19:22:39.943Z"
   },
   {
    "duration": 16,
    "start_time": "2024-02-13T19:22:39.951Z"
   },
   {
    "duration": 9,
    "start_time": "2024-02-13T19:22:39.968Z"
   },
   {
    "duration": 4,
    "start_time": "2024-02-13T19:22:39.978Z"
   },
   {
    "duration": 9,
    "start_time": "2024-02-13T19:22:39.984Z"
   },
   {
    "duration": 13,
    "start_time": "2024-02-13T19:22:39.994Z"
   },
   {
    "duration": 5,
    "start_time": "2024-02-13T19:22:40.009Z"
   },
   {
    "duration": 4,
    "start_time": "2024-02-13T19:22:40.015Z"
   },
   {
    "duration": 48,
    "start_time": "2024-02-13T19:22:40.020Z"
   },
   {
    "duration": 38,
    "start_time": "2024-02-13T19:22:40.070Z"
   },
   {
    "duration": 7,
    "start_time": "2024-02-13T19:22:40.109Z"
   },
   {
    "duration": 111,
    "start_time": "2024-02-13T19:22:40.117Z"
   },
   {
    "duration": 8,
    "start_time": "2024-02-13T19:22:40.229Z"
   },
   {
    "duration": 38,
    "start_time": "2024-02-13T19:22:40.239Z"
   },
   {
    "duration": 56,
    "start_time": "2024-02-13T19:22:40.280Z"
   },
   {
    "duration": 2,
    "start_time": "2024-02-13T19:22:40.337Z"
   },
   {
    "duration": 6,
    "start_time": "2024-02-13T19:22:40.358Z"
   },
   {
    "duration": 173,
    "start_time": "2024-02-13T19:22:40.365Z"
   },
   {
    "duration": 207,
    "start_time": "2024-02-13T19:27:48.045Z"
   },
   {
    "duration": 568,
    "start_time": "2024-02-13T19:28:36.972Z"
   },
   {
    "duration": 38,
    "start_time": "2024-02-13T19:28:37.542Z"
   },
   {
    "duration": 2407,
    "start_time": "2024-02-13T19:28:37.581Z"
   },
   {
    "duration": 28,
    "start_time": "2024-02-13T19:28:39.991Z"
   },
   {
    "duration": 62,
    "start_time": "2024-02-13T19:28:40.021Z"
   },
   {
    "duration": 9,
    "start_time": "2024-02-13T19:28:40.085Z"
   },
   {
    "duration": 6,
    "start_time": "2024-02-13T19:28:40.096Z"
   },
   {
    "duration": 8,
    "start_time": "2024-02-13T19:28:40.104Z"
   },
   {
    "duration": 5,
    "start_time": "2024-02-13T19:28:40.113Z"
   },
   {
    "duration": 4,
    "start_time": "2024-02-13T19:28:40.160Z"
   },
   {
    "duration": 5,
    "start_time": "2024-02-13T19:28:40.166Z"
   },
   {
    "duration": 3,
    "start_time": "2024-02-13T19:28:40.173Z"
   },
   {
    "duration": 300,
    "start_time": "2024-02-13T19:28:40.177Z"
   },
   {
    "duration": 6,
    "start_time": "2024-02-13T19:28:40.479Z"
   },
   {
    "duration": 16,
    "start_time": "2024-02-13T19:28:40.486Z"
   },
   {
    "duration": 9,
    "start_time": "2024-02-13T19:28:40.504Z"
   },
   {
    "duration": 5,
    "start_time": "2024-02-13T19:28:40.514Z"
   },
   {
    "duration": 8,
    "start_time": "2024-02-13T19:28:40.520Z"
   },
   {
    "duration": 6,
    "start_time": "2024-02-13T19:28:40.558Z"
   },
   {
    "duration": 6,
    "start_time": "2024-02-13T19:28:40.565Z"
   },
   {
    "duration": 4,
    "start_time": "2024-02-13T19:28:40.572Z"
   },
   {
    "duration": 40,
    "start_time": "2024-02-13T19:28:40.578Z"
   },
   {
    "duration": 52,
    "start_time": "2024-02-13T19:28:40.620Z"
   },
   {
    "duration": 8,
    "start_time": "2024-02-13T19:28:40.673Z"
   },
   {
    "duration": 99,
    "start_time": "2024-02-13T19:28:40.683Z"
   },
   {
    "duration": 8,
    "start_time": "2024-02-13T19:28:40.784Z"
   },
   {
    "duration": 28,
    "start_time": "2024-02-13T19:28:40.794Z"
   },
   {
    "duration": 73,
    "start_time": "2024-02-13T19:28:40.826Z"
   },
   {
    "duration": 3,
    "start_time": "2024-02-13T19:28:40.901Z"
   },
   {
    "duration": 21,
    "start_time": "2024-02-13T19:28:40.906Z"
   },
   {
    "duration": 6,
    "start_time": "2024-02-13T19:28:40.929Z"
   },
   {
    "duration": 223,
    "start_time": "2024-02-13T19:28:40.937Z"
   },
   {
    "duration": 25,
    "start_time": "2024-02-13T19:58:47.291Z"
   },
   {
    "duration": 544,
    "start_time": "2024-02-13T19:58:53.713Z"
   },
   {
    "duration": 34,
    "start_time": "2024-02-13T19:58:54.259Z"
   },
   {
    "duration": 2430,
    "start_time": "2024-02-13T19:58:54.298Z"
   },
   {
    "duration": 27,
    "start_time": "2024-02-13T19:58:56.730Z"
   },
   {
    "duration": 48,
    "start_time": "2024-02-13T19:58:56.759Z"
   },
   {
    "duration": 8,
    "start_time": "2024-02-13T19:58:56.809Z"
   },
   {
    "duration": 42,
    "start_time": "2024-02-13T19:58:56.819Z"
   },
   {
    "duration": 13,
    "start_time": "2024-02-13T19:58:56.863Z"
   },
   {
    "duration": 5,
    "start_time": "2024-02-13T19:58:56.879Z"
   },
   {
    "duration": 4,
    "start_time": "2024-02-13T19:58:56.886Z"
   },
   {
    "duration": 10,
    "start_time": "2024-02-13T19:58:56.892Z"
   },
   {
    "duration": 5,
    "start_time": "2024-02-13T19:58:56.903Z"
   },
   {
    "duration": 325,
    "start_time": "2024-02-13T19:58:56.910Z"
   },
   {
    "duration": 6,
    "start_time": "2024-02-13T19:58:57.237Z"
   },
   {
    "duration": 28,
    "start_time": "2024-02-13T19:58:57.245Z"
   },
   {
    "duration": 19,
    "start_time": "2024-02-13T19:58:57.274Z"
   },
   {
    "duration": 4,
    "start_time": "2024-02-13T19:58:57.295Z"
   },
   {
    "duration": 13,
    "start_time": "2024-02-13T19:58:57.300Z"
   },
   {
    "duration": 7,
    "start_time": "2024-02-13T19:58:57.315Z"
   },
   {
    "duration": 6,
    "start_time": "2024-02-13T19:58:57.324Z"
   },
   {
    "duration": 4,
    "start_time": "2024-02-13T19:58:57.331Z"
   },
   {
    "duration": 34,
    "start_time": "2024-02-13T19:58:57.336Z"
   },
   {
    "duration": 35,
    "start_time": "2024-02-13T19:58:57.372Z"
   },
   {
    "duration": 6,
    "start_time": "2024-02-13T19:58:57.409Z"
   },
   {
    "duration": 109,
    "start_time": "2024-02-13T19:58:57.417Z"
   },
   {
    "duration": 7,
    "start_time": "2024-02-13T19:58:57.528Z"
   },
   {
    "duration": 38,
    "start_time": "2024-02-13T19:58:57.538Z"
   },
   {
    "duration": 49,
    "start_time": "2024-02-13T19:58:57.578Z"
   },
   {
    "duration": 2,
    "start_time": "2024-02-13T19:58:57.629Z"
   },
   {
    "duration": 34,
    "start_time": "2024-02-13T19:58:57.633Z"
   },
   {
    "duration": 14,
    "start_time": "2024-02-13T19:58:57.669Z"
   },
   {
    "duration": 223,
    "start_time": "2024-02-13T19:58:57.684Z"
   },
   {
    "duration": 26,
    "start_time": "2024-02-13T19:58:57.908Z"
   },
   {
    "duration": 81,
    "start_time": "2024-02-13T20:03:38.627Z"
   },
   {
    "duration": 178,
    "start_time": "2024-02-14T12:34:07.581Z"
   },
   {
    "duration": 163,
    "start_time": "2024-02-14T12:36:20.184Z"
   },
   {
    "duration": 179,
    "start_time": "2024-02-14T12:36:38.353Z"
   },
   {
    "duration": 77,
    "start_time": "2024-02-14T12:39:26.871Z"
   },
   {
    "duration": 164,
    "start_time": "2024-02-14T12:41:34.376Z"
   },
   {
    "duration": 292,
    "start_time": "2024-02-14T12:55:30.057Z"
   },
   {
    "duration": 175,
    "start_time": "2024-02-14T15:33:06.664Z"
   },
   {
    "duration": 175,
    "start_time": "2024-02-14T15:33:34.187Z"
   },
   {
    "duration": 208,
    "start_time": "2024-02-14T15:33:46.961Z"
   },
   {
    "duration": 175,
    "start_time": "2024-02-14T15:34:01.902Z"
   },
   {
    "duration": 188,
    "start_time": "2024-02-14T15:34:12.279Z"
   },
   {
    "duration": 168,
    "start_time": "2024-02-14T15:34:20.717Z"
   },
   {
    "duration": 174,
    "start_time": "2024-02-14T15:34:31.298Z"
   },
   {
    "duration": 19,
    "start_time": "2024-02-14T15:34:37.493Z"
   },
   {
    "duration": 599,
    "start_time": "2024-02-14T15:34:56.946Z"
   },
   {
    "duration": 38,
    "start_time": "2024-02-14T15:34:57.546Z"
   },
   {
    "duration": 2446,
    "start_time": "2024-02-14T15:34:57.586Z"
   },
   {
    "duration": 29,
    "start_time": "2024-02-14T15:35:00.034Z"
   },
   {
    "duration": 57,
    "start_time": "2024-02-14T15:35:00.066Z"
   },
   {
    "duration": 36,
    "start_time": "2024-02-14T15:35:00.124Z"
   },
   {
    "duration": 44,
    "start_time": "2024-02-14T15:35:00.161Z"
   },
   {
    "duration": 128,
    "start_time": "2024-02-14T15:35:00.207Z"
   },
   {
    "duration": 77,
    "start_time": "2024-02-14T15:35:00.336Z"
   },
   {
    "duration": 53,
    "start_time": "2024-02-14T15:35:00.414Z"
   },
   {
    "duration": 38,
    "start_time": "2024-02-14T15:35:00.469Z"
   },
   {
    "duration": 32,
    "start_time": "2024-02-14T15:35:00.508Z"
   },
   {
    "duration": 344,
    "start_time": "2024-02-14T15:35:00.542Z"
   },
   {
    "duration": 6,
    "start_time": "2024-02-14T15:35:00.889Z"
   },
   {
    "duration": 78,
    "start_time": "2024-02-14T15:35:00.896Z"
   },
   {
    "duration": 32,
    "start_time": "2024-02-14T15:35:00.975Z"
   },
   {
    "duration": 79,
    "start_time": "2024-02-14T15:35:01.009Z"
   },
   {
    "duration": 40,
    "start_time": "2024-02-14T15:35:01.090Z"
   },
   {
    "duration": 39,
    "start_time": "2024-02-14T15:35:01.132Z"
   },
   {
    "duration": 74,
    "start_time": "2024-02-14T15:35:01.173Z"
   },
   {
    "duration": 38,
    "start_time": "2024-02-14T15:35:01.249Z"
   },
   {
    "duration": 57,
    "start_time": "2024-02-14T15:35:01.288Z"
   },
   {
    "duration": 51,
    "start_time": "2024-02-14T15:35:01.346Z"
   },
   {
    "duration": 18,
    "start_time": "2024-02-14T15:35:01.399Z"
   },
   {
    "duration": 107,
    "start_time": "2024-02-14T15:35:01.419Z"
   },
   {
    "duration": 7,
    "start_time": "2024-02-14T15:35:01.528Z"
   },
   {
    "duration": 47,
    "start_time": "2024-02-14T15:35:01.537Z"
   },
   {
    "duration": 66,
    "start_time": "2024-02-14T15:35:01.585Z"
   },
   {
    "duration": 2,
    "start_time": "2024-02-14T15:35:01.653Z"
   },
   {
    "duration": 33,
    "start_time": "2024-02-14T15:35:01.657Z"
   },
   {
    "duration": 30,
    "start_time": "2024-02-14T15:35:01.692Z"
   },
   {
    "duration": 236,
    "start_time": "2024-02-14T15:35:01.724Z"
   },
   {
    "duration": 191,
    "start_time": "2024-02-14T15:35:01.962Z"
   },
   {
    "duration": 211,
    "start_time": "2024-02-14T15:35:02.154Z"
   },
   {
    "duration": 182,
    "start_time": "2024-02-14T15:35:02.367Z"
   },
   {
    "duration": 191,
    "start_time": "2024-02-14T15:35:02.551Z"
   },
   {
    "duration": 94,
    "start_time": "2024-02-14T15:35:02.744Z"
   },
   {
    "duration": 16,
    "start_time": "2024-02-14T15:35:39.826Z"
   },
   {
    "duration": 440,
    "start_time": "2024-02-14T15:37:05.406Z"
   },
   {
    "duration": 274,
    "start_time": "2024-02-14T15:39:54.875Z"
   },
   {
    "duration": 17,
    "start_time": "2024-02-14T15:41:39.715Z"
   },
   {
    "duration": 188,
    "start_time": "2024-02-14T15:45:31.566Z"
   },
   {
    "duration": 261,
    "start_time": "2024-02-14T15:46:20.383Z"
   },
   {
    "duration": 173,
    "start_time": "2024-02-14T15:47:45.964Z"
   },
   {
    "duration": 193,
    "start_time": "2024-02-14T15:50:00.937Z"
   },
   {
    "duration": 589,
    "start_time": "2024-02-14T16:57:46.140Z"
   },
   {
    "duration": 39,
    "start_time": "2024-02-14T16:57:46.730Z"
   },
   {
    "duration": 2477,
    "start_time": "2024-02-14T16:57:46.771Z"
   },
   {
    "duration": 28,
    "start_time": "2024-02-14T16:57:49.250Z"
   },
   {
    "duration": 44,
    "start_time": "2024-02-14T16:57:49.280Z"
   },
   {
    "duration": 41,
    "start_time": "2024-02-14T16:57:49.325Z"
   },
   {
    "duration": 10,
    "start_time": "2024-02-14T16:57:49.367Z"
   },
   {
    "duration": 4,
    "start_time": "2024-02-14T16:57:49.379Z"
   },
   {
    "duration": 14,
    "start_time": "2024-02-14T16:57:49.385Z"
   },
   {
    "duration": 12,
    "start_time": "2024-02-14T16:57:49.402Z"
   },
   {
    "duration": 30,
    "start_time": "2024-02-14T16:57:49.415Z"
   },
   {
    "duration": 14,
    "start_time": "2024-02-14T16:57:49.447Z"
   },
   {
    "duration": 287,
    "start_time": "2024-02-14T16:57:49.463Z"
   },
   {
    "duration": 10,
    "start_time": "2024-02-14T16:57:49.752Z"
   },
   {
    "duration": 19,
    "start_time": "2024-02-14T16:57:49.763Z"
   },
   {
    "duration": 9,
    "start_time": "2024-02-14T16:57:49.783Z"
   },
   {
    "duration": 15,
    "start_time": "2024-02-14T16:57:49.793Z"
   },
   {
    "duration": 24,
    "start_time": "2024-02-14T16:57:49.809Z"
   },
   {
    "duration": 23,
    "start_time": "2024-02-14T16:57:49.835Z"
   },
   {
    "duration": 8,
    "start_time": "2024-02-14T16:57:49.860Z"
   },
   {
    "duration": 17,
    "start_time": "2024-02-14T16:57:49.870Z"
   },
   {
    "duration": 31,
    "start_time": "2024-02-14T16:57:49.890Z"
   },
   {
    "duration": 60,
    "start_time": "2024-02-14T16:57:49.923Z"
   },
   {
    "duration": 9,
    "start_time": "2024-02-14T16:57:49.985Z"
   },
   {
    "duration": 106,
    "start_time": "2024-02-14T16:57:49.996Z"
   },
   {
    "duration": 8,
    "start_time": "2024-02-14T16:57:50.104Z"
   },
   {
    "duration": 54,
    "start_time": "2024-02-14T16:57:50.113Z"
   },
   {
    "duration": 51,
    "start_time": "2024-02-14T16:57:50.171Z"
   },
   {
    "duration": 3,
    "start_time": "2024-02-14T16:57:50.223Z"
   },
   {
    "duration": 31,
    "start_time": "2024-02-14T16:57:50.227Z"
   },
   {
    "duration": 8,
    "start_time": "2024-02-14T16:57:50.260Z"
   },
   {
    "duration": 221,
    "start_time": "2024-02-14T16:57:50.270Z"
   },
   {
    "duration": 190,
    "start_time": "2024-02-14T16:57:50.493Z"
   },
   {
    "duration": 200,
    "start_time": "2024-02-14T16:57:50.685Z"
   },
   {
    "duration": 180,
    "start_time": "2024-02-14T16:57:50.887Z"
   },
   {
    "duration": 197,
    "start_time": "2024-02-14T16:57:51.069Z"
   },
   {
    "duration": 263,
    "start_time": "2024-02-14T16:57:51.267Z"
   },
   {
    "duration": 182,
    "start_time": "2024-02-14T16:57:51.532Z"
   },
   {
    "duration": 183,
    "start_time": "2024-02-14T16:57:51.715Z"
   },
   {
    "duration": 27,
    "start_time": "2024-02-14T16:57:51.900Z"
   },
   {
    "duration": 27,
    "start_time": "2024-02-14T16:59:13.791Z"
   },
   {
    "duration": 8,
    "start_time": "2024-02-14T16:59:19.759Z"
   },
   {
    "duration": 75,
    "start_time": "2024-02-14T17:01:50.895Z"
   },
   {
    "duration": 21,
    "start_time": "2024-02-14T17:02:46.234Z"
   },
   {
    "duration": 551,
    "start_time": "2024-02-14T17:10:15.766Z"
   },
   {
    "duration": 40,
    "start_time": "2024-02-14T17:10:16.319Z"
   },
   {
    "duration": 2496,
    "start_time": "2024-02-14T17:10:16.360Z"
   },
   {
    "duration": 28,
    "start_time": "2024-02-14T17:10:18.858Z"
   },
   {
    "duration": 77,
    "start_time": "2024-02-14T17:10:18.888Z"
   },
   {
    "duration": 9,
    "start_time": "2024-02-14T17:10:18.967Z"
   },
   {
    "duration": 23,
    "start_time": "2024-02-14T17:10:18.978Z"
   },
   {
    "duration": 14,
    "start_time": "2024-02-14T17:10:19.003Z"
   },
   {
    "duration": 17,
    "start_time": "2024-02-14T17:10:19.019Z"
   },
   {
    "duration": 21,
    "start_time": "2024-02-14T17:10:19.038Z"
   },
   {
    "duration": 25,
    "start_time": "2024-02-14T17:10:19.061Z"
   },
   {
    "duration": 17,
    "start_time": "2024-02-14T17:10:19.087Z"
   },
   {
    "duration": 311,
    "start_time": "2024-02-14T17:10:19.106Z"
   },
   {
    "duration": 5,
    "start_time": "2024-02-14T17:10:19.419Z"
   },
   {
    "duration": 18,
    "start_time": "2024-02-14T17:10:19.426Z"
   },
   {
    "duration": 17,
    "start_time": "2024-02-14T17:10:19.446Z"
   },
   {
    "duration": 6,
    "start_time": "2024-02-14T17:10:19.465Z"
   },
   {
    "duration": 12,
    "start_time": "2024-02-14T17:10:19.473Z"
   },
   {
    "duration": 7,
    "start_time": "2024-02-14T17:10:19.487Z"
   },
   {
    "duration": 7,
    "start_time": "2024-02-14T17:10:19.496Z"
   },
   {
    "duration": 13,
    "start_time": "2024-02-14T17:10:19.505Z"
   },
   {
    "duration": 35,
    "start_time": "2024-02-14T17:10:19.520Z"
   },
   {
    "duration": 37,
    "start_time": "2024-02-14T17:10:19.557Z"
   },
   {
    "duration": 7,
    "start_time": "2024-02-14T17:10:19.595Z"
   },
   {
    "duration": 108,
    "start_time": "2024-02-14T17:10:19.604Z"
   },
   {
    "duration": 7,
    "start_time": "2024-02-14T17:10:19.714Z"
   },
   {
    "duration": 38,
    "start_time": "2024-02-14T17:10:19.723Z"
   },
   {
    "duration": 52,
    "start_time": "2024-02-14T17:10:19.764Z"
   },
   {
    "duration": 2,
    "start_time": "2024-02-14T17:10:19.818Z"
   },
   {
    "duration": 12,
    "start_time": "2024-02-14T17:10:19.822Z"
   },
   {
    "duration": 25,
    "start_time": "2024-02-14T17:10:19.836Z"
   },
   {
    "duration": 215,
    "start_time": "2024-02-14T17:10:19.862Z"
   },
   {
    "duration": 186,
    "start_time": "2024-02-14T17:10:20.079Z"
   },
   {
    "duration": 198,
    "start_time": "2024-02-14T17:10:20.267Z"
   },
   {
    "duration": 181,
    "start_time": "2024-02-14T17:10:20.467Z"
   },
   {
    "duration": 193,
    "start_time": "2024-02-14T17:10:20.649Z"
   },
   {
    "duration": 278,
    "start_time": "2024-02-14T17:10:20.844Z"
   },
   {
    "duration": 194,
    "start_time": "2024-02-14T17:10:21.124Z"
   },
   {
    "duration": 190,
    "start_time": "2024-02-14T17:10:21.319Z"
   },
   {
    "duration": 27,
    "start_time": "2024-02-14T17:10:21.510Z"
   },
   {
    "duration": 32,
    "start_time": "2024-02-14T17:10:21.539Z"
   },
   {
    "duration": 20,
    "start_time": "2024-02-14T17:11:00.486Z"
   },
   {
    "duration": 94,
    "start_time": "2024-02-14T17:12:53.911Z"
   },
   {
    "duration": 26,
    "start_time": "2024-02-14T17:13:03.961Z"
   },
   {
    "duration": 28,
    "start_time": "2024-02-14T17:13:17.149Z"
   },
   {
    "duration": 21,
    "start_time": "2024-02-14T17:13:27.175Z"
   },
   {
    "duration": 16,
    "start_time": "2024-02-14T17:13:32.794Z"
   },
   {
    "duration": 18,
    "start_time": "2024-02-14T17:13:37.259Z"
   },
   {
    "duration": 27,
    "start_time": "2024-02-14T17:14:34.846Z"
   },
   {
    "duration": 21,
    "start_time": "2024-02-14T17:15:54.458Z"
   },
   {
    "duration": 20,
    "start_time": "2024-02-14T17:26:10.475Z"
   },
   {
    "duration": 534,
    "start_time": "2024-02-14T17:26:15.699Z"
   },
   {
    "duration": 43,
    "start_time": "2024-02-14T17:26:16.235Z"
   },
   {
    "duration": 2528,
    "start_time": "2024-02-14T17:26:16.280Z"
   },
   {
    "duration": 27,
    "start_time": "2024-02-14T17:26:18.810Z"
   },
   {
    "duration": 46,
    "start_time": "2024-02-14T17:26:18.839Z"
   },
   {
    "duration": 8,
    "start_time": "2024-02-14T17:26:18.886Z"
   },
   {
    "duration": 9,
    "start_time": "2024-02-14T17:26:18.896Z"
   },
   {
    "duration": 5,
    "start_time": "2024-02-14T17:26:18.907Z"
   },
   {
    "duration": 4,
    "start_time": "2024-02-14T17:26:18.914Z"
   },
   {
    "duration": 40,
    "start_time": "2024-02-14T17:26:18.921Z"
   },
   {
    "duration": 4,
    "start_time": "2024-02-14T17:26:18.962Z"
   },
   {
    "duration": 14,
    "start_time": "2024-02-14T17:26:18.967Z"
   },
   {
    "duration": 306,
    "start_time": "2024-02-14T17:26:18.983Z"
   },
   {
    "duration": 6,
    "start_time": "2024-02-14T17:26:19.291Z"
   },
   {
    "duration": 21,
    "start_time": "2024-02-14T17:26:19.298Z"
   },
   {
    "duration": 8,
    "start_time": "2024-02-14T17:26:19.321Z"
   },
   {
    "duration": 3,
    "start_time": "2024-02-14T17:26:19.331Z"
   },
   {
    "duration": 26,
    "start_time": "2024-02-14T17:26:19.336Z"
   },
   {
    "duration": 6,
    "start_time": "2024-02-14T17:26:19.363Z"
   },
   {
    "duration": 17,
    "start_time": "2024-02-14T17:26:19.370Z"
   },
   {
    "duration": 4,
    "start_time": "2024-02-14T17:26:19.388Z"
   },
   {
    "duration": 17,
    "start_time": "2024-02-14T17:26:19.393Z"
   },
   {
    "duration": 50,
    "start_time": "2024-02-14T17:26:19.412Z"
   },
   {
    "duration": 7,
    "start_time": "2024-02-14T17:26:19.463Z"
   },
   {
    "duration": 114,
    "start_time": "2024-02-14T17:26:19.472Z"
   },
   {
    "duration": 8,
    "start_time": "2024-02-14T17:26:19.587Z"
   },
   {
    "duration": 29,
    "start_time": "2024-02-14T17:26:19.597Z"
   },
   {
    "duration": 66,
    "start_time": "2024-02-14T17:26:19.630Z"
   },
   {
    "duration": 3,
    "start_time": "2024-02-14T17:26:19.698Z"
   },
   {
    "duration": 10,
    "start_time": "2024-02-14T17:26:19.702Z"
   },
   {
    "duration": 7,
    "start_time": "2024-02-14T17:26:19.713Z"
   },
   {
    "duration": 226,
    "start_time": "2024-02-14T17:26:19.722Z"
   },
   {
    "duration": 192,
    "start_time": "2024-02-14T17:26:19.950Z"
   },
   {
    "duration": 197,
    "start_time": "2024-02-14T17:26:20.143Z"
   },
   {
    "duration": 186,
    "start_time": "2024-02-14T17:26:20.342Z"
   },
   {
    "duration": 190,
    "start_time": "2024-02-14T17:26:20.530Z"
   },
   {
    "duration": 273,
    "start_time": "2024-02-14T17:26:20.722Z"
   },
   {
    "duration": 189,
    "start_time": "2024-02-14T17:26:20.997Z"
   },
   {
    "duration": 196,
    "start_time": "2024-02-14T17:26:21.188Z"
   },
   {
    "duration": 27,
    "start_time": "2024-02-14T17:26:21.386Z"
   },
   {
    "duration": 21,
    "start_time": "2024-02-14T17:26:21.414Z"
   },
   {
    "duration": 81,
    "start_time": "2024-02-14T17:26:21.436Z"
   },
   {
    "duration": 22,
    "start_time": "2024-02-14T17:29:00.704Z"
   },
   {
    "duration": 93,
    "start_time": "2024-02-14T17:29:58.436Z"
   },
   {
    "duration": 20,
    "start_time": "2024-02-14T17:30:09.287Z"
   },
   {
    "duration": 1171,
    "start_time": "2024-02-14T17:32:50.153Z"
   },
   {
    "duration": 1180,
    "start_time": "2024-02-14T17:33:08.261Z"
   },
   {
    "duration": 26,
    "start_time": "2024-02-14T17:33:20.115Z"
   },
   {
    "duration": 35,
    "start_time": "2024-02-14T17:33:38.489Z"
   },
   {
    "duration": 17,
    "start_time": "2024-02-14T19:45:15.421Z"
   },
   {
    "duration": 23,
    "start_time": "2024-02-14T19:54:55.212Z"
   },
   {
    "duration": 4,
    "start_time": "2024-02-14T19:58:59.974Z"
   },
   {
    "duration": 591,
    "start_time": "2024-02-14T20:00:02.631Z"
   },
   {
    "duration": 37,
    "start_time": "2024-02-14T20:00:03.224Z"
   },
   {
    "duration": 2693,
    "start_time": "2024-02-14T20:00:03.263Z"
   },
   {
    "duration": 28,
    "start_time": "2024-02-14T20:00:05.958Z"
   },
   {
    "duration": 79,
    "start_time": "2024-02-14T20:00:05.988Z"
   },
   {
    "duration": 10,
    "start_time": "2024-02-14T20:00:06.069Z"
   },
   {
    "duration": 10,
    "start_time": "2024-02-14T20:00:06.081Z"
   },
   {
    "duration": 6,
    "start_time": "2024-02-14T20:00:06.093Z"
   },
   {
    "duration": 6,
    "start_time": "2024-02-14T20:00:06.100Z"
   },
   {
    "duration": 6,
    "start_time": "2024-02-14T20:00:06.108Z"
   },
   {
    "duration": 43,
    "start_time": "2024-02-14T20:00:06.116Z"
   },
   {
    "duration": 4,
    "start_time": "2024-02-14T20:00:06.161Z"
   },
   {
    "duration": 304,
    "start_time": "2024-02-14T20:00:06.167Z"
   },
   {
    "duration": 6,
    "start_time": "2024-02-14T20:00:06.475Z"
   },
   {
    "duration": 30,
    "start_time": "2024-02-14T20:00:06.483Z"
   },
   {
    "duration": 10,
    "start_time": "2024-02-14T20:00:06.514Z"
   },
   {
    "duration": 4,
    "start_time": "2024-02-14T20:00:06.525Z"
   },
   {
    "duration": 27,
    "start_time": "2024-02-14T20:00:06.531Z"
   },
   {
    "duration": 6,
    "start_time": "2024-02-14T20:00:06.560Z"
   },
   {
    "duration": 6,
    "start_time": "2024-02-14T20:00:06.568Z"
   },
   {
    "duration": 4,
    "start_time": "2024-02-14T20:00:06.576Z"
   },
   {
    "duration": 32,
    "start_time": "2024-02-14T20:00:06.582Z"
   },
   {
    "duration": 45,
    "start_time": "2024-02-14T20:00:06.616Z"
   },
   {
    "duration": 7,
    "start_time": "2024-02-14T20:00:06.662Z"
   },
   {
    "duration": 99,
    "start_time": "2024-02-14T20:00:06.671Z"
   },
   {
    "duration": 7,
    "start_time": "2024-02-14T20:00:06.772Z"
   },
   {
    "duration": 36,
    "start_time": "2024-02-14T20:00:06.781Z"
   },
   {
    "duration": 59,
    "start_time": "2024-02-14T20:00:06.818Z"
   },
   {
    "duration": 3,
    "start_time": "2024-02-14T20:00:06.878Z"
   },
   {
    "duration": 7,
    "start_time": "2024-02-14T20:00:06.883Z"
   },
   {
    "duration": 17,
    "start_time": "2024-02-14T20:00:06.892Z"
   },
   {
    "duration": 232,
    "start_time": "2024-02-14T20:00:06.911Z"
   },
   {
    "duration": 189,
    "start_time": "2024-02-14T20:00:07.144Z"
   },
   {
    "duration": 195,
    "start_time": "2024-02-14T20:00:07.334Z"
   },
   {
    "duration": 183,
    "start_time": "2024-02-14T20:00:07.531Z"
   },
   {
    "duration": 186,
    "start_time": "2024-02-14T20:00:07.716Z"
   },
   {
    "duration": 280,
    "start_time": "2024-02-14T20:00:07.904Z"
   },
   {
    "duration": 188,
    "start_time": "2024-02-14T20:00:08.186Z"
   },
   {
    "duration": 188,
    "start_time": "2024-02-14T20:00:08.376Z"
   },
   {
    "duration": 29,
    "start_time": "2024-02-14T20:00:08.565Z"
   },
   {
    "duration": 5,
    "start_time": "2024-02-14T20:00:08.599Z"
   },
   {
    "duration": 72,
    "start_time": "2024-02-14T20:00:08.606Z"
   },
   {
    "duration": 47,
    "start_time": "2024-02-15T14:15:09.806Z"
   },
   {
    "duration": 718,
    "start_time": "2024-02-15T14:18:11.609Z"
   },
   {
    "duration": 31,
    "start_time": "2024-02-15T14:18:12.329Z"
   },
   {
    "duration": 2274,
    "start_time": "2024-02-15T14:18:12.361Z"
   },
   {
    "duration": 24,
    "start_time": "2024-02-15T14:18:14.637Z"
   },
   {
    "duration": 56,
    "start_time": "2024-02-15T14:18:14.663Z"
   },
   {
    "duration": 8,
    "start_time": "2024-02-15T14:18:14.720Z"
   },
   {
    "duration": 6,
    "start_time": "2024-02-15T14:18:14.729Z"
   },
   {
    "duration": 7,
    "start_time": "2024-02-15T14:18:14.736Z"
   },
   {
    "duration": 7,
    "start_time": "2024-02-15T14:18:14.744Z"
   },
   {
    "duration": 7,
    "start_time": "2024-02-15T14:18:14.753Z"
   },
   {
    "duration": 4,
    "start_time": "2024-02-15T14:18:14.761Z"
   },
   {
    "duration": 3,
    "start_time": "2024-02-15T14:18:14.767Z"
   },
   {
    "duration": 271,
    "start_time": "2024-02-15T14:18:14.772Z"
   },
   {
    "duration": 6,
    "start_time": "2024-02-15T14:18:15.044Z"
   },
   {
    "duration": 35,
    "start_time": "2024-02-15T14:18:15.051Z"
   },
   {
    "duration": 13,
    "start_time": "2024-02-15T14:18:15.088Z"
   },
   {
    "duration": 6,
    "start_time": "2024-02-15T14:18:15.103Z"
   },
   {
    "duration": 40,
    "start_time": "2024-02-15T14:18:15.110Z"
   },
   {
    "duration": 22,
    "start_time": "2024-02-15T14:18:15.152Z"
   },
   {
    "duration": 12,
    "start_time": "2024-02-15T14:18:15.176Z"
   },
   {
    "duration": 10,
    "start_time": "2024-02-15T14:18:15.190Z"
   },
   {
    "duration": 21,
    "start_time": "2024-02-15T14:18:15.201Z"
   },
   {
    "duration": 31,
    "start_time": "2024-02-15T14:18:15.224Z"
   },
   {
    "duration": 6,
    "start_time": "2024-02-15T14:18:15.256Z"
   },
   {
    "duration": 89,
    "start_time": "2024-02-15T14:18:15.263Z"
   },
   {
    "duration": 6,
    "start_time": "2024-02-15T14:18:15.354Z"
   },
   {
    "duration": 24,
    "start_time": "2024-02-15T14:18:15.361Z"
   },
   {
    "duration": 59,
    "start_time": "2024-02-15T14:18:15.388Z"
   },
   {
    "duration": 3,
    "start_time": "2024-02-15T14:18:15.448Z"
   },
   {
    "duration": 5,
    "start_time": "2024-02-15T14:18:15.452Z"
   },
   {
    "duration": 5,
    "start_time": "2024-02-15T14:18:15.459Z"
   },
   {
    "duration": 193,
    "start_time": "2024-02-15T14:18:15.465Z"
   },
   {
    "duration": 163,
    "start_time": "2024-02-15T14:18:15.659Z"
   },
   {
    "duration": 161,
    "start_time": "2024-02-15T14:18:15.824Z"
   },
   {
    "duration": 155,
    "start_time": "2024-02-15T14:18:15.987Z"
   },
   {
    "duration": 249,
    "start_time": "2024-02-15T14:18:16.143Z"
   },
   {
    "duration": 156,
    "start_time": "2024-02-15T14:18:16.393Z"
   },
   {
    "duration": 154,
    "start_time": "2024-02-15T14:18:16.551Z"
   },
   {
    "duration": 155,
    "start_time": "2024-02-15T14:18:16.707Z"
   },
   {
    "duration": 21,
    "start_time": "2024-02-15T14:18:16.864Z"
   },
   {
    "duration": 88,
    "start_time": "2024-02-15T14:18:16.886Z"
   },
   {
    "duration": 0,
    "start_time": "2024-02-15T14:18:16.976Z"
   },
   {
    "duration": 11,
    "start_time": "2024-02-15T15:08:13.500Z"
   },
   {
    "duration": 11,
    "start_time": "2024-02-15T15:08:22.261Z"
   },
   {
    "duration": 7,
    "start_time": "2024-02-15T15:08:43.041Z"
   },
   {
    "duration": 23,
    "start_time": "2024-02-15T15:10:35.964Z"
   },
   {
    "duration": 125,
    "start_time": "2024-02-15T15:17:38.408Z"
   },
   {
    "duration": 113,
    "start_time": "2024-02-15T15:20:20.862Z"
   },
   {
    "duration": 173,
    "start_time": "2024-02-15T15:24:57.456Z"
   },
   {
    "duration": 179,
    "start_time": "2024-02-15T16:06:59.666Z"
   },
   {
    "duration": 212,
    "start_time": "2024-02-15T16:08:43.646Z"
   },
   {
    "duration": 207,
    "start_time": "2024-02-15T16:08:55.683Z"
   },
   {
    "duration": 216,
    "start_time": "2024-02-15T16:16:56.257Z"
   },
   {
    "duration": 153,
    "start_time": "2024-02-15T16:20:50.728Z"
   },
   {
    "duration": 21,
    "start_time": "2024-02-15T16:28:33.196Z"
   },
   {
    "duration": 18,
    "start_time": "2024-02-15T16:28:44.348Z"
   },
   {
    "duration": 17,
    "start_time": "2024-02-15T16:29:12.473Z"
   },
   {
    "duration": 6,
    "start_time": "2024-02-15T16:32:13.922Z"
   },
   {
    "duration": 7,
    "start_time": "2024-02-15T16:32:21.911Z"
   },
   {
    "duration": 4,
    "start_time": "2024-02-15T16:33:26.371Z"
   },
   {
    "duration": 19,
    "start_time": "2024-02-15T16:33:42.318Z"
   },
   {
    "duration": 185,
    "start_time": "2024-02-15T16:36:57.999Z"
   },
   {
    "duration": 1233,
    "start_time": "2024-02-15T16:41:52.397Z"
   },
   {
    "duration": 10,
    "start_time": "2024-02-15T16:42:13.623Z"
   },
   {
    "duration": 11,
    "start_time": "2024-02-15T16:42:26.154Z"
   },
   {
    "duration": 153,
    "start_time": "2024-02-15T16:43:13.112Z"
   },
   {
    "duration": 188,
    "start_time": "2024-02-15T16:43:43.633Z"
   },
   {
    "duration": 251,
    "start_time": "2024-02-15T16:43:59.651Z"
   },
   {
    "duration": 460,
    "start_time": "2024-02-15T16:46:10.070Z"
   },
   {
    "duration": 192,
    "start_time": "2024-02-15T16:46:29.747Z"
   },
   {
    "duration": 184,
    "start_time": "2024-02-15T16:47:39.672Z"
   },
   {
    "duration": 201,
    "start_time": "2024-02-15T16:48:10.023Z"
   },
   {
    "duration": 19,
    "start_time": "2024-02-15T16:51:07.130Z"
   },
   {
    "duration": 18,
    "start_time": "2024-02-15T16:51:12.275Z"
   },
   {
    "duration": 476,
    "start_time": "2024-02-15T16:51:17.939Z"
   },
   {
    "duration": 29,
    "start_time": "2024-02-15T16:51:18.418Z"
   },
   {
    "duration": 2123,
    "start_time": "2024-02-15T16:51:18.448Z"
   },
   {
    "duration": 26,
    "start_time": "2024-02-15T16:51:20.573Z"
   },
   {
    "duration": 41,
    "start_time": "2024-02-15T16:51:20.602Z"
   },
   {
    "duration": 7,
    "start_time": "2024-02-15T16:51:20.645Z"
   },
   {
    "duration": 10,
    "start_time": "2024-02-15T16:51:20.653Z"
   },
   {
    "duration": 4,
    "start_time": "2024-02-15T16:51:20.664Z"
   },
   {
    "duration": 6,
    "start_time": "2024-02-15T16:51:20.669Z"
   },
   {
    "duration": 15,
    "start_time": "2024-02-15T16:51:20.676Z"
   },
   {
    "duration": 28,
    "start_time": "2024-02-15T16:51:20.692Z"
   },
   {
    "duration": 8,
    "start_time": "2024-02-15T16:51:20.722Z"
   },
   {
    "duration": 261,
    "start_time": "2024-02-15T16:51:20.731Z"
   },
   {
    "duration": 5,
    "start_time": "2024-02-15T16:51:20.995Z"
   },
   {
    "duration": 22,
    "start_time": "2024-02-15T16:51:21.001Z"
   },
   {
    "duration": 7,
    "start_time": "2024-02-15T16:51:21.025Z"
   },
   {
    "duration": 8,
    "start_time": "2024-02-15T16:51:21.033Z"
   },
   {
    "duration": 8,
    "start_time": "2024-02-15T16:51:21.043Z"
   },
   {
    "duration": 5,
    "start_time": "2024-02-15T16:51:21.052Z"
   },
   {
    "duration": 9,
    "start_time": "2024-02-15T16:51:21.058Z"
   },
   {
    "duration": 3,
    "start_time": "2024-02-15T16:51:21.068Z"
   },
   {
    "duration": 16,
    "start_time": "2024-02-15T16:51:21.073Z"
   },
   {
    "duration": 54,
    "start_time": "2024-02-15T16:51:21.090Z"
   },
   {
    "duration": 7,
    "start_time": "2024-02-15T16:51:21.145Z"
   },
   {
    "duration": 87,
    "start_time": "2024-02-15T16:51:21.153Z"
   },
   {
    "duration": 6,
    "start_time": "2024-02-15T16:51:21.241Z"
   },
   {
    "duration": 25,
    "start_time": "2024-02-15T16:51:21.248Z"
   },
   {
    "duration": 57,
    "start_time": "2024-02-15T16:51:21.274Z"
   },
   {
    "duration": 3,
    "start_time": "2024-02-15T16:51:21.332Z"
   },
   {
    "duration": 5,
    "start_time": "2024-02-15T16:51:21.336Z"
   },
   {
    "duration": 5,
    "start_time": "2024-02-15T16:51:21.343Z"
   },
   {
    "duration": 199,
    "start_time": "2024-02-15T16:51:21.349Z"
   },
   {
    "duration": 169,
    "start_time": "2024-02-15T16:51:21.550Z"
   },
   {
    "duration": 171,
    "start_time": "2024-02-15T16:51:21.721Z"
   },
   {
    "duration": 175,
    "start_time": "2024-02-15T16:51:21.893Z"
   },
   {
    "duration": 158,
    "start_time": "2024-02-15T16:51:22.070Z"
   },
   {
    "duration": 216,
    "start_time": "2024-02-15T16:51:22.230Z"
   },
   {
    "duration": 152,
    "start_time": "2024-02-15T16:51:22.447Z"
   },
   {
    "duration": 159,
    "start_time": "2024-02-15T16:51:22.600Z"
   },
   {
    "duration": 22,
    "start_time": "2024-02-15T16:51:22.760Z"
   },
   {
    "duration": 163,
    "start_time": "2024-02-15T16:51:22.785Z"
   },
   {
    "duration": 22,
    "start_time": "2024-02-15T16:51:22.950Z"
   },
   {
    "duration": 17,
    "start_time": "2024-02-15T16:51:22.974Z"
   },
   {
    "duration": 38,
    "start_time": "2024-02-15T16:51:22.993Z"
   },
   {
    "duration": 95,
    "start_time": "2024-02-15T16:51:23.033Z"
   },
   {
    "duration": 64,
    "start_time": "2024-02-15T16:52:34.306Z"
   },
   {
    "duration": 64,
    "start_time": "2024-02-15T16:52:40.470Z"
   },
   {
    "duration": 490,
    "start_time": "2024-02-15T16:52:47.936Z"
   },
   {
    "duration": 30,
    "start_time": "2024-02-15T16:52:48.427Z"
   },
   {
    "duration": 2169,
    "start_time": "2024-02-15T16:52:48.458Z"
   },
   {
    "duration": 24,
    "start_time": "2024-02-15T16:52:50.629Z"
   },
   {
    "duration": 39,
    "start_time": "2024-02-15T16:52:50.655Z"
   },
   {
    "duration": 28,
    "start_time": "2024-02-15T16:52:50.695Z"
   },
   {
    "duration": 6,
    "start_time": "2024-02-15T16:52:50.724Z"
   },
   {
    "duration": 7,
    "start_time": "2024-02-15T16:52:50.732Z"
   },
   {
    "duration": 5,
    "start_time": "2024-02-15T16:52:50.740Z"
   },
   {
    "duration": 10,
    "start_time": "2024-02-15T16:52:50.746Z"
   },
   {
    "duration": 20,
    "start_time": "2024-02-15T16:52:50.758Z"
   },
   {
    "duration": 4,
    "start_time": "2024-02-15T16:52:50.779Z"
   },
   {
    "duration": 249,
    "start_time": "2024-02-15T16:52:50.784Z"
   },
   {
    "duration": 5,
    "start_time": "2024-02-15T16:52:51.036Z"
   },
   {
    "duration": 11,
    "start_time": "2024-02-15T16:52:51.042Z"
   },
   {
    "duration": 9,
    "start_time": "2024-02-15T16:52:51.054Z"
   },
   {
    "duration": 8,
    "start_time": "2024-02-15T16:52:51.064Z"
   },
   {
    "duration": 10,
    "start_time": "2024-02-15T16:52:51.073Z"
   },
   {
    "duration": 11,
    "start_time": "2024-02-15T16:52:51.084Z"
   },
   {
    "duration": 25,
    "start_time": "2024-02-15T16:52:51.096Z"
   },
   {
    "duration": 3,
    "start_time": "2024-02-15T16:52:51.122Z"
   },
   {
    "duration": 15,
    "start_time": "2024-02-15T16:52:51.126Z"
   },
   {
    "duration": 29,
    "start_time": "2024-02-15T16:52:51.142Z"
   },
   {
    "duration": 5,
    "start_time": "2024-02-15T16:52:51.172Z"
   },
   {
    "duration": 104,
    "start_time": "2024-02-15T16:52:51.178Z"
   },
   {
    "duration": 6,
    "start_time": "2024-02-15T16:52:51.284Z"
   },
   {
    "duration": 47,
    "start_time": "2024-02-15T16:52:51.292Z"
   },
   {
    "duration": 57,
    "start_time": "2024-02-15T16:52:51.341Z"
   },
   {
    "duration": 3,
    "start_time": "2024-02-15T16:52:51.399Z"
   },
   {
    "duration": 4,
    "start_time": "2024-02-15T16:52:51.417Z"
   },
   {
    "duration": 7,
    "start_time": "2024-02-15T16:52:51.423Z"
   },
   {
    "duration": 218,
    "start_time": "2024-02-15T16:52:51.431Z"
   },
   {
    "duration": 178,
    "start_time": "2024-02-15T16:52:51.650Z"
   },
   {
    "duration": 170,
    "start_time": "2024-02-15T16:52:51.829Z"
   },
   {
    "duration": 159,
    "start_time": "2024-02-15T16:52:52.000Z"
   },
   {
    "duration": 146,
    "start_time": "2024-02-15T16:52:52.161Z"
   },
   {
    "duration": 221,
    "start_time": "2024-02-15T16:52:52.308Z"
   },
   {
    "duration": 158,
    "start_time": "2024-02-15T16:52:52.530Z"
   },
   {
    "duration": 165,
    "start_time": "2024-02-15T16:52:52.689Z"
   },
   {
    "duration": 22,
    "start_time": "2024-02-15T16:52:52.855Z"
   },
   {
    "duration": 169,
    "start_time": "2024-02-15T16:52:52.880Z"
   },
   {
    "duration": 20,
    "start_time": "2024-02-15T16:52:53.050Z"
   },
   {
    "duration": 71,
    "start_time": "2024-02-15T16:52:53.071Z"
   },
   {
    "duration": 9,
    "start_time": "2024-02-15T19:55:47.786Z"
   },
   {
    "duration": 52,
    "start_time": "2024-02-16T14:39:18.845Z"
   },
   {
    "duration": 6,
    "start_time": "2024-02-16T14:39:30.703Z"
   },
   {
    "duration": 2,
    "start_time": "2024-02-16T14:40:01.705Z"
   },
   {
    "duration": 8,
    "start_time": "2024-02-16T14:40:03.335Z"
   },
   {
    "duration": 804,
    "start_time": "2024-02-16T14:40:07.838Z"
   },
   {
    "duration": 35,
    "start_time": "2024-02-16T14:40:08.644Z"
   },
   {
    "duration": 2696,
    "start_time": "2024-02-16T14:40:08.680Z"
   },
   {
    "duration": 29,
    "start_time": "2024-02-16T14:40:11.377Z"
   },
   {
    "duration": 61,
    "start_time": "2024-02-16T14:40:11.408Z"
   },
   {
    "duration": 9,
    "start_time": "2024-02-16T14:40:11.471Z"
   },
   {
    "duration": 10,
    "start_time": "2024-02-16T14:40:11.481Z"
   },
   {
    "duration": 14,
    "start_time": "2024-02-16T14:40:11.493Z"
   },
   {
    "duration": 8,
    "start_time": "2024-02-16T14:40:11.508Z"
   },
   {
    "duration": 6,
    "start_time": "2024-02-16T14:40:11.518Z"
   },
   {
    "duration": 6,
    "start_time": "2024-02-16T14:40:11.525Z"
   },
   {
    "duration": 6,
    "start_time": "2024-02-16T14:40:11.533Z"
   },
   {
    "duration": 4,
    "start_time": "2024-02-16T14:40:11.558Z"
   },
   {
    "duration": 305,
    "start_time": "2024-02-16T14:40:11.565Z"
   },
   {
    "duration": 6,
    "start_time": "2024-02-16T14:40:11.872Z"
   },
   {
    "duration": 13,
    "start_time": "2024-02-16T14:40:11.880Z"
   },
   {
    "duration": 9,
    "start_time": "2024-02-16T14:40:11.894Z"
   },
   {
    "duration": 10,
    "start_time": "2024-02-16T14:40:11.905Z"
   },
   {
    "duration": 7,
    "start_time": "2024-02-16T14:40:11.916Z"
   },
   {
    "duration": 5,
    "start_time": "2024-02-16T14:40:11.925Z"
   },
   {
    "duration": 6,
    "start_time": "2024-02-16T14:40:11.959Z"
   },
   {
    "duration": 4,
    "start_time": "2024-02-16T14:40:11.967Z"
   },
   {
    "duration": 19,
    "start_time": "2024-02-16T14:40:11.973Z"
   },
   {
    "duration": 41,
    "start_time": "2024-02-16T14:40:11.994Z"
   },
   {
    "duration": 24,
    "start_time": "2024-02-16T14:40:12.036Z"
   },
   {
    "duration": 99,
    "start_time": "2024-02-16T14:40:12.061Z"
   },
   {
    "duration": 8,
    "start_time": "2024-02-16T14:40:12.162Z"
   },
   {
    "duration": 28,
    "start_time": "2024-02-16T14:40:12.172Z"
   },
   {
    "duration": 73,
    "start_time": "2024-02-16T14:40:12.202Z"
   },
   {
    "duration": 2,
    "start_time": "2024-02-16T14:40:12.277Z"
   },
   {
    "duration": 6,
    "start_time": "2024-02-16T14:40:12.281Z"
   },
   {
    "duration": 6,
    "start_time": "2024-02-16T14:40:12.289Z"
   },
   {
    "duration": 229,
    "start_time": "2024-02-16T14:40:12.297Z"
   },
   {
    "duration": 186,
    "start_time": "2024-02-16T14:40:12.528Z"
   },
   {
    "duration": 198,
    "start_time": "2024-02-16T14:40:12.716Z"
   },
   {
    "duration": 186,
    "start_time": "2024-02-16T14:40:12.916Z"
   },
   {
    "duration": 279,
    "start_time": "2024-02-16T14:40:13.104Z"
   },
   {
    "duration": 182,
    "start_time": "2024-02-16T14:40:13.385Z"
   },
   {
    "duration": 186,
    "start_time": "2024-02-16T14:40:13.569Z"
   },
   {
    "duration": 186,
    "start_time": "2024-02-16T14:40:13.756Z"
   },
   {
    "duration": 31,
    "start_time": "2024-02-16T14:40:13.947Z"
   },
   {
    "duration": 184,
    "start_time": "2024-02-16T14:40:13.980Z"
   },
   {
    "duration": 22,
    "start_time": "2024-02-16T14:40:14.166Z"
   },
   {
    "duration": 8,
    "start_time": "2024-02-16T14:41:56.384Z"
   },
   {
    "duration": 5,
    "start_time": "2024-02-16T14:43:55.506Z"
   },
   {
    "duration": 599,
    "start_time": "2024-02-16T14:44:01.653Z"
   },
   {
    "duration": 41,
    "start_time": "2024-02-16T14:44:02.256Z"
   },
   {
    "duration": 2549,
    "start_time": "2024-02-16T14:44:02.299Z"
   },
   {
    "duration": 28,
    "start_time": "2024-02-16T14:44:04.850Z"
   },
   {
    "duration": 45,
    "start_time": "2024-02-16T14:44:04.881Z"
   },
   {
    "duration": 32,
    "start_time": "2024-02-16T14:44:04.928Z"
   },
   {
    "duration": 6,
    "start_time": "2024-02-16T14:44:04.962Z"
   },
   {
    "duration": 10,
    "start_time": "2024-02-16T14:44:04.970Z"
   },
   {
    "duration": 6,
    "start_time": "2024-02-16T14:44:04.982Z"
   },
   {
    "duration": 5,
    "start_time": "2024-02-16T14:44:04.990Z"
   },
   {
    "duration": 5,
    "start_time": "2024-02-16T14:44:04.997Z"
   },
   {
    "duration": 6,
    "start_time": "2024-02-16T14:44:05.003Z"
   },
   {
    "duration": 336,
    "start_time": "2024-02-16T14:44:05.011Z"
   },
   {
    "duration": 15,
    "start_time": "2024-02-16T14:44:05.351Z"
   },
   {
    "duration": 14,
    "start_time": "2024-02-16T14:44:05.368Z"
   },
   {
    "duration": 13,
    "start_time": "2024-02-16T14:44:05.384Z"
   },
   {
    "duration": 5,
    "start_time": "2024-02-16T14:44:05.398Z"
   },
   {
    "duration": 9,
    "start_time": "2024-02-16T14:44:05.405Z"
   },
   {
    "duration": 5,
    "start_time": "2024-02-16T14:44:05.416Z"
   },
   {
    "duration": 38,
    "start_time": "2024-02-16T14:44:05.423Z"
   },
   {
    "duration": 6,
    "start_time": "2024-02-16T14:44:05.462Z"
   },
   {
    "duration": 31,
    "start_time": "2024-02-16T14:44:05.469Z"
   },
   {
    "duration": 38,
    "start_time": "2024-02-16T14:44:05.502Z"
   },
   {
    "duration": 17,
    "start_time": "2024-02-16T14:44:05.542Z"
   },
   {
    "duration": 101,
    "start_time": "2024-02-16T14:44:05.561Z"
   },
   {
    "duration": 8,
    "start_time": "2024-02-16T14:44:05.664Z"
   },
   {
    "duration": 43,
    "start_time": "2024-02-16T14:44:05.673Z"
   },
   {
    "duration": 60,
    "start_time": "2024-02-16T14:44:05.718Z"
   },
   {
    "duration": 3,
    "start_time": "2024-02-16T14:44:05.780Z"
   },
   {
    "duration": 35,
    "start_time": "2024-02-16T14:44:05.785Z"
   },
   {
    "duration": 23,
    "start_time": "2024-02-16T14:44:05.822Z"
   },
   {
    "duration": 208,
    "start_time": "2024-02-16T14:44:05.847Z"
   },
   {
    "duration": 190,
    "start_time": "2024-02-16T14:44:06.057Z"
   },
   {
    "duration": 199,
    "start_time": "2024-02-16T14:44:06.249Z"
   },
   {
    "duration": 185,
    "start_time": "2024-02-16T14:44:06.449Z"
   },
   {
    "duration": 187,
    "start_time": "2024-02-16T14:44:06.636Z"
   },
   {
    "duration": 343,
    "start_time": "2024-02-16T14:44:06.825Z"
   },
   {
    "duration": 202,
    "start_time": "2024-02-16T14:44:07.170Z"
   },
   {
    "duration": 188,
    "start_time": "2024-02-16T14:44:07.374Z"
   },
   {
    "duration": 27,
    "start_time": "2024-02-16T14:44:07.563Z"
   },
   {
    "duration": 189,
    "start_time": "2024-02-16T14:44:07.594Z"
   },
   {
    "duration": 22,
    "start_time": "2024-02-16T14:44:07.784Z"
   },
   {
    "duration": 6,
    "start_time": "2024-02-16T14:46:06.557Z"
   },
   {
    "duration": 5,
    "start_time": "2024-02-16T14:47:26.851Z"
   },
   {
    "duration": 10,
    "start_time": "2024-02-16T15:09:50.406Z"
   },
   {
    "duration": 79,
    "start_time": "2024-02-16T15:55:34.757Z"
   },
   {
    "duration": 5,
    "start_time": "2024-02-16T15:55:42.919Z"
   },
   {
    "duration": 580,
    "start_time": "2024-02-16T15:55:51.515Z"
   },
   {
    "duration": 34,
    "start_time": "2024-02-16T15:55:52.097Z"
   },
   {
    "duration": 2463,
    "start_time": "2024-02-16T15:55:52.133Z"
   },
   {
    "duration": 28,
    "start_time": "2024-02-16T15:55:54.598Z"
   },
   {
    "duration": 53,
    "start_time": "2024-02-16T15:55:54.628Z"
   },
   {
    "duration": 11,
    "start_time": "2024-02-16T15:55:54.683Z"
   },
   {
    "duration": 11,
    "start_time": "2024-02-16T15:55:54.696Z"
   },
   {
    "duration": 18,
    "start_time": "2024-02-16T15:55:54.709Z"
   },
   {
    "duration": 13,
    "start_time": "2024-02-16T15:55:54.729Z"
   },
   {
    "duration": 38,
    "start_time": "2024-02-16T15:55:54.744Z"
   },
   {
    "duration": 26,
    "start_time": "2024-02-16T15:55:54.783Z"
   },
   {
    "duration": 31,
    "start_time": "2024-02-16T15:55:54.811Z"
   },
   {
    "duration": 322,
    "start_time": "2024-02-16T15:55:54.843Z"
   },
   {
    "duration": 8,
    "start_time": "2024-02-16T15:55:55.168Z"
   },
   {
    "duration": 35,
    "start_time": "2024-02-16T15:55:55.179Z"
   },
   {
    "duration": 9,
    "start_time": "2024-02-16T15:55:55.215Z"
   },
   {
    "duration": 22,
    "start_time": "2024-02-16T15:55:55.226Z"
   },
   {
    "duration": 10,
    "start_time": "2024-02-16T15:55:55.250Z"
   },
   {
    "duration": 7,
    "start_time": "2024-02-16T15:55:55.262Z"
   },
   {
    "duration": 9,
    "start_time": "2024-02-16T15:55:55.271Z"
   },
   {
    "duration": 4,
    "start_time": "2024-02-16T15:55:55.282Z"
   },
   {
    "duration": 21,
    "start_time": "2024-02-16T15:55:55.288Z"
   },
   {
    "duration": 61,
    "start_time": "2024-02-16T15:55:55.310Z"
   },
   {
    "duration": 6,
    "start_time": "2024-02-16T15:55:55.373Z"
   },
   {
    "duration": 103,
    "start_time": "2024-02-16T15:55:55.381Z"
   },
   {
    "duration": 7,
    "start_time": "2024-02-16T15:55:55.485Z"
   },
   {
    "duration": 43,
    "start_time": "2024-02-16T15:55:55.494Z"
   },
   {
    "duration": 53,
    "start_time": "2024-02-16T15:55:55.541Z"
   },
   {
    "duration": 2,
    "start_time": "2024-02-16T15:55:55.596Z"
   },
   {
    "duration": 28,
    "start_time": "2024-02-16T15:55:55.600Z"
   },
   {
    "duration": 12,
    "start_time": "2024-02-16T15:55:55.630Z"
   },
   {
    "duration": 196,
    "start_time": "2024-02-16T15:55:55.644Z"
   },
   {
    "duration": 183,
    "start_time": "2024-02-16T15:55:55.842Z"
   },
   {
    "duration": 201,
    "start_time": "2024-02-16T15:55:56.027Z"
   },
   {
    "duration": 188,
    "start_time": "2024-02-16T15:55:56.230Z"
   },
   {
    "duration": 204,
    "start_time": "2024-02-16T15:55:56.420Z"
   },
   {
    "duration": 276,
    "start_time": "2024-02-16T15:55:56.625Z"
   },
   {
    "duration": 201,
    "start_time": "2024-02-16T15:55:56.903Z"
   },
   {
    "duration": 184,
    "start_time": "2024-02-16T15:55:57.106Z"
   },
   {
    "duration": 27,
    "start_time": "2024-02-16T15:55:57.291Z"
   },
   {
    "duration": 193,
    "start_time": "2024-02-16T15:55:57.320Z"
   },
   {
    "duration": 23,
    "start_time": "2024-02-16T15:55:57.515Z"
   },
   {
    "duration": 7,
    "start_time": "2024-02-16T15:57:21.187Z"
   },
   {
    "duration": 8,
    "start_time": "2024-02-16T16:19:38.452Z"
   },
   {
    "duration": 80,
    "start_time": "2024-02-16T16:20:11.647Z"
   },
   {
    "duration": 84,
    "start_time": "2024-02-16T16:22:34.189Z"
   },
   {
    "duration": 78,
    "start_time": "2024-02-16T16:25:18.980Z"
   },
   {
    "duration": 8,
    "start_time": "2024-02-16T16:25:30.524Z"
   },
   {
    "duration": 3,
    "start_time": "2024-02-16T16:26:20.924Z"
   },
   {
    "duration": 550,
    "start_time": "2024-02-16T16:26:31.780Z"
   },
   {
    "duration": 38,
    "start_time": "2024-02-16T16:26:32.333Z"
   },
   {
    "duration": 2430,
    "start_time": "2024-02-16T16:26:32.373Z"
   },
   {
    "duration": 27,
    "start_time": "2024-02-16T16:26:34.806Z"
   },
   {
    "duration": 49,
    "start_time": "2024-02-16T16:26:34.835Z"
   },
   {
    "duration": 9,
    "start_time": "2024-02-16T16:26:34.885Z"
   },
   {
    "duration": 19,
    "start_time": "2024-02-16T16:26:34.896Z"
   },
   {
    "duration": 8,
    "start_time": "2024-02-16T16:26:34.917Z"
   },
   {
    "duration": 5,
    "start_time": "2024-02-16T16:26:34.926Z"
   },
   {
    "duration": 28,
    "start_time": "2024-02-16T16:26:34.933Z"
   },
   {
    "duration": 4,
    "start_time": "2024-02-16T16:26:34.963Z"
   },
   {
    "duration": 10,
    "start_time": "2024-02-16T16:26:34.968Z"
   },
   {
    "duration": 315,
    "start_time": "2024-02-16T16:26:34.979Z"
   },
   {
    "duration": 5,
    "start_time": "2024-02-16T16:26:35.296Z"
   },
   {
    "duration": 20,
    "start_time": "2024-02-16T16:26:35.303Z"
   },
   {
    "duration": 9,
    "start_time": "2024-02-16T16:26:35.324Z"
   },
   {
    "duration": 24,
    "start_time": "2024-02-16T16:26:35.335Z"
   },
   {
    "duration": 6,
    "start_time": "2024-02-16T16:26:35.361Z"
   },
   {
    "duration": 6,
    "start_time": "2024-02-16T16:26:35.369Z"
   },
   {
    "duration": 6,
    "start_time": "2024-02-16T16:26:35.376Z"
   },
   {
    "duration": 99,
    "start_time": "2024-02-16T16:26:35.383Z"
   },
   {
    "duration": 0,
    "start_time": "2024-02-16T16:26:35.484Z"
   },
   {
    "duration": 0,
    "start_time": "2024-02-16T16:26:35.486Z"
   },
   {
    "duration": 0,
    "start_time": "2024-02-16T16:26:35.488Z"
   },
   {
    "duration": 0,
    "start_time": "2024-02-16T16:26:35.489Z"
   },
   {
    "duration": 0,
    "start_time": "2024-02-16T16:26:35.491Z"
   },
   {
    "duration": 0,
    "start_time": "2024-02-16T16:26:35.493Z"
   },
   {
    "duration": 0,
    "start_time": "2024-02-16T16:26:35.494Z"
   },
   {
    "duration": 0,
    "start_time": "2024-02-16T16:26:35.495Z"
   },
   {
    "duration": 0,
    "start_time": "2024-02-16T16:26:35.496Z"
   },
   {
    "duration": 0,
    "start_time": "2024-02-16T16:26:35.497Z"
   },
   {
    "duration": 0,
    "start_time": "2024-02-16T16:26:35.499Z"
   },
   {
    "duration": 0,
    "start_time": "2024-02-16T16:26:35.500Z"
   },
   {
    "duration": 0,
    "start_time": "2024-02-16T16:26:35.501Z"
   },
   {
    "duration": 0,
    "start_time": "2024-02-16T16:26:35.502Z"
   },
   {
    "duration": 0,
    "start_time": "2024-02-16T16:26:35.504Z"
   },
   {
    "duration": 0,
    "start_time": "2024-02-16T16:26:35.505Z"
   },
   {
    "duration": 0,
    "start_time": "2024-02-16T16:26:35.506Z"
   },
   {
    "duration": 0,
    "start_time": "2024-02-16T16:26:35.507Z"
   },
   {
    "duration": 1,
    "start_time": "2024-02-16T16:26:35.508Z"
   },
   {
    "duration": 0,
    "start_time": "2024-02-16T16:26:35.510Z"
   },
   {
    "duration": 0,
    "start_time": "2024-02-16T16:26:35.511Z"
   },
   {
    "duration": 72,
    "start_time": "2024-02-16T17:02:19.707Z"
   },
   {
    "duration": 71,
    "start_time": "2024-02-16T17:02:30.484Z"
   },
   {
    "duration": 81,
    "start_time": "2024-02-16T17:02:39.051Z"
   },
   {
    "duration": 3,
    "start_time": "2024-02-16T17:07:37.687Z"
   },
   {
    "duration": 574,
    "start_time": "2024-02-16T17:07:49.530Z"
   },
   {
    "duration": 34,
    "start_time": "2024-02-16T17:07:50.106Z"
   },
   {
    "duration": 2451,
    "start_time": "2024-02-16T17:07:50.141Z"
   },
   {
    "duration": 28,
    "start_time": "2024-02-16T17:07:52.593Z"
   },
   {
    "duration": 53,
    "start_time": "2024-02-16T17:07:52.624Z"
   },
   {
    "duration": 9,
    "start_time": "2024-02-16T17:07:52.679Z"
   },
   {
    "duration": 17,
    "start_time": "2024-02-16T17:07:52.690Z"
   },
   {
    "duration": 9,
    "start_time": "2024-02-16T17:07:52.709Z"
   },
   {
    "duration": 20,
    "start_time": "2024-02-16T17:07:52.720Z"
   },
   {
    "duration": 17,
    "start_time": "2024-02-16T17:07:52.742Z"
   },
   {
    "duration": 13,
    "start_time": "2024-02-16T17:07:52.761Z"
   },
   {
    "duration": 4,
    "start_time": "2024-02-16T17:07:52.776Z"
   },
   {
    "duration": 303,
    "start_time": "2024-02-16T17:07:52.781Z"
   },
   {
    "duration": 5,
    "start_time": "2024-02-16T17:07:53.088Z"
   },
   {
    "duration": 44,
    "start_time": "2024-02-16T17:07:53.095Z"
   },
   {
    "duration": 10,
    "start_time": "2024-02-16T17:07:53.141Z"
   },
   {
    "duration": 10,
    "start_time": "2024-02-16T17:07:53.152Z"
   },
   {
    "duration": 8,
    "start_time": "2024-02-16T17:07:53.164Z"
   },
   {
    "duration": 7,
    "start_time": "2024-02-16T17:07:53.173Z"
   },
   {
    "duration": 9,
    "start_time": "2024-02-16T17:07:53.181Z"
   },
   {
    "duration": 6,
    "start_time": "2024-02-16T17:07:53.192Z"
   },
   {
    "duration": 27,
    "start_time": "2024-02-16T17:07:53.200Z"
   },
   {
    "duration": 53,
    "start_time": "2024-02-16T17:07:53.229Z"
   },
   {
    "duration": 7,
    "start_time": "2024-02-16T17:07:53.284Z"
   },
   {
    "duration": 103,
    "start_time": "2024-02-16T17:07:53.292Z"
   },
   {
    "duration": 8,
    "start_time": "2024-02-16T17:07:53.396Z"
   },
   {
    "duration": 61,
    "start_time": "2024-02-16T17:07:53.406Z"
   },
   {
    "duration": 50,
    "start_time": "2024-02-16T17:07:53.468Z"
   },
   {
    "duration": 3,
    "start_time": "2024-02-16T17:07:53.519Z"
   },
   {
    "duration": 9,
    "start_time": "2024-02-16T17:07:53.524Z"
   },
   {
    "duration": 24,
    "start_time": "2024-02-16T17:07:53.535Z"
   },
   {
    "duration": 214,
    "start_time": "2024-02-16T17:07:53.561Z"
   },
   {
    "duration": 183,
    "start_time": "2024-02-16T17:07:53.776Z"
   },
   {
    "duration": 223,
    "start_time": "2024-02-16T17:07:53.962Z"
   },
   {
    "duration": 194,
    "start_time": "2024-02-16T17:07:54.187Z"
   },
   {
    "duration": 194,
    "start_time": "2024-02-16T17:07:54.384Z"
   },
   {
    "duration": 284,
    "start_time": "2024-02-16T17:07:54.580Z"
   },
   {
    "duration": 194,
    "start_time": "2024-02-16T17:07:54.866Z"
   },
   {
    "duration": 210,
    "start_time": "2024-02-16T17:07:55.062Z"
   },
   {
    "duration": 28,
    "start_time": "2024-02-16T17:07:55.275Z"
   },
   {
    "duration": 243,
    "start_time": "2024-02-16T17:07:55.308Z"
   },
   {
    "duration": 22,
    "start_time": "2024-02-16T17:07:55.559Z"
   },
   {
    "duration": 73,
    "start_time": "2024-02-16T17:10:39.659Z"
   },
   {
    "duration": 110,
    "start_time": "2024-02-16T17:12:06.617Z"
   },
   {
    "duration": 766,
    "start_time": "2024-02-16T17:14:49.601Z"
   },
   {
    "duration": 2044,
    "start_time": "2024-02-16T17:21:35.848Z"
   },
   {
    "duration": 234,
    "start_time": "2024-02-16T17:25:32.770Z"
   },
   {
    "duration": 312,
    "start_time": "2024-02-16T17:26:09.402Z"
   },
   {
    "duration": 356,
    "start_time": "2024-02-16T17:26:31.993Z"
   },
   {
    "duration": 314,
    "start_time": "2024-02-16T17:26:47.328Z"
   },
   {
    "duration": 480,
    "start_time": "2024-02-16T17:26:59.124Z"
   },
   {
    "duration": 332,
    "start_time": "2024-02-16T17:28:03.119Z"
   },
   {
    "duration": 313,
    "start_time": "2024-02-16T17:28:12.815Z"
   },
   {
    "duration": 340,
    "start_time": "2024-02-16T17:28:30.121Z"
   },
   {
    "duration": 327,
    "start_time": "2024-02-16T17:28:54.752Z"
   },
   {
    "duration": 459,
    "start_time": "2024-02-16T17:29:11.059Z"
   },
   {
    "duration": 336,
    "start_time": "2024-02-16T17:29:27.057Z"
   },
   {
    "duration": 329,
    "start_time": "2024-02-16T17:29:35.232Z"
   },
   {
    "duration": 339,
    "start_time": "2024-02-16T17:29:47.894Z"
   },
   {
    "duration": 324,
    "start_time": "2024-02-16T17:31:16.981Z"
   },
   {
    "duration": 344,
    "start_time": "2024-02-16T17:31:25.555Z"
   },
   {
    "duration": 423,
    "start_time": "2024-02-16T17:31:34.710Z"
   },
   {
    "duration": 335,
    "start_time": "2024-02-16T17:31:47.454Z"
   },
   {
    "duration": 313,
    "start_time": "2024-02-16T17:31:59.825Z"
   },
   {
    "duration": 318,
    "start_time": "2024-02-16T17:34:41.135Z"
   },
   {
    "duration": 354,
    "start_time": "2024-02-16T17:34:51.993Z"
   },
   {
    "duration": 481,
    "start_time": "2024-02-16T18:41:39.415Z"
   },
   {
    "duration": 334,
    "start_time": "2024-02-16T18:42:06.203Z"
   },
   {
    "duration": 240,
    "start_time": "2024-02-16T18:43:13.236Z"
   },
   {
    "duration": 232,
    "start_time": "2024-02-16T18:43:26.597Z"
   },
   {
    "duration": 201,
    "start_time": "2024-02-16T18:43:49.739Z"
   },
   {
    "duration": 232,
    "start_time": "2024-02-16T18:44:33.932Z"
   },
   {
    "duration": 233,
    "start_time": "2024-02-16T18:45:36.830Z"
   },
   {
    "duration": 216,
    "start_time": "2024-02-16T18:47:38.725Z"
   },
   {
    "duration": 266,
    "start_time": "2024-02-16T18:48:51.128Z"
   },
   {
    "duration": 391,
    "start_time": "2024-02-16T18:51:04.327Z"
   },
   {
    "duration": 240,
    "start_time": "2024-02-16T18:51:12.914Z"
   },
   {
    "duration": 209,
    "start_time": "2024-02-16T18:51:26.420Z"
   },
   {
    "duration": 224,
    "start_time": "2024-02-16T18:51:35.987Z"
   },
   {
    "duration": 90,
    "start_time": "2024-02-16T18:54:29.663Z"
   },
   {
    "duration": 211,
    "start_time": "2024-02-16T18:54:38.390Z"
   },
   {
    "duration": 150,
    "start_time": "2024-02-16T18:54:48.831Z"
   },
   {
    "duration": 219,
    "start_time": "2024-02-16T18:55:02.634Z"
   },
   {
    "duration": 222,
    "start_time": "2024-02-16T18:55:45.050Z"
   },
   {
    "duration": 228,
    "start_time": "2024-02-16T18:55:55.693Z"
   },
   {
    "duration": 215,
    "start_time": "2024-02-16T19:00:14.784Z"
   },
   {
    "duration": 175,
    "start_time": "2024-02-16T19:02:09.355Z"
   },
   {
    "duration": 527,
    "start_time": "2024-02-17T10:13:00.609Z"
   },
   {
    "duration": 46,
    "start_time": "2024-02-17T10:13:01.138Z"
   },
   {
    "duration": 2426,
    "start_time": "2024-02-17T10:13:01.186Z"
   },
   {
    "duration": 27,
    "start_time": "2024-02-17T10:13:03.614Z"
   },
   {
    "duration": 72,
    "start_time": "2024-02-17T10:13:03.643Z"
   },
   {
    "duration": 9,
    "start_time": "2024-02-17T10:13:03.716Z"
   },
   {
    "duration": 42,
    "start_time": "2024-02-17T10:13:03.727Z"
   },
   {
    "duration": 15,
    "start_time": "2024-02-17T10:13:03.771Z"
   },
   {
    "duration": 11,
    "start_time": "2024-02-17T10:13:03.788Z"
   },
   {
    "duration": 30,
    "start_time": "2024-02-17T10:13:03.802Z"
   },
   {
    "duration": 11,
    "start_time": "2024-02-17T10:13:03.833Z"
   },
   {
    "duration": 4,
    "start_time": "2024-02-17T10:13:03.845Z"
   },
   {
    "duration": 286,
    "start_time": "2024-02-17T10:13:03.851Z"
   },
   {
    "duration": 6,
    "start_time": "2024-02-17T10:13:04.138Z"
   },
   {
    "duration": 19,
    "start_time": "2024-02-17T10:13:04.146Z"
   },
   {
    "duration": 18,
    "start_time": "2024-02-17T10:13:04.167Z"
   },
   {
    "duration": 8,
    "start_time": "2024-02-17T10:13:04.187Z"
   },
   {
    "duration": 10,
    "start_time": "2024-02-17T10:13:04.196Z"
   },
   {
    "duration": 5,
    "start_time": "2024-02-17T10:13:04.208Z"
   },
   {
    "duration": 7,
    "start_time": "2024-02-17T10:13:04.214Z"
   },
   {
    "duration": 25,
    "start_time": "2024-02-17T10:13:04.222Z"
   },
   {
    "duration": 23,
    "start_time": "2024-02-17T10:13:04.249Z"
   },
   {
    "duration": 40,
    "start_time": "2024-02-17T10:13:04.274Z"
   },
   {
    "duration": 7,
    "start_time": "2024-02-17T10:13:04.315Z"
   },
   {
    "duration": 138,
    "start_time": "2024-02-17T10:13:04.324Z"
   },
   {
    "duration": 7,
    "start_time": "2024-02-17T10:13:04.464Z"
   },
   {
    "duration": 30,
    "start_time": "2024-02-17T10:13:04.473Z"
   },
   {
    "duration": 71,
    "start_time": "2024-02-17T10:13:04.509Z"
   },
   {
    "duration": 325,
    "start_time": "2024-02-17T10:13:04.581Z"
   },
   {
    "duration": 347,
    "start_time": "2024-02-17T10:13:04.908Z"
   },
   {
    "duration": 223,
    "start_time": "2024-02-17T10:13:05.259Z"
   },
   {
    "duration": 441,
    "start_time": "2024-02-17T10:13:05.484Z"
   },
   {
    "duration": 237,
    "start_time": "2024-02-17T10:13:05.926Z"
   },
   {
    "duration": 215,
    "start_time": "2024-02-17T10:13:06.165Z"
   },
   {
    "duration": 201,
    "start_time": "2024-02-17T10:13:06.392Z"
   },
   {
    "duration": 257,
    "start_time": "2024-02-17T10:13:06.594Z"
   },
   {
    "duration": 3,
    "start_time": "2024-02-17T10:13:06.858Z"
   },
   {
    "duration": 8,
    "start_time": "2024-02-17T10:13:06.862Z"
   },
   {
    "duration": 7,
    "start_time": "2024-02-17T10:13:06.872Z"
   },
   {
    "duration": 275,
    "start_time": "2024-02-17T10:13:06.880Z"
   },
   {
    "duration": 193,
    "start_time": "2024-02-17T10:13:07.159Z"
   },
   {
    "duration": 199,
    "start_time": "2024-02-17T10:13:07.353Z"
   },
   {
    "duration": 179,
    "start_time": "2024-02-17T10:13:07.555Z"
   },
   {
    "duration": 264,
    "start_time": "2024-02-17T10:13:07.735Z"
   },
   {
    "duration": 176,
    "start_time": "2024-02-17T10:13:08.001Z"
   },
   {
    "duration": 181,
    "start_time": "2024-02-17T10:13:08.179Z"
   },
   {
    "duration": 201,
    "start_time": "2024-02-17T10:13:08.362Z"
   },
   {
    "duration": 39,
    "start_time": "2024-02-17T10:13:08.565Z"
   },
   {
    "duration": 190,
    "start_time": "2024-02-17T10:13:08.605Z"
   },
   {
    "duration": 22,
    "start_time": "2024-02-17T10:13:08.798Z"
   },
   {
    "duration": 336,
    "start_time": "2024-02-17T10:14:02.390Z"
   },
   {
    "duration": 327,
    "start_time": "2024-02-17T10:23:27.349Z"
   },
   {
    "duration": 79,
    "start_time": "2024-02-17T10:23:33.577Z"
   },
   {
    "duration": 269,
    "start_time": "2024-02-17T11:23:53.509Z"
   },
   {
    "duration": 349,
    "start_time": "2024-02-17T11:25:05.072Z"
   },
   {
    "duration": 798,
    "start_time": "2024-02-17T11:25:14.860Z"
   },
   {
    "duration": 896,
    "start_time": "2024-02-17T11:25:26.703Z"
   },
   {
    "duration": 481,
    "start_time": "2024-02-17T11:25:36.602Z"
   },
   {
    "duration": 436,
    "start_time": "2024-02-17T11:28:15.210Z"
   },
   {
    "duration": 541,
    "start_time": "2024-02-17T11:30:14.883Z"
   },
   {
    "duration": 443,
    "start_time": "2024-02-17T11:30:30.036Z"
   },
   {
    "duration": 188,
    "start_time": "2024-02-17T11:31:21.780Z"
   },
   {
    "duration": 9,
    "start_time": "2024-02-17T11:34:08.636Z"
   },
   {
    "duration": 7,
    "start_time": "2024-02-17T11:34:22.099Z"
   },
   {
    "duration": 131,
    "start_time": "2024-02-17T11:34:32.858Z"
   },
   {
    "duration": 253,
    "start_time": "2024-02-17T11:36:58.606Z"
   },
   {
    "duration": 219,
    "start_time": "2024-02-17T12:09:35.784Z"
   },
   {
    "duration": 172,
    "start_time": "2024-02-17T12:11:28.790Z"
   },
   {
    "duration": 182,
    "start_time": "2024-02-17T12:37:27.955Z"
   },
   {
    "duration": 169,
    "start_time": "2024-02-17T12:42:14.668Z"
   },
   {
    "duration": 314,
    "start_time": "2024-02-17T12:42:45.612Z"
   },
   {
    "duration": 166,
    "start_time": "2024-02-17T12:45:28.735Z"
   },
   {
    "duration": 75,
    "start_time": "2024-02-17T12:48:39.451Z"
   },
   {
    "duration": 85,
    "start_time": "2024-02-17T12:49:11.150Z"
   },
   {
    "duration": 81,
    "start_time": "2024-02-17T12:49:18.120Z"
   },
   {
    "duration": 205,
    "start_time": "2024-02-17T12:50:27.078Z"
   },
   {
    "duration": 202,
    "start_time": "2024-02-17T12:50:41.622Z"
   },
   {
    "duration": 222,
    "start_time": "2024-02-17T12:53:14.126Z"
   },
   {
    "duration": 179,
    "start_time": "2024-02-17T12:54:35.912Z"
   },
   {
    "duration": 85,
    "start_time": "2024-02-17T12:55:59.863Z"
   },
   {
    "duration": 168,
    "start_time": "2024-02-17T12:56:33.613Z"
   },
   {
    "duration": 167,
    "start_time": "2024-02-17T12:56:55.780Z"
   },
   {
    "duration": 82,
    "start_time": "2024-02-17T12:57:29.858Z"
   },
   {
    "duration": 159,
    "start_time": "2024-02-17T12:57:40.243Z"
   },
   {
    "duration": 204,
    "start_time": "2024-02-17T13:22:56.664Z"
   },
   {
    "duration": 174,
    "start_time": "2024-02-17T13:23:38.844Z"
   },
   {
    "duration": 169,
    "start_time": "2024-02-17T13:26:27.395Z"
   },
   {
    "duration": 186,
    "start_time": "2024-02-17T13:29:26.451Z"
   },
   {
    "duration": 183,
    "start_time": "2024-02-17T13:30:35.186Z"
   },
   {
    "duration": 25,
    "start_time": "2024-02-17T13:31:50.607Z"
   },
   {
    "duration": 19,
    "start_time": "2024-02-17T13:32:06.697Z"
   },
   {
    "duration": 17,
    "start_time": "2024-02-17T13:32:17.675Z"
   },
   {
    "duration": 31,
    "start_time": "2024-02-17T13:32:43.685Z"
   },
   {
    "duration": 573,
    "start_time": "2024-02-17T13:32:56.614Z"
   },
   {
    "duration": 35,
    "start_time": "2024-02-17T13:32:57.189Z"
   },
   {
    "duration": 2550,
    "start_time": "2024-02-17T13:32:57.226Z"
   },
   {
    "duration": 29,
    "start_time": "2024-02-17T13:32:59.778Z"
   },
   {
    "duration": 69,
    "start_time": "2024-02-17T13:32:59.808Z"
   },
   {
    "duration": 9,
    "start_time": "2024-02-17T13:32:59.879Z"
   },
   {
    "duration": 13,
    "start_time": "2024-02-17T13:32:59.890Z"
   },
   {
    "duration": 10,
    "start_time": "2024-02-17T13:32:59.904Z"
   },
   {
    "duration": 5,
    "start_time": "2024-02-17T13:32:59.916Z"
   },
   {
    "duration": 5,
    "start_time": "2024-02-17T13:32:59.924Z"
   },
   {
    "duration": 5,
    "start_time": "2024-02-17T13:32:59.958Z"
   },
   {
    "duration": 11,
    "start_time": "2024-02-17T13:32:59.964Z"
   },
   {
    "duration": 314,
    "start_time": "2024-02-17T13:32:59.977Z"
   },
   {
    "duration": 6,
    "start_time": "2024-02-17T13:33:00.292Z"
   },
   {
    "duration": 71,
    "start_time": "2024-02-17T13:33:00.300Z"
   },
   {
    "duration": 38,
    "start_time": "2024-02-17T13:33:00.373Z"
   },
   {
    "duration": 20,
    "start_time": "2024-02-17T13:33:00.413Z"
   },
   {
    "duration": 40,
    "start_time": "2024-02-17T13:33:00.435Z"
   },
   {
    "duration": 39,
    "start_time": "2024-02-17T13:33:00.477Z"
   },
   {
    "duration": 7,
    "start_time": "2024-02-17T13:33:00.518Z"
   },
   {
    "duration": 21,
    "start_time": "2024-02-17T13:33:00.527Z"
   },
   {
    "duration": 60,
    "start_time": "2024-02-17T13:33:00.551Z"
   },
   {
    "duration": 85,
    "start_time": "2024-02-17T13:33:00.613Z"
   },
   {
    "duration": 40,
    "start_time": "2024-02-17T13:33:00.700Z"
   },
   {
    "duration": 150,
    "start_time": "2024-02-17T13:33:00.742Z"
   },
   {
    "duration": 8,
    "start_time": "2024-02-17T13:33:00.893Z"
   },
   {
    "duration": 89,
    "start_time": "2024-02-17T13:33:00.903Z"
   },
   {
    "duration": 87,
    "start_time": "2024-02-17T13:33:00.996Z"
   },
   {
    "duration": 352,
    "start_time": "2024-02-17T13:33:01.084Z"
   },
   {
    "duration": 352,
    "start_time": "2024-02-17T13:33:01.438Z"
   },
   {
    "duration": 228,
    "start_time": "2024-02-17T13:33:01.792Z"
   },
   {
    "duration": 513,
    "start_time": "2024-02-17T13:33:02.022Z"
   },
   {
    "duration": 93,
    "start_time": "2024-02-17T13:33:02.537Z"
   },
   {
    "duration": 0,
    "start_time": "2024-02-17T13:33:02.633Z"
   },
   {
    "duration": 0,
    "start_time": "2024-02-17T13:33:02.634Z"
   },
   {
    "duration": 0,
    "start_time": "2024-02-17T13:33:02.636Z"
   },
   {
    "duration": 0,
    "start_time": "2024-02-17T13:33:02.638Z"
   },
   {
    "duration": 0,
    "start_time": "2024-02-17T13:33:02.639Z"
   },
   {
    "duration": 0,
    "start_time": "2024-02-17T13:33:02.640Z"
   },
   {
    "duration": 0,
    "start_time": "2024-02-17T13:33:02.642Z"
   },
   {
    "duration": 0,
    "start_time": "2024-02-17T13:33:02.659Z"
   },
   {
    "duration": 0,
    "start_time": "2024-02-17T13:33:02.661Z"
   },
   {
    "duration": 0,
    "start_time": "2024-02-17T13:33:02.662Z"
   },
   {
    "duration": 0,
    "start_time": "2024-02-17T13:33:02.664Z"
   },
   {
    "duration": 0,
    "start_time": "2024-02-17T13:33:02.664Z"
   },
   {
    "duration": 0,
    "start_time": "2024-02-17T13:33:02.665Z"
   },
   {
    "duration": 0,
    "start_time": "2024-02-17T13:33:02.667Z"
   },
   {
    "duration": 0,
    "start_time": "2024-02-17T13:33:02.668Z"
   },
   {
    "duration": 0,
    "start_time": "2024-02-17T13:33:02.669Z"
   },
   {
    "duration": 0,
    "start_time": "2024-02-17T13:33:02.671Z"
   },
   {
    "duration": 0,
    "start_time": "2024-02-17T13:33:02.671Z"
   },
   {
    "duration": 0,
    "start_time": "2024-02-17T13:33:02.672Z"
   },
   {
    "duration": 24,
    "start_time": "2024-02-17T13:33:56.970Z"
   },
   {
    "duration": 21,
    "start_time": "2024-02-17T13:34:13.595Z"
   },
   {
    "duration": 21,
    "start_time": "2024-02-17T13:34:24.815Z"
   },
   {
    "duration": 20,
    "start_time": "2024-02-17T13:34:57.048Z"
   },
   {
    "duration": 15,
    "start_time": "2024-02-17T13:35:04.439Z"
   },
   {
    "duration": 16,
    "start_time": "2024-02-17T13:35:17.501Z"
   },
   {
    "duration": 27,
    "start_time": "2024-02-17T13:35:33.114Z"
   },
   {
    "duration": 180,
    "start_time": "2024-02-17T14:53:37.678Z"
   },
   {
    "duration": 187,
    "start_time": "2024-02-17T14:54:24.882Z"
   },
   {
    "duration": 171,
    "start_time": "2024-02-17T14:58:58.591Z"
   },
   {
    "duration": 207,
    "start_time": "2024-02-17T14:59:46.879Z"
   },
   {
    "duration": 229,
    "start_time": "2024-02-17T15:00:04.999Z"
   },
   {
    "duration": 184,
    "start_time": "2024-02-17T15:01:00.749Z"
   },
   {
    "duration": 175,
    "start_time": "2024-02-17T15:01:30.297Z"
   },
   {
    "duration": 175,
    "start_time": "2024-02-17T15:02:30.098Z"
   },
   {
    "duration": 167,
    "start_time": "2024-02-17T15:03:33.510Z"
   },
   {
    "duration": 167,
    "start_time": "2024-02-17T15:03:40.185Z"
   },
   {
    "duration": 276,
    "start_time": "2024-02-17T15:04:25.574Z"
   },
   {
    "duration": 185,
    "start_time": "2024-02-17T15:04:48.797Z"
   },
   {
    "duration": 169,
    "start_time": "2024-02-17T15:06:45.615Z"
   },
   {
    "duration": 679,
    "start_time": "2024-02-18T06:37:44.380Z"
   },
   {
    "duration": 27,
    "start_time": "2024-02-18T06:37:45.061Z"
   },
   {
    "duration": 2222,
    "start_time": "2024-02-18T06:37:45.089Z"
   },
   {
    "duration": 26,
    "start_time": "2024-02-18T06:37:47.313Z"
   },
   {
    "duration": 43,
    "start_time": "2024-02-18T06:37:47.340Z"
   },
   {
    "duration": 35,
    "start_time": "2024-02-18T06:37:47.385Z"
   },
   {
    "duration": 6,
    "start_time": "2024-02-18T06:37:47.422Z"
   },
   {
    "duration": 4,
    "start_time": "2024-02-18T06:37:47.430Z"
   },
   {
    "duration": 4,
    "start_time": "2024-02-18T06:37:47.436Z"
   },
   {
    "duration": 4,
    "start_time": "2024-02-18T06:37:47.443Z"
   },
   {
    "duration": 4,
    "start_time": "2024-02-18T06:37:47.448Z"
   },
   {
    "duration": 3,
    "start_time": "2024-02-18T06:37:47.454Z"
   },
   {
    "duration": 313,
    "start_time": "2024-02-18T06:37:47.459Z"
   },
   {
    "duration": 5,
    "start_time": "2024-02-18T06:37:47.774Z"
   },
   {
    "duration": 12,
    "start_time": "2024-02-18T06:37:47.781Z"
   },
   {
    "duration": 23,
    "start_time": "2024-02-18T06:37:47.795Z"
   },
   {
    "duration": 7,
    "start_time": "2024-02-18T06:37:47.821Z"
   },
   {
    "duration": 10,
    "start_time": "2024-02-18T06:37:47.829Z"
   },
   {
    "duration": 5,
    "start_time": "2024-02-18T06:37:47.841Z"
   },
   {
    "duration": 5,
    "start_time": "2024-02-18T06:37:47.847Z"
   },
   {
    "duration": 3,
    "start_time": "2024-02-18T06:37:47.853Z"
   },
   {
    "duration": 14,
    "start_time": "2024-02-18T06:37:47.857Z"
   },
   {
    "duration": 62,
    "start_time": "2024-02-18T06:37:47.872Z"
   },
   {
    "duration": 6,
    "start_time": "2024-02-18T06:37:47.936Z"
   },
   {
    "duration": 134,
    "start_time": "2024-02-18T06:37:47.944Z"
   },
   {
    "duration": 7,
    "start_time": "2024-02-18T06:37:48.080Z"
   },
   {
    "duration": 36,
    "start_time": "2024-02-18T06:37:48.088Z"
   },
   {
    "duration": 43,
    "start_time": "2024-02-18T06:37:48.128Z"
   },
   {
    "duration": 299,
    "start_time": "2024-02-18T06:37:48.172Z"
   },
   {
    "duration": 287,
    "start_time": "2024-02-18T06:37:48.473Z"
   },
   {
    "duration": 185,
    "start_time": "2024-02-18T06:37:48.761Z"
   },
   {
    "duration": 365,
    "start_time": "2024-02-18T06:37:48.947Z"
   },
   {
    "duration": 2,
    "start_time": "2024-02-18T06:37:49.317Z"
   },
   {
    "duration": 209,
    "start_time": "2024-02-18T06:37:49.320Z"
   },
   {
    "duration": 206,
    "start_time": "2024-02-18T06:37:49.531Z"
   },
   {
    "duration": 185,
    "start_time": "2024-02-18T06:37:49.739Z"
   },
   {
    "duration": 226,
    "start_time": "2024-02-18T06:37:49.926Z"
   },
   {
    "duration": 73,
    "start_time": "2024-02-18T06:37:50.153Z"
   },
   {
    "duration": 0,
    "start_time": "2024-02-18T06:37:50.227Z"
   },
   {
    "duration": 0,
    "start_time": "2024-02-18T06:37:50.228Z"
   },
   {
    "duration": 0,
    "start_time": "2024-02-18T06:37:50.229Z"
   },
   {
    "duration": 0,
    "start_time": "2024-02-18T06:37:50.230Z"
   },
   {
    "duration": 0,
    "start_time": "2024-02-18T06:37:50.231Z"
   },
   {
    "duration": 0,
    "start_time": "2024-02-18T06:37:50.233Z"
   },
   {
    "duration": 0,
    "start_time": "2024-02-18T06:37:50.234Z"
   },
   {
    "duration": 0,
    "start_time": "2024-02-18T06:37:50.235Z"
   },
   {
    "duration": 0,
    "start_time": "2024-02-18T06:37:50.236Z"
   },
   {
    "duration": 0,
    "start_time": "2024-02-18T06:37:50.237Z"
   },
   {
    "duration": 0,
    "start_time": "2024-02-18T06:37:50.238Z"
   },
   {
    "duration": 0,
    "start_time": "2024-02-18T06:37:50.239Z"
   },
   {
    "duration": 0,
    "start_time": "2024-02-18T06:37:50.240Z"
   },
   {
    "duration": 529,
    "start_time": "2024-02-18T07:05:07.785Z"
   },
   {
    "duration": 32,
    "start_time": "2024-02-18T07:05:08.316Z"
   },
   {
    "duration": 2186,
    "start_time": "2024-02-18T07:05:08.349Z"
   },
   {
    "duration": 24,
    "start_time": "2024-02-18T07:05:10.538Z"
   },
   {
    "duration": 58,
    "start_time": "2024-02-18T07:05:10.564Z"
   },
   {
    "duration": 13,
    "start_time": "2024-02-18T07:05:10.623Z"
   },
   {
    "duration": 7,
    "start_time": "2024-02-18T07:05:10.637Z"
   },
   {
    "duration": 4,
    "start_time": "2024-02-18T07:05:10.646Z"
   },
   {
    "duration": 4,
    "start_time": "2024-02-18T07:05:10.652Z"
   },
   {
    "duration": 5,
    "start_time": "2024-02-18T07:05:10.658Z"
   },
   {
    "duration": 5,
    "start_time": "2024-02-18T07:05:10.664Z"
   },
   {
    "duration": 3,
    "start_time": "2024-02-18T07:05:10.670Z"
   },
   {
    "duration": 305,
    "start_time": "2024-02-18T07:05:10.674Z"
   },
   {
    "duration": 5,
    "start_time": "2024-02-18T07:05:10.980Z"
   },
   {
    "duration": 10,
    "start_time": "2024-02-18T07:05:10.987Z"
   },
   {
    "duration": 26,
    "start_time": "2024-02-18T07:05:10.998Z"
   },
   {
    "duration": 7,
    "start_time": "2024-02-18T07:05:11.025Z"
   },
   {
    "duration": 6,
    "start_time": "2024-02-18T07:05:11.033Z"
   },
   {
    "duration": 5,
    "start_time": "2024-02-18T07:05:11.040Z"
   },
   {
    "duration": 16,
    "start_time": "2024-02-18T07:05:11.046Z"
   },
   {
    "duration": 3,
    "start_time": "2024-02-18T07:05:11.064Z"
   },
   {
    "duration": 16,
    "start_time": "2024-02-18T07:05:11.068Z"
   },
   {
    "duration": 55,
    "start_time": "2024-02-18T07:05:11.085Z"
   },
   {
    "duration": 6,
    "start_time": "2024-02-18T07:05:11.141Z"
   },
   {
    "duration": 112,
    "start_time": "2024-02-18T07:05:11.148Z"
   },
   {
    "duration": 6,
    "start_time": "2024-02-18T07:05:11.262Z"
   },
   {
    "duration": 28,
    "start_time": "2024-02-18T07:05:11.269Z"
   },
   {
    "duration": 56,
    "start_time": "2024-02-18T07:05:11.301Z"
   },
   {
    "duration": 283,
    "start_time": "2024-02-18T07:05:11.359Z"
   },
   {
    "duration": 312,
    "start_time": "2024-02-18T07:05:11.643Z"
   },
   {
    "duration": 206,
    "start_time": "2024-02-18T07:05:11.957Z"
   },
   {
    "duration": 387,
    "start_time": "2024-02-18T07:05:12.164Z"
   },
   {
    "duration": 3,
    "start_time": "2024-02-18T07:05:12.552Z"
   },
   {
    "duration": 203,
    "start_time": "2024-02-18T07:05:12.556Z"
   },
   {
    "duration": 183,
    "start_time": "2024-02-18T07:05:12.761Z"
   },
   {
    "duration": 187,
    "start_time": "2024-02-18T07:05:12.945Z"
   },
   {
    "duration": 235,
    "start_time": "2024-02-18T07:05:13.133Z"
   },
   {
    "duration": 2,
    "start_time": "2024-02-18T07:05:13.370Z"
   },
   {
    "duration": 8,
    "start_time": "2024-02-18T07:05:13.374Z"
   },
   {
    "duration": 4,
    "start_time": "2024-02-18T07:05:13.384Z"
   },
   {
    "duration": 404,
    "start_time": "2024-02-18T07:05:13.389Z"
   },
   {
    "duration": 229,
    "start_time": "2024-02-18T07:05:13.795Z"
   },
   {
    "duration": 224,
    "start_time": "2024-02-18T07:05:14.025Z"
   },
   {
    "duration": 197,
    "start_time": "2024-02-18T07:05:14.250Z"
   },
   {
    "duration": 155,
    "start_time": "2024-02-18T07:05:14.448Z"
   },
   {
    "duration": 162,
    "start_time": "2024-02-18T07:05:14.604Z"
   },
   {
    "duration": 154,
    "start_time": "2024-02-18T07:05:14.767Z"
   },
   {
    "duration": 152,
    "start_time": "2024-02-18T07:05:14.923Z"
   },
   {
    "duration": 159,
    "start_time": "2024-02-18T07:05:15.076Z"
   },
   {
    "duration": 23,
    "start_time": "2024-02-18T07:05:15.236Z"
   },
   {
    "duration": 163,
    "start_time": "2024-02-18T07:05:15.261Z"
   },
   {
    "duration": 50,
    "start_time": "2024-02-18T12:14:39.844Z"
   },
   {
    "duration": 8,
    "start_time": "2024-02-18T12:17:27.014Z"
   },
   {
    "duration": 8,
    "start_time": "2024-02-18T12:18:58.118Z"
   },
   {
    "duration": 567,
    "start_time": "2024-02-18T12:19:05.618Z"
   },
   {
    "duration": 32,
    "start_time": "2024-02-18T12:19:06.187Z"
   },
   {
    "duration": 2460,
    "start_time": "2024-02-18T12:19:06.221Z"
   },
   {
    "duration": 26,
    "start_time": "2024-02-18T12:19:08.684Z"
   },
   {
    "duration": 64,
    "start_time": "2024-02-18T12:19:08.712Z"
   },
   {
    "duration": 9,
    "start_time": "2024-02-18T12:19:08.777Z"
   },
   {
    "duration": 16,
    "start_time": "2024-02-18T12:19:08.787Z"
   },
   {
    "duration": 4,
    "start_time": "2024-02-18T12:19:08.805Z"
   },
   {
    "duration": 7,
    "start_time": "2024-02-18T12:19:08.811Z"
   },
   {
    "duration": 5,
    "start_time": "2024-02-18T12:19:08.821Z"
   },
   {
    "duration": 16,
    "start_time": "2024-02-18T12:19:08.827Z"
   },
   {
    "duration": 18,
    "start_time": "2024-02-18T12:19:08.844Z"
   },
   {
    "duration": 294,
    "start_time": "2024-02-18T12:19:08.863Z"
   },
   {
    "duration": 5,
    "start_time": "2024-02-18T12:19:09.159Z"
   },
   {
    "duration": 15,
    "start_time": "2024-02-18T12:19:09.172Z"
   },
   {
    "duration": 14,
    "start_time": "2024-02-18T12:19:09.188Z"
   },
   {
    "duration": 86,
    "start_time": "2024-02-18T12:19:09.204Z"
   },
   {
    "duration": 0,
    "start_time": "2024-02-18T12:19:09.292Z"
   },
   {
    "duration": 0,
    "start_time": "2024-02-18T12:19:09.293Z"
   },
   {
    "duration": 0,
    "start_time": "2024-02-18T12:19:09.294Z"
   },
   {
    "duration": 0,
    "start_time": "2024-02-18T12:19:09.295Z"
   },
   {
    "duration": 0,
    "start_time": "2024-02-18T12:19:09.296Z"
   },
   {
    "duration": 0,
    "start_time": "2024-02-18T12:19:09.297Z"
   },
   {
    "duration": 0,
    "start_time": "2024-02-18T12:19:09.298Z"
   },
   {
    "duration": 0,
    "start_time": "2024-02-18T12:19:09.299Z"
   },
   {
    "duration": 0,
    "start_time": "2024-02-18T12:19:09.300Z"
   },
   {
    "duration": 0,
    "start_time": "2024-02-18T12:19:09.301Z"
   },
   {
    "duration": 0,
    "start_time": "2024-02-18T12:19:09.302Z"
   },
   {
    "duration": 0,
    "start_time": "2024-02-18T12:19:09.303Z"
   },
   {
    "duration": 0,
    "start_time": "2024-02-18T12:19:09.305Z"
   },
   {
    "duration": 0,
    "start_time": "2024-02-18T12:19:09.306Z"
   },
   {
    "duration": 0,
    "start_time": "2024-02-18T12:19:09.306Z"
   },
   {
    "duration": 0,
    "start_time": "2024-02-18T12:19:09.308Z"
   },
   {
    "duration": 0,
    "start_time": "2024-02-18T12:19:09.309Z"
   },
   {
    "duration": 1,
    "start_time": "2024-02-18T12:19:09.309Z"
   },
   {
    "duration": 0,
    "start_time": "2024-02-18T12:19:09.311Z"
   },
   {
    "duration": 0,
    "start_time": "2024-02-18T12:19:09.312Z"
   },
   {
    "duration": 1,
    "start_time": "2024-02-18T12:19:09.312Z"
   },
   {
    "duration": 0,
    "start_time": "2024-02-18T12:19:09.314Z"
   },
   {
    "duration": 0,
    "start_time": "2024-02-18T12:19:09.315Z"
   },
   {
    "duration": 0,
    "start_time": "2024-02-18T12:19:09.316Z"
   },
   {
    "duration": 0,
    "start_time": "2024-02-18T12:19:09.317Z"
   },
   {
    "duration": 0,
    "start_time": "2024-02-18T12:19:09.318Z"
   },
   {
    "duration": 0,
    "start_time": "2024-02-18T12:19:09.319Z"
   },
   {
    "duration": 0,
    "start_time": "2024-02-18T12:19:09.320Z"
   },
   {
    "duration": 0,
    "start_time": "2024-02-18T12:19:09.373Z"
   },
   {
    "duration": 0,
    "start_time": "2024-02-18T12:19:09.374Z"
   },
   {
    "duration": 0,
    "start_time": "2024-02-18T12:19:09.376Z"
   },
   {
    "duration": 0,
    "start_time": "2024-02-18T12:19:09.377Z"
   },
   {
    "duration": 0,
    "start_time": "2024-02-18T12:19:09.378Z"
   },
   {
    "duration": 0,
    "start_time": "2024-02-18T12:19:09.379Z"
   },
   {
    "duration": 8,
    "start_time": "2024-02-18T12:21:14.050Z"
   },
   {
    "duration": 520,
    "start_time": "2024-02-18T12:21:35.184Z"
   },
   {
    "duration": 32,
    "start_time": "2024-02-18T12:21:35.706Z"
   },
   {
    "duration": 2441,
    "start_time": "2024-02-18T12:21:35.740Z"
   },
   {
    "duration": 28,
    "start_time": "2024-02-18T12:21:38.183Z"
   },
   {
    "duration": 73,
    "start_time": "2024-02-18T12:21:38.213Z"
   },
   {
    "duration": 9,
    "start_time": "2024-02-18T12:21:38.288Z"
   },
   {
    "duration": 25,
    "start_time": "2024-02-18T12:21:38.298Z"
   },
   {
    "duration": 12,
    "start_time": "2024-02-18T12:21:38.325Z"
   },
   {
    "duration": 5,
    "start_time": "2024-02-18T12:21:38.339Z"
   },
   {
    "duration": 8,
    "start_time": "2024-02-18T12:21:38.345Z"
   },
   {
    "duration": 6,
    "start_time": "2024-02-18T12:21:38.355Z"
   },
   {
    "duration": 3,
    "start_time": "2024-02-18T12:21:38.372Z"
   },
   {
    "duration": 284,
    "start_time": "2024-02-18T12:21:38.377Z"
   },
   {
    "duration": 8,
    "start_time": "2024-02-18T12:21:38.665Z"
   },
   {
    "duration": 11,
    "start_time": "2024-02-18T12:21:38.675Z"
   },
   {
    "duration": 23,
    "start_time": "2024-02-18T12:21:38.688Z"
   },
   {
    "duration": 9,
    "start_time": "2024-02-18T12:21:38.713Z"
   },
   {
    "duration": 13,
    "start_time": "2024-02-18T12:21:38.724Z"
   },
   {
    "duration": 5,
    "start_time": "2024-02-18T12:21:38.738Z"
   },
   {
    "duration": 5,
    "start_time": "2024-02-18T12:21:38.745Z"
   },
   {
    "duration": 4,
    "start_time": "2024-02-18T12:21:38.751Z"
   },
   {
    "duration": 28,
    "start_time": "2024-02-18T12:21:38.756Z"
   },
   {
    "duration": 35,
    "start_time": "2024-02-18T12:21:38.786Z"
   },
   {
    "duration": 6,
    "start_time": "2024-02-18T12:21:38.823Z"
   },
   {
    "duration": 122,
    "start_time": "2024-02-18T12:21:38.831Z"
   },
   {
    "duration": 7,
    "start_time": "2024-02-18T12:21:38.955Z"
   },
   {
    "duration": 28,
    "start_time": "2024-02-18T12:21:38.972Z"
   },
   {
    "duration": 47,
    "start_time": "2024-02-18T12:21:39.002Z"
   },
   {
    "duration": 300,
    "start_time": "2024-02-18T12:21:39.050Z"
   },
   {
    "duration": 306,
    "start_time": "2024-02-18T12:21:39.352Z"
   },
   {
    "duration": 197,
    "start_time": "2024-02-18T12:21:39.660Z"
   },
   {
    "duration": 418,
    "start_time": "2024-02-18T12:21:39.858Z"
   },
   {
    "duration": 3,
    "start_time": "2024-02-18T12:21:40.277Z"
   },
   {
    "duration": 231,
    "start_time": "2024-02-18T12:21:40.281Z"
   },
   {
    "duration": 205,
    "start_time": "2024-02-18T12:21:40.514Z"
   },
   {
    "duration": 189,
    "start_time": "2024-02-18T12:21:40.720Z"
   },
   {
    "duration": 258,
    "start_time": "2024-02-18T12:21:40.911Z"
   },
   {
    "duration": 2,
    "start_time": "2024-02-18T12:21:41.171Z"
   },
   {
    "duration": 15,
    "start_time": "2024-02-18T12:21:41.175Z"
   },
   {
    "duration": 30,
    "start_time": "2024-02-18T12:21:41.191Z"
   },
   {
    "duration": 410,
    "start_time": "2024-02-18T12:21:41.224Z"
   },
   {
    "duration": 253,
    "start_time": "2024-02-18T12:21:41.636Z"
   },
   {
    "duration": 227,
    "start_time": "2024-02-18T12:21:41.890Z"
   },
   {
    "duration": 187,
    "start_time": "2024-02-18T12:21:42.119Z"
   },
   {
    "duration": 161,
    "start_time": "2024-02-18T12:21:42.308Z"
   },
   {
    "duration": 164,
    "start_time": "2024-02-18T12:21:42.473Z"
   },
   {
    "duration": 159,
    "start_time": "2024-02-18T12:21:42.638Z"
   },
   {
    "duration": 168,
    "start_time": "2024-02-18T12:21:42.798Z"
   },
   {
    "duration": 176,
    "start_time": "2024-02-18T12:21:42.968Z"
   },
   {
    "duration": 27,
    "start_time": "2024-02-18T12:21:43.146Z"
   },
   {
    "duration": 155,
    "start_time": "2024-02-18T12:21:43.175Z"
   },
   {
    "duration": 89,
    "start_time": "2024-02-18T12:32:03.404Z"
   },
   {
    "duration": 15,
    "start_time": "2024-02-18T12:36:11.624Z"
   },
   {
    "duration": 9,
    "start_time": "2024-02-18T12:40:45.319Z"
   },
   {
    "duration": 11,
    "start_time": "2024-02-18T12:46:37.207Z"
   },
   {
    "duration": 8,
    "start_time": "2024-02-18T12:48:56.807Z"
   },
   {
    "duration": 8,
    "start_time": "2024-02-18T12:50:39.721Z"
   },
   {
    "duration": 9,
    "start_time": "2024-02-18T12:50:45.871Z"
   },
   {
    "duration": 15,
    "start_time": "2024-02-18T12:52:01.742Z"
   },
   {
    "duration": 16,
    "start_time": "2024-02-18T12:54:44.070Z"
   },
   {
    "duration": 1804,
    "start_time": "2024-02-18T12:59:12.616Z"
   },
   {
    "duration": 47,
    "start_time": "2024-02-18T17:41:59.489Z"
   },
   {
    "duration": 6,
    "start_time": "2024-02-18T17:42:32.713Z"
   },
   {
    "duration": 6,
    "start_time": "2024-02-18T17:42:42.465Z"
   },
   {
    "duration": 663,
    "start_time": "2024-02-18T17:42:47.918Z"
   },
   {
    "duration": 32,
    "start_time": "2024-02-18T17:42:48.583Z"
   },
   {
    "duration": 2386,
    "start_time": "2024-02-18T17:42:48.616Z"
   },
   {
    "duration": 24,
    "start_time": "2024-02-18T17:42:51.004Z"
   },
   {
    "duration": 37,
    "start_time": "2024-02-18T17:42:51.030Z"
   },
   {
    "duration": 8,
    "start_time": "2024-02-18T17:42:51.068Z"
   },
   {
    "duration": 10,
    "start_time": "2024-02-18T17:42:51.077Z"
   },
   {
    "duration": 4,
    "start_time": "2024-02-18T17:42:51.089Z"
   },
   {
    "duration": 8,
    "start_time": "2024-02-18T17:42:51.094Z"
   },
   {
    "duration": 6,
    "start_time": "2024-02-18T17:42:51.103Z"
   },
   {
    "duration": 7,
    "start_time": "2024-02-18T17:42:51.110Z"
   },
   {
    "duration": 18,
    "start_time": "2024-02-18T17:42:51.118Z"
   },
   {
    "duration": 277,
    "start_time": "2024-02-18T17:42:51.138Z"
   },
   {
    "duration": 6,
    "start_time": "2024-02-18T17:42:51.417Z"
   },
   {
    "duration": 12,
    "start_time": "2024-02-18T17:42:51.424Z"
   },
   {
    "duration": 8,
    "start_time": "2024-02-18T17:42:51.438Z"
   },
   {
    "duration": 8,
    "start_time": "2024-02-18T17:42:51.465Z"
   },
   {
    "duration": 72,
    "start_time": "2024-02-18T17:42:51.475Z"
   },
   {
    "duration": 0,
    "start_time": "2024-02-18T17:42:51.550Z"
   },
   {
    "duration": 0,
    "start_time": "2024-02-18T17:42:51.564Z"
   },
   {
    "duration": 0,
    "start_time": "2024-02-18T17:42:51.566Z"
   },
   {
    "duration": 0,
    "start_time": "2024-02-18T17:42:51.568Z"
   },
   {
    "duration": 0,
    "start_time": "2024-02-18T17:42:51.569Z"
   },
   {
    "duration": 0,
    "start_time": "2024-02-18T17:42:51.571Z"
   },
   {
    "duration": 0,
    "start_time": "2024-02-18T17:42:51.572Z"
   },
   {
    "duration": 0,
    "start_time": "2024-02-18T17:42:51.573Z"
   },
   {
    "duration": 0,
    "start_time": "2024-02-18T17:42:51.575Z"
   },
   {
    "duration": 0,
    "start_time": "2024-02-18T17:42:51.576Z"
   },
   {
    "duration": 0,
    "start_time": "2024-02-18T17:42:51.578Z"
   },
   {
    "duration": 0,
    "start_time": "2024-02-18T17:42:51.579Z"
   },
   {
    "duration": 0,
    "start_time": "2024-02-18T17:42:51.581Z"
   },
   {
    "duration": 0,
    "start_time": "2024-02-18T17:42:51.582Z"
   },
   {
    "duration": 0,
    "start_time": "2024-02-18T17:42:51.583Z"
   },
   {
    "duration": 0,
    "start_time": "2024-02-18T17:42:51.584Z"
   },
   {
    "duration": 0,
    "start_time": "2024-02-18T17:42:51.586Z"
   },
   {
    "duration": 0,
    "start_time": "2024-02-18T17:42:51.588Z"
   },
   {
    "duration": 0,
    "start_time": "2024-02-18T17:42:51.589Z"
   },
   {
    "duration": 0,
    "start_time": "2024-02-18T17:42:51.591Z"
   },
   {
    "duration": 0,
    "start_time": "2024-02-18T17:42:51.592Z"
   },
   {
    "duration": 0,
    "start_time": "2024-02-18T17:42:51.593Z"
   },
   {
    "duration": 0,
    "start_time": "2024-02-18T17:42:51.594Z"
   },
   {
    "duration": 0,
    "start_time": "2024-02-18T17:42:51.596Z"
   },
   {
    "duration": 1,
    "start_time": "2024-02-18T17:42:51.597Z"
   },
   {
    "duration": 0,
    "start_time": "2024-02-18T17:42:51.599Z"
   },
   {
    "duration": 0,
    "start_time": "2024-02-18T17:42:51.600Z"
   },
   {
    "duration": 0,
    "start_time": "2024-02-18T17:42:51.602Z"
   },
   {
    "duration": 0,
    "start_time": "2024-02-18T17:42:51.603Z"
   },
   {
    "duration": 0,
    "start_time": "2024-02-18T17:42:51.605Z"
   },
   {
    "duration": 0,
    "start_time": "2024-02-18T17:42:51.606Z"
   },
   {
    "duration": 0,
    "start_time": "2024-02-18T17:42:51.608Z"
   },
   {
    "duration": 0,
    "start_time": "2024-02-18T17:42:51.665Z"
   },
   {
    "duration": 0,
    "start_time": "2024-02-18T17:42:51.667Z"
   },
   {
    "duration": 0,
    "start_time": "2024-02-18T17:42:51.668Z"
   },
   {
    "duration": 15,
    "start_time": "2024-02-18T18:16:19.145Z"
   },
   {
    "duration": 12,
    "start_time": "2024-02-18T18:18:07.936Z"
   },
   {
    "duration": 5,
    "start_time": "2024-02-18T18:39:28.147Z"
   },
   {
    "duration": 12,
    "start_time": "2024-02-18T18:40:12.038Z"
   },
   {
    "duration": 11,
    "start_time": "2024-02-18T18:40:54.533Z"
   },
   {
    "duration": 13,
    "start_time": "2024-02-18T18:43:27.054Z"
   },
   {
    "duration": 20,
    "start_time": "2024-02-18T18:43:39.541Z"
   },
   {
    "duration": 15,
    "start_time": "2024-02-18T18:43:52.735Z"
   },
   {
    "duration": 15,
    "start_time": "2024-02-18T18:44:30.600Z"
   },
   {
    "duration": 19,
    "start_time": "2024-02-18T18:46:40.464Z"
   },
   {
    "duration": 15,
    "start_time": "2024-02-18T18:47:15.432Z"
   },
   {
    "duration": 367,
    "start_time": "2024-02-18T18:47:43.287Z"
   },
   {
    "duration": 8,
    "start_time": "2024-02-18T18:48:17.384Z"
   },
   {
    "duration": 7,
    "start_time": "2024-02-18T18:49:12.141Z"
   },
   {
    "duration": 241,
    "start_time": "2024-02-18T20:47:22.204Z"
   },
   {
    "duration": 234,
    "start_time": "2024-02-18T20:49:26.886Z"
   },
   {
    "duration": 135,
    "start_time": "2024-02-18T20:52:02.801Z"
   },
   {
    "duration": 247,
    "start_time": "2024-02-18T20:54:29.627Z"
   },
   {
    "duration": 84,
    "start_time": "2024-02-18T20:55:28.851Z"
   },
   {
    "duration": 170,
    "start_time": "2024-02-18T20:56:11.267Z"
   },
   {
    "duration": 84,
    "start_time": "2024-02-18T20:56:43.400Z"
   },
   {
    "duration": 9,
    "start_time": "2024-02-18T20:57:39.683Z"
   },
   {
    "duration": 15,
    "start_time": "2024-02-18T20:58:15.765Z"
   },
   {
    "duration": 13,
    "start_time": "2024-02-18T20:58:33.497Z"
   },
   {
    "duration": 126,
    "start_time": "2024-02-18T20:59:00.366Z"
   },
   {
    "duration": 123,
    "start_time": "2024-02-18T21:20:56.765Z"
   },
   {
    "duration": 111,
    "start_time": "2024-02-18T21:22:45.427Z"
   },
   {
    "duration": 475,
    "start_time": "2024-02-18T21:23:57.616Z"
   },
   {
    "duration": 36,
    "start_time": "2024-02-18T21:23:58.093Z"
   },
   {
    "duration": 2134,
    "start_time": "2024-02-18T21:23:58.130Z"
   },
   {
    "duration": 25,
    "start_time": "2024-02-18T21:24:00.266Z"
   },
   {
    "duration": 38,
    "start_time": "2024-02-18T21:24:00.293Z"
   },
   {
    "duration": 39,
    "start_time": "2024-02-18T21:24:00.332Z"
   },
   {
    "duration": 46,
    "start_time": "2024-02-18T21:24:00.373Z"
   },
   {
    "duration": 24,
    "start_time": "2024-02-18T21:24:00.421Z"
   },
   {
    "duration": 32,
    "start_time": "2024-02-18T21:24:00.446Z"
   },
   {
    "duration": 23,
    "start_time": "2024-02-18T21:24:00.481Z"
   },
   {
    "duration": 35,
    "start_time": "2024-02-18T21:24:00.505Z"
   },
   {
    "duration": 30,
    "start_time": "2024-02-18T21:24:00.541Z"
   },
   {
    "duration": 276,
    "start_time": "2024-02-18T21:24:00.573Z"
   },
   {
    "duration": 5,
    "start_time": "2024-02-18T21:24:00.851Z"
   },
   {
    "duration": 67,
    "start_time": "2024-02-18T21:24:00.864Z"
   },
   {
    "duration": 45,
    "start_time": "2024-02-18T21:24:00.933Z"
   },
   {
    "duration": 34,
    "start_time": "2024-02-18T21:24:00.980Z"
   },
   {
    "duration": 60,
    "start_time": "2024-02-18T21:24:01.016Z"
   },
   {
    "duration": 39,
    "start_time": "2024-02-18T21:24:01.077Z"
   },
   {
    "duration": 28,
    "start_time": "2024-02-18T21:24:01.118Z"
   },
   {
    "duration": 27,
    "start_time": "2024-02-18T21:24:01.148Z"
   },
   {
    "duration": 24,
    "start_time": "2024-02-18T21:24:01.177Z"
   },
   {
    "duration": 34,
    "start_time": "2024-02-18T21:24:01.202Z"
   },
   {
    "duration": 1283,
    "start_time": "2024-02-18T21:24:01.238Z"
   },
   {
    "duration": 0,
    "start_time": "2024-02-18T21:24:02.524Z"
   },
   {
    "duration": 0,
    "start_time": "2024-02-18T21:24:02.525Z"
   },
   {
    "duration": 0,
    "start_time": "2024-02-18T21:24:02.526Z"
   },
   {
    "duration": 0,
    "start_time": "2024-02-18T21:24:02.527Z"
   },
   {
    "duration": 0,
    "start_time": "2024-02-18T21:24:02.528Z"
   },
   {
    "duration": 0,
    "start_time": "2024-02-18T21:24:02.529Z"
   },
   {
    "duration": 0,
    "start_time": "2024-02-18T21:24:02.529Z"
   },
   {
    "duration": 0,
    "start_time": "2024-02-18T21:24:02.530Z"
   },
   {
    "duration": 0,
    "start_time": "2024-02-18T21:24:02.531Z"
   },
   {
    "duration": 0,
    "start_time": "2024-02-18T21:24:02.532Z"
   },
   {
    "duration": 0,
    "start_time": "2024-02-18T21:24:02.533Z"
   },
   {
    "duration": 0,
    "start_time": "2024-02-18T21:24:02.534Z"
   },
   {
    "duration": 0,
    "start_time": "2024-02-18T21:24:02.534Z"
   },
   {
    "duration": 0,
    "start_time": "2024-02-18T21:24:02.535Z"
   },
   {
    "duration": 0,
    "start_time": "2024-02-18T21:24:02.536Z"
   },
   {
    "duration": 0,
    "start_time": "2024-02-18T21:24:02.537Z"
   },
   {
    "duration": 0,
    "start_time": "2024-02-18T21:24:02.538Z"
   },
   {
    "duration": 0,
    "start_time": "2024-02-18T21:24:02.539Z"
   },
   {
    "duration": 0,
    "start_time": "2024-02-18T21:24:02.540Z"
   },
   {
    "duration": 0,
    "start_time": "2024-02-18T21:24:02.541Z"
   },
   {
    "duration": 0,
    "start_time": "2024-02-18T21:24:02.542Z"
   },
   {
    "duration": 0,
    "start_time": "2024-02-18T21:24:02.543Z"
   },
   {
    "duration": 0,
    "start_time": "2024-02-18T21:24:02.544Z"
   },
   {
    "duration": 0,
    "start_time": "2024-02-18T21:24:02.544Z"
   },
   {
    "duration": 0,
    "start_time": "2024-02-18T21:24:02.545Z"
   },
   {
    "duration": 0,
    "start_time": "2024-02-18T21:24:02.546Z"
   },
   {
    "duration": 0,
    "start_time": "2024-02-18T21:24:02.547Z"
   },
   {
    "duration": 0,
    "start_time": "2024-02-18T21:24:02.548Z"
   },
   {
    "duration": 0,
    "start_time": "2024-02-18T21:24:02.549Z"
   },
   {
    "duration": 0,
    "start_time": "2024-02-18T21:24:02.550Z"
   },
   {
    "duration": 0,
    "start_time": "2024-02-18T21:24:02.550Z"
   },
   {
    "duration": 0,
    "start_time": "2024-02-18T21:24:02.551Z"
   },
   {
    "duration": 120,
    "start_time": "2024-02-18T21:24:30.129Z"
   },
   {
    "duration": 11,
    "start_time": "2024-02-18T21:24:40.656Z"
   },
   {
    "duration": 10,
    "start_time": "2024-02-18T21:25:30.392Z"
   },
   {
    "duration": 9,
    "start_time": "2024-02-18T21:26:41.665Z"
   },
   {
    "duration": 6,
    "start_time": "2024-02-18T21:26:54.994Z"
   },
   {
    "duration": 8,
    "start_time": "2024-02-18T21:27:09.390Z"
   },
   {
    "duration": 1283,
    "start_time": "2024-02-18T21:27:27.643Z"
   },
   {
    "duration": 1183,
    "start_time": "2024-02-18T21:28:33.578Z"
   },
   {
    "duration": 14,
    "start_time": "2024-02-18T21:29:04.965Z"
   },
   {
    "duration": 15,
    "start_time": "2024-02-18T21:31:20.091Z"
   },
   {
    "duration": 13,
    "start_time": "2024-02-18T22:39:35.116Z"
   },
   {
    "duration": 11,
    "start_time": "2024-02-18T22:40:17.401Z"
   },
   {
    "duration": 254,
    "start_time": "2024-02-19T09:05:03.533Z"
   },
   {
    "duration": 220,
    "start_time": "2024-02-19T09:07:51.008Z"
   },
   {
    "duration": 350,
    "start_time": "2024-02-19T09:08:53.116Z"
   },
   {
    "duration": 486,
    "start_time": "2024-02-19T09:11:13.780Z"
   },
   {
    "duration": 29,
    "start_time": "2024-02-19T09:11:14.268Z"
   },
   {
    "duration": 2162,
    "start_time": "2024-02-19T09:11:14.298Z"
   },
   {
    "duration": 23,
    "start_time": "2024-02-19T09:11:16.462Z"
   },
   {
    "duration": 36,
    "start_time": "2024-02-19T09:11:16.486Z"
   },
   {
    "duration": 8,
    "start_time": "2024-02-19T09:11:16.523Z"
   },
   {
    "duration": 36,
    "start_time": "2024-02-19T09:11:16.532Z"
   },
   {
    "duration": 4,
    "start_time": "2024-02-19T09:11:16.569Z"
   },
   {
    "duration": 10,
    "start_time": "2024-02-19T09:11:16.575Z"
   },
   {
    "duration": 8,
    "start_time": "2024-02-19T09:11:16.587Z"
   },
   {
    "duration": 18,
    "start_time": "2024-02-19T09:11:16.596Z"
   },
   {
    "duration": 8,
    "start_time": "2024-02-19T09:11:16.615Z"
   },
   {
    "duration": 252,
    "start_time": "2024-02-19T09:11:16.624Z"
   },
   {
    "duration": 6,
    "start_time": "2024-02-19T09:11:16.878Z"
   },
   {
    "duration": 15,
    "start_time": "2024-02-19T09:11:16.886Z"
   },
   {
    "duration": 9,
    "start_time": "2024-02-19T09:11:16.903Z"
   },
   {
    "duration": 7,
    "start_time": "2024-02-19T09:11:16.913Z"
   },
   {
    "duration": 5,
    "start_time": "2024-02-19T09:11:16.922Z"
   },
   {
    "duration": 43,
    "start_time": "2024-02-19T09:11:16.929Z"
   },
   {
    "duration": 6,
    "start_time": "2024-02-19T09:11:16.974Z"
   },
   {
    "duration": 8,
    "start_time": "2024-02-19T09:11:16.981Z"
   },
   {
    "duration": 6,
    "start_time": "2024-02-19T09:11:16.991Z"
   },
   {
    "duration": 3,
    "start_time": "2024-02-19T09:11:16.999Z"
   },
   {
    "duration": 1347,
    "start_time": "2024-02-19T09:11:17.004Z"
   },
   {
    "duration": 0,
    "start_time": "2024-02-19T09:11:18.354Z"
   },
   {
    "duration": 0,
    "start_time": "2024-02-19T09:11:18.355Z"
   },
   {
    "duration": 0,
    "start_time": "2024-02-19T09:11:18.356Z"
   },
   {
    "duration": 0,
    "start_time": "2024-02-19T09:11:18.357Z"
   },
   {
    "duration": 0,
    "start_time": "2024-02-19T09:11:18.358Z"
   },
   {
    "duration": 0,
    "start_time": "2024-02-19T09:11:18.359Z"
   },
   {
    "duration": 0,
    "start_time": "2024-02-19T09:11:18.360Z"
   },
   {
    "duration": 0,
    "start_time": "2024-02-19T09:11:18.361Z"
   },
   {
    "duration": 0,
    "start_time": "2024-02-19T09:11:18.362Z"
   },
   {
    "duration": 0,
    "start_time": "2024-02-19T09:11:18.363Z"
   },
   {
    "duration": 0,
    "start_time": "2024-02-19T09:11:18.364Z"
   },
   {
    "duration": 0,
    "start_time": "2024-02-19T09:11:18.365Z"
   },
   {
    "duration": 0,
    "start_time": "2024-02-19T09:11:18.365Z"
   },
   {
    "duration": 0,
    "start_time": "2024-02-19T09:11:18.366Z"
   },
   {
    "duration": 0,
    "start_time": "2024-02-19T09:11:18.367Z"
   },
   {
    "duration": 0,
    "start_time": "2024-02-19T09:11:18.368Z"
   },
   {
    "duration": 0,
    "start_time": "2024-02-19T09:11:18.369Z"
   },
   {
    "duration": 0,
    "start_time": "2024-02-19T09:11:18.370Z"
   },
   {
    "duration": 0,
    "start_time": "2024-02-19T09:11:18.371Z"
   },
   {
    "duration": 0,
    "start_time": "2024-02-19T09:11:18.372Z"
   },
   {
    "duration": 0,
    "start_time": "2024-02-19T09:11:18.373Z"
   },
   {
    "duration": 0,
    "start_time": "2024-02-19T09:11:18.374Z"
   },
   {
    "duration": 0,
    "start_time": "2024-02-19T09:11:18.375Z"
   },
   {
    "duration": 0,
    "start_time": "2024-02-19T09:11:18.376Z"
   },
   {
    "duration": 0,
    "start_time": "2024-02-19T09:11:18.377Z"
   },
   {
    "duration": 0,
    "start_time": "2024-02-19T09:11:18.378Z"
   },
   {
    "duration": 0,
    "start_time": "2024-02-19T09:11:18.379Z"
   },
   {
    "duration": 0,
    "start_time": "2024-02-19T09:11:18.379Z"
   },
   {
    "duration": 0,
    "start_time": "2024-02-19T09:11:18.380Z"
   },
   {
    "duration": 1,
    "start_time": "2024-02-19T09:11:18.381Z"
   },
   {
    "duration": 0,
    "start_time": "2024-02-19T09:11:18.383Z"
   },
   {
    "duration": 0,
    "start_time": "2024-02-19T09:11:18.383Z"
   },
   {
    "duration": 152,
    "start_time": "2024-02-19T09:11:37.490Z"
   },
   {
    "duration": 482,
    "start_time": "2024-02-19T09:11:46.392Z"
   },
   {
    "duration": 31,
    "start_time": "2024-02-19T09:11:46.876Z"
   },
   {
    "duration": 2163,
    "start_time": "2024-02-19T09:11:46.909Z"
   },
   {
    "duration": 24,
    "start_time": "2024-02-19T09:11:49.073Z"
   },
   {
    "duration": 42,
    "start_time": "2024-02-19T09:11:49.098Z"
   },
   {
    "duration": 25,
    "start_time": "2024-02-19T09:11:49.142Z"
   },
   {
    "duration": 8,
    "start_time": "2024-02-19T09:11:49.168Z"
   },
   {
    "duration": 4,
    "start_time": "2024-02-19T09:11:49.178Z"
   },
   {
    "duration": 5,
    "start_time": "2024-02-19T09:11:49.183Z"
   },
   {
    "duration": 8,
    "start_time": "2024-02-19T09:11:49.190Z"
   },
   {
    "duration": 4,
    "start_time": "2024-02-19T09:11:49.199Z"
   },
   {
    "duration": 3,
    "start_time": "2024-02-19T09:11:49.204Z"
   },
   {
    "duration": 282,
    "start_time": "2024-02-19T09:11:49.209Z"
   },
   {
    "duration": 5,
    "start_time": "2024-02-19T09:11:49.492Z"
   },
   {
    "duration": 27,
    "start_time": "2024-02-19T09:11:49.499Z"
   },
   {
    "duration": 7,
    "start_time": "2024-02-19T09:11:49.527Z"
   },
   {
    "duration": 7,
    "start_time": "2024-02-19T09:11:49.536Z"
   },
   {
    "duration": 6,
    "start_time": "2024-02-19T09:11:49.545Z"
   },
   {
    "duration": 10,
    "start_time": "2024-02-19T09:11:49.565Z"
   },
   {
    "duration": 6,
    "start_time": "2024-02-19T09:11:49.577Z"
   },
   {
    "duration": 5,
    "start_time": "2024-02-19T09:11:49.584Z"
   },
   {
    "duration": 4,
    "start_time": "2024-02-19T09:11:49.591Z"
   },
   {
    "duration": 3,
    "start_time": "2024-02-19T09:11:49.596Z"
   },
   {
    "duration": 1569,
    "start_time": "2024-02-19T09:11:49.600Z"
   },
   {
    "duration": 0,
    "start_time": "2024-02-19T09:11:51.172Z"
   },
   {
    "duration": 0,
    "start_time": "2024-02-19T09:11:51.173Z"
   },
   {
    "duration": 0,
    "start_time": "2024-02-19T09:11:51.175Z"
   },
   {
    "duration": 0,
    "start_time": "2024-02-19T09:11:51.175Z"
   },
   {
    "duration": 0,
    "start_time": "2024-02-19T09:11:51.176Z"
   },
   {
    "duration": 0,
    "start_time": "2024-02-19T09:11:51.177Z"
   },
   {
    "duration": 0,
    "start_time": "2024-02-19T09:11:51.178Z"
   },
   {
    "duration": 0,
    "start_time": "2024-02-19T09:11:51.179Z"
   },
   {
    "duration": 0,
    "start_time": "2024-02-19T09:11:51.180Z"
   },
   {
    "duration": 0,
    "start_time": "2024-02-19T09:11:51.181Z"
   },
   {
    "duration": 0,
    "start_time": "2024-02-19T09:11:51.182Z"
   },
   {
    "duration": 0,
    "start_time": "2024-02-19T09:11:51.183Z"
   },
   {
    "duration": 0,
    "start_time": "2024-02-19T09:11:51.184Z"
   },
   {
    "duration": 0,
    "start_time": "2024-02-19T09:11:51.185Z"
   },
   {
    "duration": 0,
    "start_time": "2024-02-19T09:11:51.186Z"
   },
   {
    "duration": 0,
    "start_time": "2024-02-19T09:11:51.187Z"
   },
   {
    "duration": 0,
    "start_time": "2024-02-19T09:11:51.188Z"
   },
   {
    "duration": 0,
    "start_time": "2024-02-19T09:11:51.189Z"
   },
   {
    "duration": 0,
    "start_time": "2024-02-19T09:11:51.190Z"
   },
   {
    "duration": 0,
    "start_time": "2024-02-19T09:11:51.191Z"
   },
   {
    "duration": 0,
    "start_time": "2024-02-19T09:11:51.192Z"
   },
   {
    "duration": 0,
    "start_time": "2024-02-19T09:11:51.193Z"
   },
   {
    "duration": 0,
    "start_time": "2024-02-19T09:11:51.194Z"
   },
   {
    "duration": 0,
    "start_time": "2024-02-19T09:11:51.195Z"
   },
   {
    "duration": 0,
    "start_time": "2024-02-19T09:11:51.196Z"
   },
   {
    "duration": 0,
    "start_time": "2024-02-19T09:11:51.196Z"
   },
   {
    "duration": 0,
    "start_time": "2024-02-19T09:11:51.197Z"
   },
   {
    "duration": 0,
    "start_time": "2024-02-19T09:11:51.199Z"
   },
   {
    "duration": 0,
    "start_time": "2024-02-19T09:11:51.199Z"
   },
   {
    "duration": 0,
    "start_time": "2024-02-19T09:11:51.200Z"
   },
   {
    "duration": 0,
    "start_time": "2024-02-19T09:11:51.201Z"
   },
   {
    "duration": 0,
    "start_time": "2024-02-19T09:11:51.202Z"
   },
   {
    "duration": 357,
    "start_time": "2024-02-19T09:30:29.419Z"
   },
   {
    "duration": 1961,
    "start_time": "2024-02-19T09:33:13.114Z"
   },
   {
    "duration": 1434,
    "start_time": "2024-02-19T09:33:55.027Z"
   },
   {
    "duration": 362,
    "start_time": "2024-02-19T09:37:18.152Z"
   },
   {
    "duration": 1325,
    "start_time": "2024-02-19T09:37:32.625Z"
   },
   {
    "duration": 1280,
    "start_time": "2024-02-19T09:38:15.080Z"
   },
   {
    "duration": 1509,
    "start_time": "2024-02-19T11:30:59.358Z"
   },
   {
    "duration": 327,
    "start_time": "2024-02-19T11:31:55.686Z"
   },
   {
    "duration": 307,
    "start_time": "2024-02-19T11:32:09.480Z"
   },
   {
    "duration": 293,
    "start_time": "2024-02-19T11:32:34.952Z"
   },
   {
    "duration": 302,
    "start_time": "2024-02-19T11:34:32.183Z"
   },
   {
    "duration": 219,
    "start_time": "2024-02-19T11:34:50.694Z"
   },
   {
    "duration": 247,
    "start_time": "2024-02-19T11:46:01.337Z"
   },
   {
    "duration": 234,
    "start_time": "2024-02-19T11:46:45.162Z"
   },
   {
    "duration": 236,
    "start_time": "2024-02-19T11:46:59.373Z"
   },
   {
    "duration": 261,
    "start_time": "2024-02-19T11:51:42.775Z"
   },
   {
    "duration": 301,
    "start_time": "2024-02-19T12:02:44.190Z"
   },
   {
    "duration": 117,
    "start_time": "2024-02-19T12:08:11.393Z"
   },
   {
    "duration": 130,
    "start_time": "2024-02-19T12:08:49.639Z"
   },
   {
    "duration": 115,
    "start_time": "2024-02-19T12:09:02.077Z"
   },
   {
    "duration": 101,
    "start_time": "2024-02-19T12:10:14.011Z"
   },
   {
    "duration": 104,
    "start_time": "2024-02-19T12:10:53.154Z"
   },
   {
    "duration": 14,
    "start_time": "2024-02-19T12:14:48.164Z"
   },
   {
    "duration": 11,
    "start_time": "2024-02-19T12:15:06.710Z"
   },
   {
    "duration": 11,
    "start_time": "2024-02-19T12:16:10.274Z"
   },
   {
    "duration": 10,
    "start_time": "2024-02-19T12:16:40.178Z"
   },
   {
    "duration": 11,
    "start_time": "2024-02-19T12:44:55.644Z"
   },
   {
    "duration": 75,
    "start_time": "2024-02-19T12:45:14.626Z"
   },
   {
    "duration": 10,
    "start_time": "2024-02-19T12:49:31.794Z"
   },
   {
    "duration": 12,
    "start_time": "2024-02-19T12:50:17.093Z"
   },
   {
    "duration": 111,
    "start_time": "2024-02-19T12:50:33.789Z"
   },
   {
    "duration": 100,
    "start_time": "2024-02-19T12:51:17.132Z"
   },
   {
    "duration": 104,
    "start_time": "2024-02-19T12:53:20.743Z"
   },
   {
    "duration": 513,
    "start_time": "2024-02-19T12:53:25.860Z"
   },
   {
    "duration": 29,
    "start_time": "2024-02-19T12:53:26.375Z"
   },
   {
    "duration": 2098,
    "start_time": "2024-02-19T12:53:26.406Z"
   },
   {
    "duration": 26,
    "start_time": "2024-02-19T12:53:28.506Z"
   },
   {
    "duration": 42,
    "start_time": "2024-02-19T12:53:28.533Z"
   },
   {
    "duration": 8,
    "start_time": "2024-02-19T12:53:28.577Z"
   },
   {
    "duration": 32,
    "start_time": "2024-02-19T12:53:28.587Z"
   },
   {
    "duration": 6,
    "start_time": "2024-02-19T12:53:28.620Z"
   },
   {
    "duration": 18,
    "start_time": "2024-02-19T12:53:28.627Z"
   },
   {
    "duration": 18,
    "start_time": "2024-02-19T12:53:28.648Z"
   },
   {
    "duration": 7,
    "start_time": "2024-02-19T12:53:28.668Z"
   },
   {
    "duration": 15,
    "start_time": "2024-02-19T12:53:28.676Z"
   },
   {
    "duration": 305,
    "start_time": "2024-02-19T12:53:28.693Z"
   },
   {
    "duration": 5,
    "start_time": "2024-02-19T12:53:29.000Z"
   },
   {
    "duration": 46,
    "start_time": "2024-02-19T12:53:29.007Z"
   },
   {
    "duration": 26,
    "start_time": "2024-02-19T12:53:29.054Z"
   },
   {
    "duration": 12,
    "start_time": "2024-02-19T12:53:29.081Z"
   },
   {
    "duration": 12,
    "start_time": "2024-02-19T12:53:29.094Z"
   },
   {
    "duration": 26,
    "start_time": "2024-02-19T12:53:29.107Z"
   },
   {
    "duration": 7,
    "start_time": "2024-02-19T12:53:29.134Z"
   },
   {
    "duration": 5,
    "start_time": "2024-02-19T12:53:29.143Z"
   },
   {
    "duration": 17,
    "start_time": "2024-02-19T12:53:29.149Z"
   },
   {
    "duration": 319,
    "start_time": "2024-02-19T12:53:29.168Z"
   },
   {
    "duration": 13,
    "start_time": "2024-02-19T12:53:29.489Z"
   },
   {
    "duration": 33,
    "start_time": "2024-02-19T12:53:29.503Z"
   },
   {
    "duration": 28,
    "start_time": "2024-02-19T12:53:29.537Z"
   },
   {
    "duration": 103,
    "start_time": "2024-02-19T12:53:29.567Z"
   },
   {
    "duration": 6,
    "start_time": "2024-02-19T12:53:29.673Z"
   },
   {
    "duration": 56,
    "start_time": "2024-02-19T12:53:29.681Z"
   },
   {
    "duration": 44,
    "start_time": "2024-02-19T12:53:29.738Z"
   },
   {
    "duration": 303,
    "start_time": "2024-02-19T12:53:29.784Z"
   },
   {
    "duration": 367,
    "start_time": "2024-02-19T12:53:30.089Z"
   },
   {
    "duration": 198,
    "start_time": "2024-02-19T12:53:30.458Z"
   },
   {
    "duration": 313,
    "start_time": "2024-02-19T12:53:30.658Z"
   },
   {
    "duration": 3,
    "start_time": "2024-02-19T12:53:30.972Z"
   },
   {
    "duration": 238,
    "start_time": "2024-02-19T12:53:30.977Z"
   },
   {
    "duration": 180,
    "start_time": "2024-02-19T12:53:31.217Z"
   },
   {
    "duration": 185,
    "start_time": "2024-02-19T12:53:31.398Z"
   },
   {
    "duration": 227,
    "start_time": "2024-02-19T12:53:31.585Z"
   },
   {
    "duration": 2,
    "start_time": "2024-02-19T12:53:31.814Z"
   },
   {
    "duration": 8,
    "start_time": "2024-02-19T12:53:31.817Z"
   },
   {
    "duration": 5,
    "start_time": "2024-02-19T12:53:31.826Z"
   },
   {
    "duration": 461,
    "start_time": "2024-02-19T12:53:31.832Z"
   },
   {
    "duration": 250,
    "start_time": "2024-02-19T12:53:32.295Z"
   },
   {
    "duration": 147,
    "start_time": "2024-02-19T12:53:32.548Z"
   },
   {
    "duration": 145,
    "start_time": "2024-02-19T12:53:32.696Z"
   },
   {
    "duration": 157,
    "start_time": "2024-02-19T12:53:32.842Z"
   },
   {
    "duration": 184,
    "start_time": "2024-02-19T12:53:33.000Z"
   },
   {
    "duration": 151,
    "start_time": "2024-02-19T12:53:33.186Z"
   },
   {
    "duration": 157,
    "start_time": "2024-02-19T12:53:33.338Z"
   },
   {
    "duration": 160,
    "start_time": "2024-02-19T12:53:33.497Z"
   },
   {
    "duration": 186,
    "start_time": "2024-02-19T12:53:33.659Z"
   },
   {
    "duration": 234,
    "start_time": "2024-02-19T12:53:33.847Z"
   },
   {
    "duration": 22,
    "start_time": "2024-02-19T12:53:34.083Z"
   },
   {
    "duration": 127,
    "start_time": "2024-02-19T12:53:34.107Z"
   },
   {
    "duration": 769,
    "start_time": "2024-02-20T09:03:33.021Z"
   },
   {
    "duration": 35,
    "start_time": "2024-02-20T09:03:33.792Z"
   },
   {
    "duration": 2508,
    "start_time": "2024-02-20T09:03:33.828Z"
   },
   {
    "duration": 27,
    "start_time": "2024-02-20T09:03:36.338Z"
   },
   {
    "duration": 42,
    "start_time": "2024-02-20T09:03:36.366Z"
   },
   {
    "duration": 8,
    "start_time": "2024-02-20T09:03:36.409Z"
   },
   {
    "duration": 6,
    "start_time": "2024-02-20T09:03:36.419Z"
   },
   {
    "duration": 4,
    "start_time": "2024-02-20T09:03:36.459Z"
   },
   {
    "duration": 4,
    "start_time": "2024-02-20T09:03:36.465Z"
   },
   {
    "duration": 4,
    "start_time": "2024-02-20T09:03:36.472Z"
   },
   {
    "duration": 6,
    "start_time": "2024-02-20T09:03:36.478Z"
   },
   {
    "duration": 3,
    "start_time": "2024-02-20T09:03:36.485Z"
   },
   {
    "duration": 303,
    "start_time": "2024-02-20T09:03:36.490Z"
   },
   {
    "duration": 5,
    "start_time": "2024-02-20T09:03:36.795Z"
   },
   {
    "duration": 14,
    "start_time": "2024-02-20T09:03:36.801Z"
   },
   {
    "duration": 8,
    "start_time": "2024-02-20T09:03:36.816Z"
   },
   {
    "duration": 6,
    "start_time": "2024-02-20T09:03:36.826Z"
   },
   {
    "duration": 30,
    "start_time": "2024-02-20T09:03:36.834Z"
   },
   {
    "duration": 9,
    "start_time": "2024-02-20T09:03:36.865Z"
   },
   {
    "duration": 4,
    "start_time": "2024-02-20T09:03:36.876Z"
   },
   {
    "duration": 106,
    "start_time": "2024-02-20T09:03:36.881Z"
   },
   {
    "duration": 0,
    "start_time": "2024-02-20T09:03:36.991Z"
   },
   {
    "duration": 0,
    "start_time": "2024-02-20T09:03:36.993Z"
   },
   {
    "duration": 0,
    "start_time": "2024-02-20T09:03:36.995Z"
   },
   {
    "duration": 0,
    "start_time": "2024-02-20T09:03:36.996Z"
   },
   {
    "duration": 0,
    "start_time": "2024-02-20T09:03:36.997Z"
   },
   {
    "duration": 0,
    "start_time": "2024-02-20T09:03:36.999Z"
   },
   {
    "duration": 0,
    "start_time": "2024-02-20T09:03:37.001Z"
   },
   {
    "duration": 0,
    "start_time": "2024-02-20T09:03:37.002Z"
   },
   {
    "duration": 0,
    "start_time": "2024-02-20T09:03:37.004Z"
   },
   {
    "duration": 0,
    "start_time": "2024-02-20T09:03:37.006Z"
   },
   {
    "duration": 0,
    "start_time": "2024-02-20T09:03:37.008Z"
   },
   {
    "duration": 0,
    "start_time": "2024-02-20T09:03:37.009Z"
   },
   {
    "duration": 0,
    "start_time": "2024-02-20T09:03:37.011Z"
   },
   {
    "duration": 0,
    "start_time": "2024-02-20T09:03:37.012Z"
   },
   {
    "duration": 0,
    "start_time": "2024-02-20T09:03:37.015Z"
   },
   {
    "duration": 0,
    "start_time": "2024-02-20T09:03:37.016Z"
   },
   {
    "duration": 0,
    "start_time": "2024-02-20T09:03:37.017Z"
   },
   {
    "duration": 0,
    "start_time": "2024-02-20T09:03:37.059Z"
   },
   {
    "duration": 0,
    "start_time": "2024-02-20T09:03:37.061Z"
   },
   {
    "duration": 0,
    "start_time": "2024-02-20T09:03:37.062Z"
   },
   {
    "duration": 0,
    "start_time": "2024-02-20T09:03:37.063Z"
   },
   {
    "duration": 0,
    "start_time": "2024-02-20T09:03:37.064Z"
   },
   {
    "duration": 1,
    "start_time": "2024-02-20T09:03:37.065Z"
   },
   {
    "duration": 0,
    "start_time": "2024-02-20T09:03:37.067Z"
   },
   {
    "duration": 0,
    "start_time": "2024-02-20T09:03:37.068Z"
   },
   {
    "duration": 0,
    "start_time": "2024-02-20T09:03:37.069Z"
   },
   {
    "duration": 0,
    "start_time": "2024-02-20T09:03:37.070Z"
   },
   {
    "duration": 0,
    "start_time": "2024-02-20T09:03:37.071Z"
   },
   {
    "duration": 0,
    "start_time": "2024-02-20T09:03:37.072Z"
   },
   {
    "duration": 0,
    "start_time": "2024-02-20T09:03:37.073Z"
   },
   {
    "duration": 0,
    "start_time": "2024-02-20T09:03:37.075Z"
   },
   {
    "duration": 0,
    "start_time": "2024-02-20T09:03:37.076Z"
   },
   {
    "duration": 0,
    "start_time": "2024-02-20T09:03:37.077Z"
   },
   {
    "duration": 0,
    "start_time": "2024-02-20T09:03:37.078Z"
   },
   {
    "duration": 0,
    "start_time": "2024-02-20T09:03:37.079Z"
   },
   {
    "duration": 0,
    "start_time": "2024-02-20T09:03:37.081Z"
   },
   {
    "duration": 6,
    "start_time": "2024-02-20T09:03:45.914Z"
   },
   {
    "duration": 521,
    "start_time": "2024-02-20T09:04:00.691Z"
   },
   {
    "duration": 33,
    "start_time": "2024-02-20T09:04:01.214Z"
   },
   {
    "duration": 2407,
    "start_time": "2024-02-20T09:04:01.249Z"
   },
   {
    "duration": 27,
    "start_time": "2024-02-20T09:04:03.659Z"
   },
   {
    "duration": 82,
    "start_time": "2024-02-20T09:04:03.688Z"
   },
   {
    "duration": 23,
    "start_time": "2024-02-20T09:04:03.772Z"
   },
   {
    "duration": 36,
    "start_time": "2024-02-20T09:04:03.797Z"
   },
   {
    "duration": 7,
    "start_time": "2024-02-20T09:04:03.835Z"
   },
   {
    "duration": 5,
    "start_time": "2024-02-20T09:04:03.844Z"
   },
   {
    "duration": 7,
    "start_time": "2024-02-20T09:04:03.854Z"
   },
   {
    "duration": 6,
    "start_time": "2024-02-20T09:04:03.863Z"
   },
   {
    "duration": 7,
    "start_time": "2024-02-20T09:04:03.871Z"
   },
   {
    "duration": 349,
    "start_time": "2024-02-20T09:04:03.880Z"
   },
   {
    "duration": 6,
    "start_time": "2024-02-20T09:04:04.230Z"
   },
   {
    "duration": 24,
    "start_time": "2024-02-20T09:04:04.238Z"
   },
   {
    "duration": 10,
    "start_time": "2024-02-20T09:04:04.264Z"
   },
   {
    "duration": 7,
    "start_time": "2024-02-20T09:04:04.276Z"
   },
   {
    "duration": 7,
    "start_time": "2024-02-20T09:04:04.285Z"
   },
   {
    "duration": 9,
    "start_time": "2024-02-20T09:04:04.294Z"
   },
   {
    "duration": 5,
    "start_time": "2024-02-20T09:04:04.305Z"
   },
   {
    "duration": 5,
    "start_time": "2024-02-20T09:04:04.312Z"
   },
   {
    "duration": 6,
    "start_time": "2024-02-20T09:04:04.358Z"
   },
   {
    "duration": 357,
    "start_time": "2024-02-20T09:04:04.365Z"
   },
   {
    "duration": 14,
    "start_time": "2024-02-20T09:04:04.724Z"
   },
   {
    "duration": 49,
    "start_time": "2024-02-20T09:04:04.740Z"
   },
   {
    "duration": 6,
    "start_time": "2024-02-20T09:04:04.791Z"
   },
   {
    "duration": 118,
    "start_time": "2024-02-20T09:04:04.799Z"
   },
   {
    "duration": 8,
    "start_time": "2024-02-20T09:04:04.921Z"
   },
   {
    "duration": 40,
    "start_time": "2024-02-20T09:04:04.930Z"
   },
   {
    "duration": 50,
    "start_time": "2024-02-20T09:04:04.972Z"
   },
   {
    "duration": 351,
    "start_time": "2024-02-20T09:04:05.023Z"
   },
   {
    "duration": 406,
    "start_time": "2024-02-20T09:04:05.375Z"
   },
   {
    "duration": 218,
    "start_time": "2024-02-20T09:04:05.783Z"
   },
   {
    "duration": 333,
    "start_time": "2024-02-20T09:04:06.003Z"
   },
   {
    "duration": 3,
    "start_time": "2024-02-20T09:04:06.338Z"
   },
   {
    "duration": 239,
    "start_time": "2024-02-20T09:04:06.343Z"
   },
   {
    "duration": 205,
    "start_time": "2024-02-20T09:04:06.584Z"
   },
   {
    "duration": 215,
    "start_time": "2024-02-20T09:04:06.791Z"
   },
   {
    "duration": 264,
    "start_time": "2024-02-20T09:04:07.009Z"
   },
   {
    "duration": 2,
    "start_time": "2024-02-20T09:04:07.275Z"
   },
   {
    "duration": 14,
    "start_time": "2024-02-20T09:04:07.278Z"
   },
   {
    "duration": 11,
    "start_time": "2024-02-20T09:04:07.294Z"
   },
   {
    "duration": 524,
    "start_time": "2024-02-20T09:04:07.307Z"
   },
   {
    "duration": 264,
    "start_time": "2024-02-20T09:04:07.833Z"
   },
   {
    "duration": 170,
    "start_time": "2024-02-20T09:04:08.098Z"
   },
   {
    "duration": 170,
    "start_time": "2024-02-20T09:04:08.270Z"
   },
   {
    "duration": 180,
    "start_time": "2024-02-20T09:04:08.442Z"
   },
   {
    "duration": 207,
    "start_time": "2024-02-20T09:04:08.624Z"
   },
   {
    "duration": 181,
    "start_time": "2024-02-20T09:04:08.833Z"
   },
   {
    "duration": 184,
    "start_time": "2024-02-20T09:04:09.016Z"
   },
   {
    "duration": 161,
    "start_time": "2024-02-20T09:04:09.202Z"
   },
   {
    "duration": 180,
    "start_time": "2024-02-20T09:04:09.365Z"
   },
   {
    "duration": 257,
    "start_time": "2024-02-20T09:04:09.558Z"
   },
   {
    "duration": 25,
    "start_time": "2024-02-20T09:04:09.816Z"
   },
   {
    "duration": 153,
    "start_time": "2024-02-20T09:04:09.842Z"
   },
   {
    "duration": 53,
    "start_time": "2024-02-20T11:09:59.094Z"
   },
   {
    "duration": 7,
    "start_time": "2024-02-20T11:10:12.826Z"
   },
   {
    "duration": 7,
    "start_time": "2024-02-20T11:10:39.522Z"
   },
   {
    "duration": 614,
    "start_time": "2024-02-20T11:10:45.587Z"
   },
   {
    "duration": 33,
    "start_time": "2024-02-20T11:10:46.203Z"
   },
   {
    "duration": 2677,
    "start_time": "2024-02-20T11:10:46.239Z"
   },
   {
    "duration": 28,
    "start_time": "2024-02-20T11:10:48.917Z"
   },
   {
    "duration": 62,
    "start_time": "2024-02-20T11:10:48.947Z"
   },
   {
    "duration": 9,
    "start_time": "2024-02-20T11:10:49.010Z"
   },
   {
    "duration": 6,
    "start_time": "2024-02-20T11:10:49.021Z"
   },
   {
    "duration": 11,
    "start_time": "2024-02-20T11:10:49.028Z"
   },
   {
    "duration": 8,
    "start_time": "2024-02-20T11:10:49.042Z"
   },
   {
    "duration": 5,
    "start_time": "2024-02-20T11:10:49.051Z"
   },
   {
    "duration": 34,
    "start_time": "2024-02-20T11:10:49.058Z"
   },
   {
    "duration": 5,
    "start_time": "2024-02-20T11:10:49.093Z"
   },
   {
    "duration": 295,
    "start_time": "2024-02-20T11:10:49.100Z"
   },
   {
    "duration": 6,
    "start_time": "2024-02-20T11:10:49.397Z"
   },
   {
    "duration": 19,
    "start_time": "2024-02-20T11:10:49.404Z"
   },
   {
    "duration": 9,
    "start_time": "2024-02-20T11:10:49.424Z"
   },
   {
    "duration": 29,
    "start_time": "2024-02-20T11:10:49.435Z"
   },
   {
    "duration": 109,
    "start_time": "2024-02-20T11:10:49.465Z"
   },
   {
    "duration": 35,
    "start_time": "2024-02-20T11:10:49.576Z"
   },
   {
    "duration": 14,
    "start_time": "2024-02-20T11:10:49.612Z"
   },
   {
    "duration": 8,
    "start_time": "2024-02-20T11:10:49.628Z"
   },
   {
    "duration": 15,
    "start_time": "2024-02-20T11:10:49.638Z"
   },
   {
    "duration": 375,
    "start_time": "2024-02-20T11:10:49.655Z"
   },
   {
    "duration": 15,
    "start_time": "2024-02-20T11:10:50.032Z"
   },
   {
    "duration": 45,
    "start_time": "2024-02-20T11:10:50.049Z"
   },
   {
    "duration": 7,
    "start_time": "2024-02-20T11:10:50.095Z"
   },
   {
    "duration": 141,
    "start_time": "2024-02-20T11:10:50.106Z"
   },
   {
    "duration": 7,
    "start_time": "2024-02-20T11:10:50.249Z"
   },
   {
    "duration": 36,
    "start_time": "2024-02-20T11:10:50.257Z"
   },
   {
    "duration": 87,
    "start_time": "2024-02-20T11:10:50.295Z"
   },
   {
    "duration": 317,
    "start_time": "2024-02-20T11:10:50.384Z"
   },
   {
    "duration": 426,
    "start_time": "2024-02-20T11:10:50.703Z"
   },
   {
    "duration": 238,
    "start_time": "2024-02-20T11:10:51.130Z"
   },
   {
    "duration": 349,
    "start_time": "2024-02-20T11:10:51.370Z"
   },
   {
    "duration": 3,
    "start_time": "2024-02-20T11:10:51.720Z"
   },
   {
    "duration": 225,
    "start_time": "2024-02-20T11:10:51.724Z"
   },
   {
    "duration": 236,
    "start_time": "2024-02-20T11:10:51.951Z"
   },
   {
    "duration": 211,
    "start_time": "2024-02-20T11:10:52.188Z"
   },
   {
    "duration": 258,
    "start_time": "2024-02-20T11:10:52.401Z"
   },
   {
    "duration": 3,
    "start_time": "2024-02-20T11:10:52.661Z"
   },
   {
    "duration": 9,
    "start_time": "2024-02-20T11:10:52.665Z"
   },
   {
    "duration": 16,
    "start_time": "2024-02-20T11:10:52.676Z"
   },
   {
    "duration": 523,
    "start_time": "2024-02-20T11:10:52.694Z"
   },
   {
    "duration": 274,
    "start_time": "2024-02-20T11:10:53.219Z"
   },
   {
    "duration": 163,
    "start_time": "2024-02-20T11:10:53.495Z"
   },
   {
    "duration": 159,
    "start_time": "2024-02-20T11:10:53.660Z"
   },
   {
    "duration": 171,
    "start_time": "2024-02-20T11:10:53.821Z"
   },
   {
    "duration": 207,
    "start_time": "2024-02-20T11:10:53.993Z"
   },
   {
    "duration": 163,
    "start_time": "2024-02-20T11:10:54.201Z"
   },
   {
    "duration": 180,
    "start_time": "2024-02-20T11:10:54.366Z"
   },
   {
    "duration": 204,
    "start_time": "2024-02-20T11:10:54.548Z"
   },
   {
    "duration": 255,
    "start_time": "2024-02-20T11:10:54.753Z"
   },
   {
    "duration": 183,
    "start_time": "2024-02-20T11:10:55.010Z"
   },
   {
    "duration": 26,
    "start_time": "2024-02-20T11:10:55.194Z"
   },
   {
    "duration": 147,
    "start_time": "2024-02-20T11:10:55.221Z"
   },
   {
    "duration": 343,
    "start_time": "2024-02-20T12:05:57.427Z"
   },
   {
    "duration": 304,
    "start_time": "2024-02-20T12:51:46.360Z"
   },
   {
    "duration": 335,
    "start_time": "2024-02-20T12:52:00.062Z"
   },
   {
    "duration": 205,
    "start_time": "2024-02-20T12:52:31.911Z"
   },
   {
    "duration": 221,
    "start_time": "2024-02-20T12:53:13.447Z"
   },
   {
    "duration": 293,
    "start_time": "2024-02-20T13:03:11.085Z"
   },
   {
    "duration": 193,
    "start_time": "2024-02-20T13:03:22.700Z"
   },
   {
    "duration": 264,
    "start_time": "2024-02-20T13:11:21.709Z"
   },
   {
    "duration": 196,
    "start_time": "2024-02-20T13:12:58.535Z"
   },
   {
    "duration": 187,
    "start_time": "2024-02-20T13:13:09.515Z"
   },
   {
    "duration": 250,
    "start_time": "2024-02-20T13:13:22.604Z"
   },
   {
    "duration": 93,
    "start_time": "2024-02-20T13:16:32.039Z"
   },
   {
    "duration": 18,
    "start_time": "2024-02-20T13:17:00.119Z"
   },
   {
    "duration": 18,
    "start_time": "2024-02-20T13:24:46.865Z"
   },
   {
    "duration": 703,
    "start_time": "2024-02-20T13:25:02.273Z"
   },
   {
    "duration": 171,
    "start_time": "2024-02-20T13:25:31.199Z"
   },
   {
    "duration": 19,
    "start_time": "2024-02-20T13:28:12.328Z"
   },
   {
    "duration": 9,
    "start_time": "2024-02-20T13:28:23.085Z"
   },
   {
    "duration": 7,
    "start_time": "2024-02-20T14:11:42.309Z"
   },
   {
    "duration": 720,
    "start_time": "2024-06-24T09:12:00.308Z"
   },
   {
    "duration": 36,
    "start_time": "2024-06-24T09:12:01.031Z"
   },
   {
    "duration": 2624,
    "start_time": "2024-06-24T09:12:01.069Z"
   },
   {
    "duration": 29,
    "start_time": "2024-06-24T09:12:03.695Z"
   },
   {
    "duration": 67,
    "start_time": "2024-06-24T09:12:03.726Z"
   },
   {
    "duration": 10,
    "start_time": "2024-06-24T09:12:03.794Z"
   },
   {
    "duration": 24,
    "start_time": "2024-06-24T09:12:03.806Z"
   },
   {
    "duration": 25,
    "start_time": "2024-06-24T09:12:03.832Z"
   },
   {
    "duration": 39,
    "start_time": "2024-06-24T09:12:03.859Z"
   },
   {
    "duration": 15,
    "start_time": "2024-06-24T09:12:03.902Z"
   },
   {
    "duration": 37,
    "start_time": "2024-06-24T09:12:03.919Z"
   },
   {
    "duration": 24,
    "start_time": "2024-06-24T09:12:03.957Z"
   },
   {
    "duration": 318,
    "start_time": "2024-06-24T09:12:03.983Z"
   },
   {
    "duration": 7,
    "start_time": "2024-06-24T09:12:04.303Z"
   },
   {
    "duration": 40,
    "start_time": "2024-06-24T09:12:04.311Z"
   },
   {
    "duration": 9,
    "start_time": "2024-06-24T09:12:04.352Z"
   },
   {
    "duration": 32,
    "start_time": "2024-06-24T09:12:04.362Z"
   },
   {
    "duration": 17,
    "start_time": "2024-06-24T09:12:04.395Z"
   },
   {
    "duration": 24,
    "start_time": "2024-06-24T09:12:04.414Z"
   },
   {
    "duration": 33,
    "start_time": "2024-06-24T09:12:04.440Z"
   },
   {
    "duration": 19,
    "start_time": "2024-06-24T09:12:04.476Z"
   },
   {
    "duration": 23,
    "start_time": "2024-06-24T09:12:04.497Z"
   },
   {
    "duration": 391,
    "start_time": "2024-06-24T09:12:04.522Z"
   },
   {
    "duration": 150,
    "start_time": "2024-06-24T09:12:04.914Z"
   },
   {
    "duration": 15,
    "start_time": "2024-06-24T09:12:05.065Z"
   },
   {
    "duration": 71,
    "start_time": "2024-06-24T09:12:05.081Z"
   },
   {
    "duration": 7,
    "start_time": "2024-06-24T09:12:05.153Z"
   },
   {
    "duration": 126,
    "start_time": "2024-06-24T09:12:05.163Z"
   },
   {
    "duration": 8,
    "start_time": "2024-06-24T09:12:05.291Z"
   },
   {
    "duration": 31,
    "start_time": "2024-06-24T09:12:05.300Z"
   },
   {
    "duration": 62,
    "start_time": "2024-06-24T09:12:05.333Z"
   },
   {
    "duration": 429,
    "start_time": "2024-06-24T09:12:05.397Z"
   },
   {
    "duration": 338,
    "start_time": "2024-06-24T09:12:05.829Z"
   },
   {
    "duration": 212,
    "start_time": "2024-06-24T09:12:06.168Z"
   },
   {
    "duration": 343,
    "start_time": "2024-06-24T09:12:06.381Z"
   },
   {
    "duration": 3,
    "start_time": "2024-06-24T09:12:06.725Z"
   },
   {
    "duration": 256,
    "start_time": "2024-06-24T09:12:06.729Z"
   },
   {
    "duration": 261,
    "start_time": "2024-06-24T09:12:06.987Z"
   },
   {
    "duration": 242,
    "start_time": "2024-06-24T09:12:07.250Z"
   },
   {
    "duration": 202,
    "start_time": "2024-06-24T09:12:07.494Z"
   },
   {
    "duration": 339,
    "start_time": "2024-06-24T09:12:07.698Z"
   },
   {
    "duration": 3,
    "start_time": "2024-06-24T09:12:08.038Z"
   },
   {
    "duration": 26,
    "start_time": "2024-06-24T09:12:08.042Z"
   },
   {
    "duration": 19,
    "start_time": "2024-06-24T09:12:08.070Z"
   },
   {
    "duration": 424,
    "start_time": "2024-06-24T09:12:08.090Z"
   },
   {
    "duration": 290,
    "start_time": "2024-06-24T09:12:08.516Z"
   },
   {
    "duration": 184,
    "start_time": "2024-06-24T09:12:08.808Z"
   },
   {
    "duration": 188,
    "start_time": "2024-06-24T09:12:08.994Z"
   },
   {
    "duration": 184,
    "start_time": "2024-06-24T09:12:09.184Z"
   },
   {
    "duration": 205,
    "start_time": "2024-06-24T09:12:09.370Z"
   },
   {
    "duration": 167,
    "start_time": "2024-06-24T09:12:09.577Z"
   },
   {
    "duration": 251,
    "start_time": "2024-06-24T09:12:09.746Z"
   },
   {
    "duration": 181,
    "start_time": "2024-06-24T09:12:09.998Z"
   },
   {
    "duration": 191,
    "start_time": "2024-06-24T09:12:10.181Z"
   },
   {
    "duration": 188,
    "start_time": "2024-06-24T09:12:10.374Z"
   },
   {
    "duration": 30,
    "start_time": "2024-06-24T09:12:10.563Z"
   },
   {
    "duration": 164,
    "start_time": "2024-06-24T09:12:10.595Z"
   },
   {
    "duration": 178,
    "start_time": "2024-06-24T09:13:35.793Z"
   },
   {
    "duration": 187,
    "start_time": "2024-06-24T09:13:37.955Z"
   },
   {
    "duration": 158,
    "start_time": "2024-06-24T09:13:39.546Z"
   },
   {
    "duration": 170,
    "start_time": "2024-06-24T09:13:41.129Z"
   },
   {
    "duration": 157,
    "start_time": "2024-06-24T09:13:42.912Z"
   }
  ],
  "colab": {
   "provenance": []
  },
  "kernelspec": {
   "display_name": "Python 3 (ipykernel)",
   "language": "python",
   "name": "python3"
  },
  "language_info": {
   "codemirror_mode": {
    "name": "ipython",
    "version": 3
   },
   "file_extension": ".py",
   "mimetype": "text/x-python",
   "name": "python",
   "nbconvert_exporter": "python",
   "pygments_lexer": "ipython3",
   "version": "3.9.5"
  },
  "toc": {
   "base_numbering": 1,
   "nav_menu": {},
   "number_sections": true,
   "sideBar": true,
   "skip_h1_title": true,
   "title_cell": "Table of Contents",
   "title_sidebar": "Contents",
   "toc_cell": false,
   "toc_position": {},
   "toc_section_display": true,
   "toc_window_display": true
  }
 },
 "nbformat": 4,
 "nbformat_minor": 1
}
